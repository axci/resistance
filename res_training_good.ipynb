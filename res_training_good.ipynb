{
 "cells": [
  {
   "cell_type": "code",
   "execution_count": 1,
   "id": "e935b3f2-70e9-4643-bc93-3f9b641a6e21",
   "metadata": {
    "tags": []
   },
   "outputs": [],
   "source": [
    "from env.res_env_evil import ResistanceEvilEnv\n",
    "from env.res_env_good import ResistanceGoodEnv\n",
    "\n",
    "import numpy as np\n",
    "import os\n",
    "import numpy as np\n",
    "from runner.runner_res_evil_trainer import RunnerMA_Evil\n",
    "from runner.runner_res_good_trainer import RunnerMA_Good\n",
    "\n"
   ]
  },
  {
   "cell_type": "markdown",
   "id": "d5039e6f-d2bc-4dac-8787-48e6f0fa9123",
   "metadata": {},
   "source": [
    "### Restore Trained Evil policy"
   ]
  },
  {
   "cell_type": "code",
   "execution_count": 17,
   "id": "ee79ce95-82a7-4887-b1a8-56a6283d958d",
   "metadata": {
    "tags": []
   },
   "outputs": [
    {
     "data": {
      "text/plain": [
       "<alg.mappo.MAPPOPolicy at 0x1120ca9d0>"
      ]
     },
     "execution_count": 17,
     "metadata": {},
     "output_type": "execute_result"
    }
   ],
   "source": [
    "# Example configuration\n",
    "class Args:\n",
    "    def __init__(self):\n",
    "        self.env_name = 'Resistance Evil Env'\n",
    "        self.algorithm_name = 'MAPPO'\n",
    "        self.experiment_name = 'Res Experience'\n",
    "        self.use_centralized_V = True\n",
    "        self.num_env_steps = 7\n",
    "        self.episode_length = 7\n",
    "        self.n_rollout_threads = 1\n",
    "        self.use_linear_lr_decay = False\n",
    "        self.hidden_size = 64\n",
    "        self.gamma = .99\n",
    "        self.gae_lambda = .95\n",
    "        self._use_gae = True\n",
    "        self.actor_lr = 7e-4\n",
    "        self.critic_lr = 1e-3\n",
    "        self.opti_eps=1e-5\n",
    "        self.weight_decay=0\n",
    "        self.gamma=0.99\n",
    "        self.clip_param=0.2\n",
    "        self.value_loss_coef=1\n",
    "        self.entropy_coef=0.01\n",
    "        self.ppo_epoch=10\n",
    "        self.num_mini_batch=1\n",
    "        self.huber_delta=10.0\n",
    "        self.use_huber_loss=True\n",
    "        self.use_clipped_value_loss=True\n",
    "        self.gain = 0.01\n",
    "        self.use_orthogonal = True\n",
    "        self.use_feature_normalization = True\n",
    "        self.use_ReLU = True\n",
    "        self.layer_N = 1\n",
    "        self.log_interval = 10000  # log every x steps\n",
    "        \n",
    "env = ResistanceEvilEnv()\n",
    "\n",
    "config = {\n",
    "    'all_args': Args(),\n",
    "    'env': env,\n",
    "    'device': 'cpu',\n",
    "    'num_agents': 1,\n",
    "    'good_policy': None,\n",
    "}\n",
    "runner_evil = RunnerMA_Evil(config)\n",
    "runner_evil.restore('save_dir')\n",
    "evil_policy = runner_evil.trainer.policy\n",
    "evil_policy"
   ]
  },
  {
   "cell_type": "markdown",
   "id": "2a8e84c4-8ba2-4d29-a484-99325f86ce4e",
   "metadata": {},
   "source": [
    "### Set Up Good Trainer"
   ]
  },
  {
   "cell_type": "code",
   "execution_count": 18,
   "id": "22e8f2e9-d48c-4e6d-9724-acc6c22561ad",
   "metadata": {
    "tags": []
   },
   "outputs": [],
   "source": [
    "# Example configuration\n",
    "class Args:\n",
    "    def __init__(self):\n",
    "        self.env_name = 'Resistance Evil Env'\n",
    "        self.algorithm_name = 'MAPPO'\n",
    "        self.experiment_name = 'Res Experience'\n",
    "        self.use_centralized_V = True\n",
    "        self.num_env_steps = 700000\n",
    "        self.episode_length = 1000\n",
    "        self.n_rollout_threads = 1\n",
    "        self.use_linear_lr_decay = False\n",
    "        self.hidden_size = 64\n",
    "        self.gamma = .99\n",
    "        self.gae_lambda = .95\n",
    "        self._use_gae = True\n",
    "        self.actor_lr = 7e-4\n",
    "        self.critic_lr = 1e-3\n",
    "        self.opti_eps=1e-5\n",
    "        self.weight_decay=0\n",
    "        self.gamma=0.99\n",
    "        self.clip_param=0.2\n",
    "        self.value_loss_coef=1\n",
    "        self.entropy_coef=0.01\n",
    "        self.ppo_epoch=10\n",
    "        self.num_mini_batch=1\n",
    "        self.huber_delta=10.0\n",
    "        self.use_huber_loss=True\n",
    "        self.use_clipped_value_loss=True\n",
    "        self.gain = 0.01\n",
    "        self.use_orthogonal = True\n",
    "        self.use_feature_normalization = True\n",
    "        self.use_ReLU = True\n",
    "        self.layer_N = 1\n",
    "        self.log_interval = 100000  # log every x steps\n",
    "        \n",
    "env = ResistanceGoodEnv()\n",
    "\n",
    "config = {\n",
    "    'all_args': Args(),\n",
    "    'env': env,\n",
    "    'device': 'cpu',\n",
    "    'num_agents': 3,\n",
    "    'evil_policy': evil_policy\n",
    "}\n",
    "runner_good = RunnerMA_Good(config)\n",
    "runner_good.restore('save_dir')"
   ]
  },
  {
   "cell_type": "code",
   "execution_count": 13,
   "id": "dbc86881-715b-414b-9653-add10013319e",
   "metadata": {
    "tags": []
   },
   "outputs": [],
   "source": [
    "#runner_good.warmup()"
   ]
  },
  {
   "cell_type": "code",
   "execution_count": 20,
   "id": "464fb6bc-81b1-45c9-aa9f-4f9d686e51a1",
   "metadata": {
    "tags": []
   },
   "outputs": [
    {
     "name": "stderr",
     "output_type": "stream",
     "text": [
      " 14%|█▍        | 100/700 [01:44<10:32,  1.05s/it]"
     ]
    },
    {
     "name": "stdout",
     "output_type": "stream",
     "text": [
      "\n",
      "99 / 700 episodes, total number of timesteps: 100000/700000, FPS 952. \n",
      "average episode rewards is -14.999999664723873 (av.reward: -0.014999999664723873 * ep_length 1000)\n"
     ]
    },
    {
     "name": "stderr",
     "output_type": "stream",
     "text": [
      " 29%|██▊       | 200/700 [03:29<08:43,  1.05s/it]"
     ]
    },
    {
     "name": "stdout",
     "output_type": "stream",
     "text": [
      "\n",
      "199 / 700 episodes, total number of timesteps: 200000/700000, FPS 952. \n",
      "average episode rewards is 79.00000363588333 (av.reward: 0.07900000363588333 * ep_length 1000)\n"
     ]
    },
    {
     "name": "stderr",
     "output_type": "stream",
     "text": [
      " 43%|████▎     | 300/700 [05:14<06:58,  1.05s/it]"
     ]
    },
    {
     "name": "stdout",
     "output_type": "stream",
     "text": [
      "\n",
      "299 / 700 episodes, total number of timesteps: 300000/700000, FPS 952. \n",
      "average episode rewards is 57.00000002980232 (av.reward: 0.05700000002980232 * ep_length 1000)\n"
     ]
    },
    {
     "name": "stderr",
     "output_type": "stream",
     "text": [
      " 57%|█████▋    | 400/700 [06:58<05:07,  1.03s/it]"
     ]
    },
    {
     "name": "stdout",
     "output_type": "stream",
     "text": [
      "\n",
      "399 / 700 episodes, total number of timesteps: 400000/700000, FPS 954. \n",
      "average episode rewards is 21.99999988079071 (av.reward: 0.02199999988079071 * ep_length 1000)\n"
     ]
    },
    {
     "name": "stderr",
     "output_type": "stream",
     "text": [
      " 71%|███████▏  | 500/700 [08:41<03:25,  1.03s/it]"
     ]
    },
    {
     "name": "stdout",
     "output_type": "stream",
     "text": [
      "\n",
      "499 / 700 episodes, total number of timesteps: 500000/700000, FPS 958. \n",
      "average episode rewards is 97.00000286102295 (av.reward: 0.09700000286102295 * ep_length 1000)\n"
     ]
    },
    {
     "name": "stderr",
     "output_type": "stream",
     "text": [
      " 86%|████████▌ | 600/700 [10:24<01:42,  1.02s/it]"
     ]
    },
    {
     "name": "stdout",
     "output_type": "stream",
     "text": [
      "\n",
      "599 / 700 episodes, total number of timesteps: 600000/700000, FPS 960. \n",
      "average episode rewards is 215.0000035762787 (av.reward: 0.2150000035762787 * ep_length 1000)\n"
     ]
    },
    {
     "name": "stderr",
     "output_type": "stream",
     "text": [
      "100%|██████████| 700/700 [12:07<00:00,  1.04s/it]"
     ]
    },
    {
     "name": "stdout",
     "output_type": "stream",
     "text": [
      "\n",
      "699 / 700 episodes, total number of timesteps: 700000/700000, FPS 962. \n",
      "average episode rewards is 96.00000083446503 (av.reward: 0.09600000083446503 * ep_length 1000)\n"
     ]
    },
    {
     "name": "stderr",
     "output_type": "stream",
     "text": [
      "\n"
     ]
    },
    {
     "data": {
      "image/png": "[encoded data removed]",
      "text/plain": [
       "<Figure size 640x480 with 1 Axes>"
      ]
     },
     "metadata": {},
     "output_type": "display_data"
    }
   ],
   "source": [
    "runner_good.run()"
   ]
  },
  {
   "cell_type": "code",
   "execution_count": 22,
   "id": "fa6db9df-def9-47f8-a7ac-2eaec10ce72b",
   "metadata": {
    "tags": []
   },
   "outputs": [],
   "source": [
    "runner_good.save()"
   ]
  },
  {
   "cell_type": "code",
   "execution_count": 21,
   "id": "296bcfa0-b7e6-46c0-86c0-b7a1d0593c97",
   "metadata": {
    "tags": []
   },
   "outputs": [
    {
     "name": "stdout",
     "output_type": "stream",
     "text": [
      "Episode 1: Reward = 33, Number of steps: 28\n",
      "=======  EPISODE END  ================\n",
      "\n",
      "Episode 2: Reward = 30, Number of steps: 33\n",
      "=======  EPISODE END  ================\n",
      "\n",
      "Episode 3: Reward = 36, Number of steps: 17\n",
      "=======  EPISODE END  ================\n",
      "\n",
      "Episode 4: Reward = 30, Number of steps: 27\n",
      "=======  EPISODE END  ================\n",
      "\n",
      "Episode 5: Reward = 30, Number of steps: 31\n",
      "=======  EPISODE END  ================\n",
      "\n",
      "Episode 6: Reward = 33, Number of steps: 28\n",
      "=======  EPISODE END  ================\n",
      "\n",
      "Episode 7: Reward = 33, Number of steps: 28\n",
      "=======  EPISODE END  ================\n",
      "\n",
      "Episode 8: Reward = 33, Number of steps: 30\n",
      "=======  EPISODE END  ================\n",
      "\n",
      "Episode 9: Reward = 33, Number of steps: 28\n",
      "=======  EPISODE END  ================\n",
      "\n",
      "Episode 10: Reward = 33, Number of steps: 36\n",
      "=======  EPISODE END  ================\n",
      "\n",
      "Episode 11: Reward = -30, Number of steps: 31\n",
      "=======  EPISODE END  ================\n",
      "\n",
      "Episode 12: Reward = 36, Number of steps: 17\n",
      "=======  EPISODE END  ================\n",
      "\n",
      "Episode 13: Reward = 33, Number of steps: 28\n",
      "=======  EPISODE END  ================\n",
      "\n",
      "Episode 14: Reward = 33, Number of steps: 36\n",
      "=======  EPISODE END  ================\n",
      "\n",
      "Episode 15: Reward = 30, Number of steps: 35\n",
      "=======  EPISODE END  ================\n",
      "\n",
      "Episode 16: Reward = -36, Number of steps: 21\n",
      "=======  EPISODE END  ================\n",
      "\n",
      "Episode 17: Reward = 30, Number of steps: 35\n",
      "=======  EPISODE END  ================\n",
      "\n",
      "Episode 18: Reward = 30, Number of steps: 31\n",
      "=======  EPISODE END  ================\n",
      "\n",
      "Episode 19: Reward = 30, Number of steps: 31\n",
      "=======  EPISODE END  ================\n",
      "\n",
      "Episode 20: Reward = 36, Number of steps: 29\n",
      "=======  EPISODE END  ================\n",
      "\n",
      "Episode 21: Reward = 36, Number of steps: 29\n",
      "=======  EPISODE END  ================\n",
      "\n",
      "Episode 22: Reward = 30, Number of steps: 31\n",
      "=======  EPISODE END  ================\n",
      "\n",
      "Episode 23: Reward = -33, Number of steps: 30\n",
      "=======  EPISODE END  ================\n",
      "\n",
      "Episode 24: Reward = 33, Number of steps: 28\n",
      "=======  EPISODE END  ================\n",
      "\n",
      "Episode 25: Reward = 30, Number of steps: 33\n",
      "=======  EPISODE END  ================\n",
      "\n",
      "Episode 26: Reward = 30, Number of steps: 31\n",
      "=======  EPISODE END  ================\n",
      "\n",
      "Episode 27: Reward = 33, Number of steps: 28\n",
      "=======  EPISODE END  ================\n",
      "\n",
      "Episode 28: Reward = -33, Number of steps: 28\n",
      "=======  EPISODE END  ================\n",
      "\n",
      "Episode 29: Reward = -33, Number of steps: 36\n",
      "=======  EPISODE END  ================\n",
      "\n",
      "Episode 30: Reward = 33, Number of steps: 28\n",
      "=======  EPISODE END  ================\n",
      "\n",
      "Episode 31: Reward = -33, Number of steps: 24\n",
      "=======  EPISODE END  ================\n",
      "\n",
      "Episode 32: Reward = 36, Number of steps: 17\n",
      "=======  EPISODE END  ================\n",
      "\n",
      "Episode 33: Reward = 33, Number of steps: 30\n",
      "=======  EPISODE END  ================\n",
      "\n",
      "Episode 34: Reward = 33, Number of steps: 28\n",
      "=======  EPISODE END  ================\n",
      "\n",
      "Episode 35: Reward = 33, Number of steps: 36\n",
      "=======  EPISODE END  ================\n",
      "\n",
      "Episode 36: Reward = 30, Number of steps: 35\n",
      "=======  EPISODE END  ================\n",
      "\n",
      "Episode 37: Reward = 33, Number of steps: 28\n",
      "=======  EPISODE END  ================\n",
      "\n",
      "Episode 38: Reward = -36, Number of steps: 17\n",
      "=======  EPISODE END  ================\n",
      "\n",
      "Episode 39: Reward = 30, Number of steps: 33\n",
      "=======  EPISODE END  ================\n",
      "\n",
      "Episode 40: Reward = 30, Number of steps: 35\n",
      "=======  EPISODE END  ================\n",
      "\n",
      "Episode 41: Reward = 33, Number of steps: 28\n",
      "=======  EPISODE END  ================\n",
      "\n",
      "Episode 42: Reward = 30, Number of steps: 37\n",
      "=======  EPISODE END  ================\n",
      "\n",
      "Episode 43: Reward = 33, Number of steps: 28\n",
      "=======  EPISODE END  ================\n",
      "\n",
      "Episode 44: Reward = 30, Number of steps: 31\n",
      "=======  EPISODE END  ================\n",
      "\n",
      "Episode 45: Reward = 36, Number of steps: 25\n",
      "=======  EPISODE END  ================\n",
      "\n",
      "Episode 46: Reward = 33, Number of steps: 30\n",
      "=======  EPISODE END  ================\n",
      "\n",
      "Episode 47: Reward = 33, Number of steps: 28\n",
      "=======  EPISODE END  ================\n",
      "\n",
      "Episode 48: Reward = 30, Number of steps: 25\n",
      "=======  EPISODE END  ================\n",
      "\n",
      "Episode 49: Reward = 30, Number of steps: 31\n",
      "=======  EPISODE END  ================\n",
      "\n",
      "Episode 50: Reward = -36, Number of steps: 17\n",
      "=======  EPISODE END  ================\n",
      "\n",
      "Episode 51: Reward = -33, Number of steps: 30\n",
      "=======  EPISODE END  ================\n",
      "\n",
      "Episode 52: Reward = 33, Number of steps: 28\n",
      "=======  EPISODE END  ================\n",
      "\n",
      "Episode 53: Reward = -30, Number of steps: 33\n",
      "=======  EPISODE END  ================\n",
      "\n",
      "Episode 54: Reward = 30, Number of steps: 27\n",
      "=======  EPISODE END  ================\n",
      "\n",
      "Episode 55: Reward = 30, Number of steps: 33\n",
      "=======  EPISODE END  ================\n",
      "\n",
      "Episode 56: Reward = 36, Number of steps: 17\n",
      "=======  EPISODE END  ================\n",
      "\n",
      "Episode 57: Reward = 30, Number of steps: 35\n",
      "=======  EPISODE END  ================\n",
      "\n",
      "Episode 58: Reward = 33, Number of steps: 36\n",
      "=======  EPISODE END  ================\n",
      "\n",
      "Episode 59: Reward = 30, Number of steps: 35\n",
      "=======  EPISODE END  ================\n",
      "\n",
      "Episode 60: Reward = -36, Number of steps: 17\n",
      "=======  EPISODE END  ================\n",
      "\n",
      "Episode 61: Reward = -33, Number of steps: 24\n",
      "=======  EPISODE END  ================\n",
      "\n",
      "Episode 62: Reward = -30, Number of steps: 33\n",
      "=======  EPISODE END  ================\n",
      "\n",
      "Episode 63: Reward = 30, Number of steps: 27\n",
      "=======  EPISODE END  ================\n",
      "\n",
      "Episode 64: Reward = 33, Number of steps: 36\n",
      "=======  EPISODE END  ================\n",
      "\n",
      "Episode 65: Reward = 30, Number of steps: 27\n",
      "=======  EPISODE END  ================\n",
      "\n",
      "Episode 66: Reward = -33, Number of steps: 28\n",
      "=======  EPISODE END  ================\n",
      "\n",
      "Episode 67: Reward = -33, Number of steps: 34\n",
      "=======  EPISODE END  ================\n",
      "\n",
      "Episode 68: Reward = 30, Number of steps: 31\n",
      "=======  EPISODE END  ================\n",
      "\n",
      "Episode 69: Reward = 30, Number of steps: 35\n",
      "=======  EPISODE END  ================\n",
      "\n",
      "Episode 70: Reward = -33, Number of steps: 28\n",
      "=======  EPISODE END  ================\n",
      "\n",
      "Episode 71: Reward = -33, Number of steps: 26\n",
      "=======  EPISODE END  ================\n",
      "\n",
      "Episode 72: Reward = 30, Number of steps: 31\n",
      "=======  EPISODE END  ================\n",
      "\n",
      "Episode 73: Reward = 30, Number of steps: 31\n",
      "=======  EPISODE END  ================\n",
      "\n",
      "Episode 74: Reward = 33, Number of steps: 28\n",
      "=======  EPISODE END  ================\n",
      "\n",
      "Episode 75: Reward = 33, Number of steps: 30\n",
      "=======  EPISODE END  ================\n",
      "\n",
      "Episode 76: Reward = -30, Number of steps: 33\n",
      "=======  EPISODE END  ================\n",
      "\n",
      "Episode 77: Reward = 30, Number of steps: 35\n",
      "=======  EPISODE END  ================\n",
      "\n",
      "Episode 78: Reward = 36, Number of steps: 27\n",
      "=======  EPISODE END  ================\n",
      "\n",
      "Episode 79: Reward = 30, Number of steps: 25\n",
      "=======  EPISODE END  ================\n",
      "\n",
      "Episode 80: Reward = -33, Number of steps: 28\n",
      "=======  EPISODE END  ================\n",
      "\n",
      "Episode 81: Reward = 33, Number of steps: 36\n",
      "=======  EPISODE END  ================\n",
      "\n",
      "Episode 82: Reward = 33, Number of steps: 36\n",
      "=======  EPISODE END  ================\n",
      "\n",
      "Episode 83: Reward = -33, Number of steps: 28\n",
      "=======  EPISODE END  ================\n",
      "\n",
      "Episode 84: Reward = -33, Number of steps: 28\n",
      "=======  EPISODE END  ================\n",
      "\n",
      "Episode 85: Reward = -36, Number of steps: 21\n",
      "=======  EPISODE END  ================\n",
      "\n",
      "Episode 86: Reward = 36, Number of steps: 19\n",
      "=======  EPISODE END  ================\n",
      "\n",
      "Episode 87: Reward = 33, Number of steps: 36\n",
      "=======  EPISODE END  ================\n",
      "\n",
      "Episode 88: Reward = 33, Number of steps: 28\n",
      "=======  EPISODE END  ================\n",
      "\n",
      "Episode 89: Reward = 33, Number of steps: 32\n",
      "=======  EPISODE END  ================\n",
      "\n",
      "Episode 90: Reward = 30, Number of steps: 33\n",
      "=======  EPISODE END  ================\n",
      "\n",
      "Episode 91: Reward = -36, Number of steps: 19\n",
      "=======  EPISODE END  ================\n",
      "\n",
      "Episode 92: Reward = 33, Number of steps: 36\n",
      "=======  EPISODE END  ================\n",
      "\n",
      "Episode 93: Reward = 30, Number of steps: 25\n",
      "=======  EPISODE END  ================\n",
      "\n",
      "Episode 94: Reward = 30, Number of steps: 31\n",
      "=======  EPISODE END  ================\n",
      "\n",
      "Episode 95: Reward = 36, Number of steps: 17\n",
      "=======  EPISODE END  ================\n",
      "\n",
      "Episode 96: Reward = -36, Number of steps: 21\n",
      "=======  EPISODE END  ================\n",
      "\n",
      "Episode 97: Reward = 30, Number of steps: 35\n",
      "=======  EPISODE END  ================\n",
      "\n",
      "Episode 98: Reward = -33, Number of steps: 24\n",
      "=======  EPISODE END  ================\n",
      "\n",
      "Episode 99: Reward = 36, Number of steps: 17\n",
      "=======  EPISODE END  ================\n",
      "\n",
      "Episode 100: Reward = 30, Number of steps: 31\n",
      "=======  EPISODE END  ================\n",
      "\n",
      "Average Reward over 100 episodes: 15.72\n",
      "Good Win Rate: 0.75\n",
      "Evil Win Rate: 0.25\n"
     ]
    }
   ],
   "source": [
    "runner_good.eval(100, verbose=False)"
   ]
  },
  {
   "cell_type": "code",
   "execution_count": null,
   "id": "8feb8078-c1f5-4a4b-abe2-875d56acea6f",
   "metadata": {},
   "outputs": [],
   "source": []
  }
 ],
 "metadata": {
  "kernelspec": {
   "display_name": "Python 3 (ipykernel)",
   "language": "python",
   "name": "python3"
  },
  "language_info": {
   "codemirror_mode": {
    "name": "ipython",
    "version": 3
   },
   "file_extension": ".py",
   "mimetype": "text/x-python",
   "name": "python",
   "nbconvert_exporter": "python",
   "pygments_lexer": "ipython3",
   "version": "3.11.0"
  }
 },
 "nbformat": 4,
 "nbformat_minor": 5
}
