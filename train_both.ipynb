{
 "cells": [
  {
   "cell_type": "code",
   "execution_count": 1,
   "id": "0d852c85-c3c1-4dd6-8ef1-280eee14b019",
   "metadata": {
    "tags": []
   },
   "outputs": [],
   "source": [
    "from runner.runner_all import RunnerMA_Both\n",
    "from runner.config import Args\n",
    "from env.res_env_all import ResistanceFinalEnv\n"
   ]
  },
  {
   "cell_type": "code",
   "execution_count": 2,
   "id": "ae3e65e9-d8fe-4071-86b2-254298c46dab",
   "metadata": {
    "tags": []
   },
   "outputs": [],
   "source": [
    "env = ResistanceFinalEnv()\n",
    "config = {\n",
    "    'all_args': Args(),\n",
    "    'env': env,\n",
    "    'device': 'cpu',\n",
    "}\n",
    "runner = RunnerMA_Both(config)"
   ]
  },
  {
   "cell_type": "code",
   "execution_count": null,
   "id": "37de2f71-c8f1-4f77-92f2-31aa1d47e63c",
   "metadata": {
    "tags": []
   },
   "outputs": [],
   "source": []
  },
  {
   "cell_type": "code",
   "execution_count": 3,
   "id": "6583664b-de03-4077-acf5-ac93edd91a12",
   "metadata": {
    "tags": []
   },
   "outputs": [],
   "source": [
    "#runner.warmup(verbose=False)"
   ]
  },
  {
   "cell_type": "code",
   "execution_count": 4,
   "id": "b3cbaf66-c2ac-4f09-8210-090f69358d25",
   "metadata": {},
   "outputs": [],
   "source": [
    "runner.restore('models', version='temp')"
   ]
  },
  {
   "cell_type": "code",
   "execution_count": null,
   "id": "8b2a775a-9cb7-4106-a083-43132b065df6",
   "metadata": {
    "tags": []
   },
   "outputs": [
    {
     "name": "stdout",
     "output_type": "stream",
     "text": [
      "Start training.\n",
      "Config. Hidden sizes: [256, 128, 64]\n"
     ]
    },
    {
     "name": "stderr",
     "output_type": "stream",
     "text": [
      "100%|██████████| 50000/50000 [00:46<00:00, 1064.31it/s]\n"
     ]
    },
    {
     "name": "stdout",
     "output_type": "stream",
     "text": [
      "Policy is saved.\n"
     ]
    },
    {
     "name": "stderr",
     "output_type": "stream",
     "text": [
      "100%|██████████| 50000/50000 [00:56<00:00, 886.63it/s]\n"
     ]
    },
    {
     "name": "stdout",
     "output_type": "stream",
     "text": [
      "\n",
      "1 / 100 episodes, total number of timesteps: 100000/5000000, Time: 2 minutes. \n",
      "Average episode rewards: 😈 0.00812000036239624, 😇 -0.008000999689102173.\n"
     ]
    },
    {
     "name": "stderr",
     "output_type": "stream",
     "text": [
      "100%|██████████| 50000/50000 [01:03<00:00, 793.14it/s]\n",
      "100%|██████████| 50000/50000 [01:00<00:00, 827.02it/s]\n"
     ]
    },
    {
     "name": "stdout",
     "output_type": "stream",
     "text": [
      "\n",
      "3 / 100 episodes, total number of timesteps: 200000/5000000, Time: 4 minutes. \n",
      "Average episode rewards: 😈 0.007319999858736992, 😇 -0.007856667041778564.\n"
     ]
    },
    {
     "name": "stderr",
     "output_type": "stream",
     "text": [
      " 60%|█████▉    | 29955/50000 [00:37<00:24, 814.69it/s]"
     ]
    }
   ],
   "source": [
    "runner.run()"
   ]
  },
  {
   "cell_type": "code",
   "execution_count": null,
   "id": "b3c5ab25-353c-453d-af0c-a43e91f5fb14",
   "metadata": {
    "tags": []
   },
   "outputs": [],
   "source": [
    "runner.save('256-128-64')"
   ]
  },
  {
   "cell_type": "code",
   "execution_count": null,
   "id": "7d0c3fba-4ef9-4e9e-8195-3cd602c8213f",
   "metadata": {
    "tags": []
   },
   "outputs": [],
   "source": [
    "runner.eval(1000)"
   ]
  },
  {
   "cell_type": "code",
   "execution_count": null,
   "id": "3d61d0c3-4bf6-4e37-818f-92b4449f9de0",
   "metadata": {
    "tags": []
   },
   "outputs": [],
   "source": [
    "runner.buffer_good.value_preds"
   ]
  },
  {
   "cell_type": "code",
   "execution_count": null,
   "id": "da46eb5a-231d-4af3-8a66-a04ce0211e8e",
   "metadata": {
    "tags": []
   },
   "outputs": [],
   "source": [
    "runner.buffer_evil.compute_returns()"
   ]
  },
  {
   "cell_type": "code",
   "execution_count": null,
   "id": "f97fb0bc-ef8a-46a0-8d8a-a30d9dcf13b0",
   "metadata": {
    "tags": []
   },
   "outputs": [],
   "source": []
  },
  {
   "cell_type": "code",
   "execution_count": null,
   "id": "178cb8ec-c5d0-4d55-bb59-3189c0db2b12",
   "metadata": {
    "tags": []
   },
   "outputs": [],
   "source": []
  },
  {
   "cell_type": "code",
   "execution_count": null,
   "id": "b18d32a5-ddc5-4b41-8cd1-330279ac092e",
   "metadata": {},
   "outputs": [],
   "source": []
  }
 ],
 "metadata": {
  "kernelspec": {
   "display_name": "Python 3 (ipykernel)",
   "language": "python",
   "name": "python3"
  },
  "language_info": {
   "codemirror_mode": {
    "name": "ipython",
    "version": 3
   },
   "file_extension": ".py",
   "mimetype": "text/x-python",
   "name": "python",
   "nbconvert_exporter": "python",
   "pygments_lexer": "ipython3",
   "version": "3.11.0"
  }
 },
 "nbformat": 4,
 "nbformat_minor": 5
}
