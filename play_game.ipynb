{
 "cells": [
  {
   "cell_type": "code",
   "execution_count": 1,
   "id": "26f973c3-ab8c-4a72-ad91-25b3766924f0",
   "metadata": {
    "tags": []
   },
   "outputs": [],
   "source": [
    "from game.play_game import play_game\n",
    "from env.res_env_all import ResistanceFinalEnv\n",
    "\n",
    "from runner.config import Args\n",
    "\n",
    "from runner.runner_all import RunnerMA_Both\n"
   ]
  },
  {
   "cell_type": "code",
   "execution_count": 2,
   "id": "6235604d-4b88-45b5-914a-ec26662a7df4",
   "metadata": {
    "tags": []
   },
   "outputs": [],
   "source": [
    "\n",
    "\n",
    "env = ResistanceFinalEnv()\n",
    "config = {\n",
    "    'all_args': Args(),\n",
    "    'env': env,\n",
    "    'device': 'cpu',\n",
    "}\n",
    "runner = RunnerMA_Both(config)\n",
    "\n",
    "config = {\n",
    "    'all_args': Args(),\n",
    "    'env': env,\n",
    "    'device': 'cpu',\n",
    "    'num_agents': 1,\n",
    "    'good_policy': None,\n",
    "}\n",
    "\n",
    "runner.restore('models', version='512_2')\n",
    "\n",
    "\n",
    "\n",
    "evil_policy = runner.trainer_evil.policy\n",
    "\n",
    "good_policy = runner.trainer_good.policy\n"
   ]
  },
  {
   "cell_type": "code",
   "execution_count": null,
   "id": "42e4c4c9-0d6d-4244-8f6d-f33ed148a249",
   "metadata": {},
   "outputs": [],
   "source": []
  },
  {
   "cell_type": "code",
   "execution_count": 3,
   "id": "5ed7eff6-6626-49c8-904c-2f9837666b8e",
   "metadata": {
    "tags": []
   },
   "outputs": [
    {
     "name": "stdout",
     "output_type": "stream",
     "text": [
      "-- Start of the Game --\n",
      "You are player_4. You are 😇\n",
      "\n",
      "\n",
      "=== Round: 1, Phase: Team Building\n",
      "player_3 chose Team: [0, 0, 1, 1, 0]\n",
      "\n",
      "\n",
      "=== Round: 1, Phase: Team Voting\n",
      "Vote for the proposed Team. **Attempt** 1.\n"
     ]
    },
    {
     "ename": "KeyboardInterrupt",
     "evalue": "Interrupted by user",
     "output_type": "error",
     "traceback": [
      "\u001b[0;31m---------------------------------------------------------------------------\u001b[0m",
      "\u001b[0;31mKeyboardInterrupt\u001b[0m                         Traceback (most recent call last)",
      "Cell \u001b[0;32mIn[3], line 6\u001b[0m\n\u001b[1;32m      1\u001b[0m config \u001b[38;5;241m=\u001b[39m {\n\u001b[1;32m      2\u001b[0m             \u001b[38;5;241m0\u001b[39m: good_policy,\n\u001b[1;32m      3\u001b[0m             \u001b[38;5;241m1\u001b[39m: evil_policy\n\u001b[1;32m      4\u001b[0m         }\n\u001b[1;32m      5\u001b[0m env \u001b[38;5;241m=\u001b[39m ResistanceFinalEnv()\n\u001b[0;32m----> 6\u001b[0m play_game(env, config, n_humans\u001b[38;5;241m=\u001b[39m\u001b[38;5;241m1\u001b[39m)\n",
      "File \u001b[0;32m~/Pipelines/Projects/1D_Robot/app/game/play_game.py:120\u001b[0m, in \u001b[0;36mplay_game\u001b[0;34m(env, config, n_humans)\u001b[0m\n\u001b[1;32m    118\u001b[0m \u001b[38;5;28;01melif\u001b[39;00m env\u001b[38;5;241m.\u001b[39mphase \u001b[38;5;241m==\u001b[39m \u001b[38;5;241m1\u001b[39m:\n\u001b[1;32m    119\u001b[0m     \u001b[38;5;28mprint\u001b[39m(\u001b[38;5;124mf\u001b[39m\u001b[38;5;124m'\u001b[39m\u001b[38;5;124mVote for the proposed Team. **Attempt** \u001b[39m\u001b[38;5;132;01m{\u001b[39;00menv\u001b[38;5;241m.\u001b[39mvoting_attempt\u001b[38;5;132;01m}\u001b[39;00m\u001b[38;5;124m.\u001b[39m\u001b[38;5;124m'\u001b[39m)\n\u001b[0;32m--> 120\u001b[0m     team_vote \u001b[38;5;241m=\u001b[39m \u001b[38;5;28mint\u001b[39m(\u001b[38;5;28minput\u001b[39m(\u001b[38;5;124m\"\u001b[39m\u001b[38;5;124mEnter 1 (support) or 0 (against): \u001b[39m\u001b[38;5;124m\"\u001b[39m))\n\u001b[1;32m    121\u001b[0m     chosen_action  \u001b[38;5;241m=\u001b[39m \u001b[38;5;241m21\u001b[39m \u001b[38;5;28;01mif\u001b[39;00m team_vote \u001b[38;5;241m==\u001b[39m \u001b[38;5;241m1\u001b[39m \u001b[38;5;28;01melse\u001b[39;00m \u001b[38;5;241m22\u001b[39m\n\u001b[1;32m    122\u001b[0m     action_dict[human] \u001b[38;5;241m=\u001b[39m chosen_action\n",
      "File \u001b[0;32m~/anaconda3/lib/python3.11/site-packages/ipykernel/kernelbase.py:1175\u001b[0m, in \u001b[0;36mKernel.raw_input\u001b[0;34m(self, prompt)\u001b[0m\n\u001b[1;32m   1171\u001b[0m \u001b[38;5;28;01mif\u001b[39;00m \u001b[38;5;129;01mnot\u001b[39;00m \u001b[38;5;28mself\u001b[39m\u001b[38;5;241m.\u001b[39m_allow_stdin:\n\u001b[1;32m   1172\u001b[0m     \u001b[38;5;28;01mraise\u001b[39;00m StdinNotImplementedError(\n\u001b[1;32m   1173\u001b[0m         \u001b[38;5;124m\"\u001b[39m\u001b[38;5;124mraw_input was called, but this frontend does not support input requests.\u001b[39m\u001b[38;5;124m\"\u001b[39m\n\u001b[1;32m   1174\u001b[0m     )\n\u001b[0;32m-> 1175\u001b[0m \u001b[38;5;28;01mreturn\u001b[39;00m \u001b[38;5;28mself\u001b[39m\u001b[38;5;241m.\u001b[39m_input_request(\n\u001b[1;32m   1176\u001b[0m     \u001b[38;5;28mstr\u001b[39m(prompt),\n\u001b[1;32m   1177\u001b[0m     \u001b[38;5;28mself\u001b[39m\u001b[38;5;241m.\u001b[39m_parent_ident[\u001b[38;5;124m\"\u001b[39m\u001b[38;5;124mshell\u001b[39m\u001b[38;5;124m\"\u001b[39m],\n\u001b[1;32m   1178\u001b[0m     \u001b[38;5;28mself\u001b[39m\u001b[38;5;241m.\u001b[39mget_parent(\u001b[38;5;124m\"\u001b[39m\u001b[38;5;124mshell\u001b[39m\u001b[38;5;124m\"\u001b[39m),\n\u001b[1;32m   1179\u001b[0m     password\u001b[38;5;241m=\u001b[39m\u001b[38;5;28;01mFalse\u001b[39;00m,\n\u001b[1;32m   1180\u001b[0m )\n",
      "File \u001b[0;32m~/anaconda3/lib/python3.11/site-packages/ipykernel/kernelbase.py:1217\u001b[0m, in \u001b[0;36mKernel._input_request\u001b[0;34m(self, prompt, ident, parent, password)\u001b[0m\n\u001b[1;32m   1214\u001b[0m             \u001b[38;5;28;01mbreak\u001b[39;00m\n\u001b[1;32m   1215\u001b[0m \u001b[38;5;28;01mexcept\u001b[39;00m \u001b[38;5;167;01mKeyboardInterrupt\u001b[39;00m:\n\u001b[1;32m   1216\u001b[0m     \u001b[38;5;66;03m# re-raise KeyboardInterrupt, to truncate traceback\u001b[39;00m\n\u001b[0;32m-> 1217\u001b[0m     \u001b[38;5;28;01mraise\u001b[39;00m \u001b[38;5;167;01mKeyboardInterrupt\u001b[39;00m(\u001b[38;5;124m\"\u001b[39m\u001b[38;5;124mInterrupted by user\u001b[39m\u001b[38;5;124m\"\u001b[39m) \u001b[38;5;28;01mfrom\u001b[39;00m \u001b[38;5;28;01mNone\u001b[39;00m\n\u001b[1;32m   1218\u001b[0m \u001b[38;5;28;01mexcept\u001b[39;00m \u001b[38;5;167;01mException\u001b[39;00m:\n\u001b[1;32m   1219\u001b[0m     \u001b[38;5;28mself\u001b[39m\u001b[38;5;241m.\u001b[39mlog\u001b[38;5;241m.\u001b[39mwarning(\u001b[38;5;124m\"\u001b[39m\u001b[38;5;124mInvalid Message:\u001b[39m\u001b[38;5;124m\"\u001b[39m, exc_info\u001b[38;5;241m=\u001b[39m\u001b[38;5;28;01mTrue\u001b[39;00m)\n",
      "\u001b[0;31mKeyboardInterrupt\u001b[0m: Interrupted by user"
     ]
    }
   ],
   "source": [
    "config = {\n",
    "            0: good_policy,\n",
    "            1: evil_policy\n",
    "        }\n",
    "env = ResistanceFinalEnv()\n",
    "play_game(env, config, n_humans=1)"
   ]
  },
  {
   "cell_type": "code",
   "execution_count": null,
   "id": "0f7a5ed4-104d-48c1-b6e8-b64729ebf1d0",
   "metadata": {
    "tags": []
   },
   "outputs": [],
   "source": [
    "runner.warmup()"
   ]
  },
  {
   "cell_type": "code",
   "execution_count": null,
   "id": "d2f48507-7dd7-439c-a274-48c3e59b7eb8",
   "metadata": {
    "tags": []
   },
   "outputs": [],
   "source": [
    "runner.buffer_evil.obs[]"
   ]
  },
  {
   "cell_type": "code",
   "execution_count": null,
   "id": "4dcb502e-21c7-4bba-895c-cce3a3457c63",
   "metadata": {},
   "outputs": [],
   "source": [
    "runner.num_env_steps = 5\n",
    "runner.episode_length = 5"
   ]
  },
  {
   "cell_type": "code",
   "execution_count": null,
   "id": "b33b8b0c-d7b8-4993-8d90-b0fb8b906e0b",
   "metadata": {
    "tags": []
   },
   "outputs": [],
   "source": [
    "runner.warmup()"
   ]
  },
  {
   "cell_type": "code",
   "execution_count": null,
   "id": "55924ef2-3187-4c68-9e76-c603b3fd0cd3",
   "metadata": {
    "tags": []
   },
   "outputs": [],
   "source": [
    "# the firts 5 elements\n",
    "runner.buffer_evil.obs[:5, :, :, -5:]"
   ]
  },
  {
   "cell_type": "code",
   "execution_count": null,
   "id": "795c4c63-1023-4dfb-8088-fe591ddb3eeb",
   "metadata": {
    "tags": []
   },
   "outputs": [],
   "source": [
    "runner.env.evil_players\n",
    "runner.env.leader"
   ]
  },
  {
   "cell_type": "code",
   "execution_count": null,
   "id": "8395cd20-ae8b-4d9d-8bcb-2fdd5041260a",
   "metadata": {
    "tags": []
   },
   "outputs": [],
   "source": [
    "runner.buffer_good.share_obs[:5, :, :, :10]"
   ]
  },
  {
   "cell_type": "code",
   "execution_count": null,
   "id": "0120b731-e9e9-4bd1-be5c-eea925589579",
   "metadata": {
    "tags": []
   },
   "outputs": [],
   "source": [
    "obs_list, share_obs_list, available_actions_list = [], [], []\n",
    "for i in range(8):\n",
    "    obs, share_obs, available_actions, info = env.reset()\n",
    "    obs_list.append(obs)\n",
    "    share_obs_list.append(share_obs_list)\n",
    "    available_actions_list.append(available_actions)"
   ]
  },
  {
   "cell_type": "code",
   "execution_count": null,
   "id": "aa6df637-20d3-49ab-bec3-042a433d816c",
   "metadata": {
    "tags": []
   },
   "outputs": [],
   "source": [
    "import numpy as np\n",
    "def _convert_dict_to_two_2darrays(player_dict: dict):\n",
    "    # Divide a dictionary to numpy arrays for Good and Evil players\n",
    "    evil_players_dict = {p:v for p, v in player_dict.items() if p in runner.env.evil_players }\n",
    "    good_players_dict = {p:v for p, v in player_dict.items() if p in runner.env.good_players }\n",
    "    \n",
    "    \n",
    "    \n",
    "    values_evil = list(evil_players_dict.values())\n",
    "    \n",
    "    values_good = list(good_players_dict.values())\n",
    "    print(values_good)\n",
    "    return np.array(values_evil), np.array(values_good)"
   ]
  },
  {
   "cell_type": "code",
   "execution_count": null,
   "id": "ef208a93-926f-4994-8ed4-a0331237e1c3",
   "metadata": {
    "tags": []
   },
   "outputs": [],
   "source": [
    "evil_players_dict = {p:v for p, v in obs.items() if p in runner.env.evil_players }\n",
    "good_players_dict = {p:v for p, v in obs.items() if p in runner.env.good_players }"
   ]
  },
  {
   "cell_type": "code",
   "execution_count": null,
   "id": "255a845d-14c5-4f02-96ac-007f75ea7744",
   "metadata": {
    "tags": []
   },
   "outputs": [],
   "source": [
    "values_evil = list(evil_players_dict.values())\n",
    "values_good = list(good_players_dict.values())\n"
   ]
  },
  {
   "cell_type": "code",
   "execution_count": null,
   "id": "744456fc-09c0-4db0-b0ea-18deeb864220",
   "metadata": {
    "tags": []
   },
   "outputs": [],
   "source": [
    "len(values_evil[0])"
   ]
  },
  {
   "cell_type": "code",
   "execution_count": null,
   "id": "51751805-01ce-423f-8812-f12257a4818f",
   "metadata": {
    "tags": []
   },
   "outputs": [],
   "source": [
    "len(values_evil[1])"
   ]
  },
  {
   "cell_type": "code",
   "execution_count": null,
   "id": "d49ed35f-8b23-4c83-99cf-778ff1959e8c",
   "metadata": {
    "tags": []
   },
   "outputs": [],
   "source": [
    "values_to_insert = np.array([[[1, 2, 3, 4], [5, 6, 7, 8], [9, 10, 11, 12]],\n",
    "                             [[13, 14, 15, 16], [17, 18, 19, 20], [21, 22, 23, 24]]])\n",
    "values_to_insert"
   ]
  },
  {
   "cell_type": "code",
   "execution_count": null,
   "id": "02df9785-0a8c-40d9-8a31-81718caf75e8",
   "metadata": {
    "tags": []
   },
   "outputs": [],
   "source": [
    "array_zeros = np.zeros((5, 2, 3, 4))\n",
    "array_zeros[0] = values_to_insert"
   ]
  },
  {
   "cell_type": "code",
   "execution_count": null,
   "id": "baae8343-0d5f-4bbd-9354-0a094aa59132",
   "metadata": {},
   "outputs": [],
   "source": [
    "769"
   ]
  },
  {
   "cell_type": "code",
   "execution_count": null,
   "id": "88efa026-474c-4ec1-accd-51db183d350a",
   "metadata": {
    "tags": []
   },
   "outputs": [],
   "source": [
    "envs = [env.reset()  for i in range(5) ]"
   ]
  },
  {
   "cell_type": "code",
   "execution_count": null,
   "id": "dd2f7491-a46c-41af-964b-7799d845677f",
   "metadata": {
    "tags": []
   },
   "outputs": [],
   "source": [
    "envs[2]"
   ]
  },
  {
   "cell_type": "code",
   "execution_count": null,
   "id": "70fd0223-c567-467b-94e8-d93cd2e79b73",
   "metadata": {},
   "outputs": [],
   "source": []
  }
 ],
 "metadata": {
  "kernelspec": {
   "display_name": "Python 3 (ipykernel)",
   "language": "python",
   "name": "python3"
  },
  "language_info": {
   "codemirror_mode": {
    "name": "ipython",
    "version": 3
   },
   "file_extension": ".py",
   "mimetype": "text/x-python",
   "name": "python",
   "nbconvert_exporter": "python",
   "pygments_lexer": "ipython3",
   "version": "3.11.0"
  }
 },
 "nbformat": 4,
 "nbformat_minor": 5
}
