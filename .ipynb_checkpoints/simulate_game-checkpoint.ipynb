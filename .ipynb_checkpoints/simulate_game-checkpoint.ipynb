{
 "cells": [
  {
   "cell_type": "code",
   "execution_count": 1,
   "id": "79869774-a5ee-4798-9645-f23554603451",
   "metadata": {
    "tags": []
   },
   "outputs": [],
   "source": [
    "from env.res_env_evil import ResistanceEvilEnv\n",
    "from env.res_env_good import ResistanceGoodEnv\n",
    "from env.res_env_all import ResistanceFinalEnv\n",
    "from env.naive_agents import NaiveEvilPolicy\n",
    "\n",
    "\n",
    "import numpy as np\n",
    "import os\n",
    "import numpy as np\n",
    "from runner.runner_res_evil_trainer import RunnerMA_Evil\n",
    "from runner.runner_res_good_trainer import RunnerMA_Good\n",
    "from runner.game import simulate_game\n",
    "from runner.config import Args"
   ]
  },
  {
   "cell_type": "markdown",
   "id": "7555b42c-1f72-45b2-a23a-b8030313760c",
   "metadata": {},
   "source": [
    "### Restore trained policies"
   ]
  },
  {
   "cell_type": "code",
   "execution_count": 2,
   "id": "a4b45546-68f2-45de-ae99-ef733e35092b",
   "metadata": {
    "tags": []
   },
   "outputs": [],
   "source": [
    "env_evil = ResistanceEvilEnv()\n",
    "\n",
    "config = {\n",
    "    'all_args': Args(),\n",
    "    'env': env_evil,\n",
    "    'device': 'cpu',\n",
    "    'num_agents': 1,\n",
    "    'good_policy': None,\n",
    "}\n",
    "\n",
    "runner_evil = RunnerMA_Evil(config)\n",
    "runner_evil.restore('save_dir')\n",
    "evil_policy = runner_evil.trainer.policy\n",
    "\n",
    "env_good = ResistanceGoodEnv()\n",
    "config = {\n",
    "    'all_args': Args(),\n",
    "    'env': env_good,\n",
    "    'device': 'cpu',\n",
    "    'num_agents': 1,\n",
    "    'evil_policy': None,\n",
    "}\n",
    "runner_good = RunnerMA_Good(config)\n",
    "runner_good.restore('save_dir')\n",
    "good_policy = runner_good.trainer.policy\n"
   ]
  },
  {
   "cell_type": "markdown",
   "id": "456b4b12-ede1-4569-9b93-eaa797358328",
   "metadata": {},
   "source": [
    "### Simulate a Game"
   ]
  },
  {
   "cell_type": "code",
   "execution_count": 3,
   "id": "90ea7331-ffb4-4c51-9573-f6f3a0eb41d3",
   "metadata": {
    "tags": []
   },
   "outputs": [
    {
     "name": "stdout",
     "output_type": "stream",
     "text": [
      "-- Start of the Game --\n",
      "Good Team: ['player_4', 'player_5', 'player_3']\n",
      "Evil Team: ['player_1', 'player_2']\n",
      "===================\n",
      "Round: 0, Phase: 0\n",
      "player_2 😈: [0, 0, 1, 0, 1]\n",
      "===================\n",
      "Round: 0, Phase: 1\n",
      "player_1 😈: 0\n",
      "player_2 😈: 0\n",
      "player_3 😇: 1\n",
      "player_4 😇: 0\n",
      "player_5 😇: 1\n",
      "===================\n",
      "Round: 0, Phase: 0\n",
      "player_3 😇: [1, 0, 1, 0, 0]\n",
      "===================\n",
      "Round: 0, Phase: 1\n",
      "player_1 😈: 1\n",
      "player_2 😈: 1\n",
      "player_3 😇: 1\n",
      "player_4 😇: 1\n",
      "player_5 😇: 1\n",
      "===================\n",
      "Round: 0, Phase: 2\n",
      "player_1 😈: 1\n",
      "player_3 😇: 0\n",
      "Round 0: 😇 0 : 1 😈\n",
      "===================\n",
      "Round: 1, Phase: 0\n",
      "player_4 😇: [0, 0, 1, 1, 1]\n",
      "===================\n",
      "Round: 1, Phase: 1\n",
      "player_1 😈: 0\n",
      "player_2 😈: 1\n",
      "player_3 😇: 0\n",
      "player_4 😇: 0\n",
      "player_5 😇: 0\n",
      "===================\n",
      "Round: 1, Phase: 0\n",
      "player_5 😇: [0, 0, 1, 1, 1]\n",
      "===================\n",
      "Round: 1, Phase: 1\n",
      "player_1 😈: 0\n",
      "player_2 😈: 1\n",
      "player_3 😇: 0\n",
      "player_4 😇: 0\n",
      "player_5 😇: 0\n",
      "===================\n",
      "Round: 1, Phase: 0\n",
      "player_1 😈: [1, 1, 0, 0, 1]\n",
      "===================\n",
      "Round: 1, Phase: 1\n",
      "player_1 😈: 0\n",
      "player_2 😈: 0\n",
      "player_3 😇: 0\n",
      "player_4 😇: 0\n",
      "player_5 😇: 0\n",
      "===================\n",
      "Round: 1, Phase: 0\n",
      "player_2 😈: [1, 1, 0, 1, 0]\n",
      "===================\n",
      "Round: 1, Phase: 1\n",
      "player_1 😈: 0\n",
      "player_2 😈: 0\n",
      "player_3 😇: 0\n",
      "player_4 😇: 0\n",
      "player_5 😇: 0\n",
      "===================\n",
      "Round: 1, Phase: 0\n",
      "player_3 😇: [0, 0, 1, 1, 1]\n",
      "===================\n",
      "Round: 1, Phase: 1\n",
      "player_1 😈: 1\n",
      "player_2 😈: 1\n",
      "player_3 😇: 1\n",
      "player_4 😇: 1\n",
      "player_5 😇: 1\n",
      "===================\n",
      "Round: 1, Phase: 2\n",
      "player_3 😇: 0\n",
      "player_4 😇: 0\n",
      "player_5 😇: 0\n",
      "Round 1: 😇 1 : 1 😈\n",
      "===================\n",
      "Round: 2, Phase: 0\n",
      "player_4 😇: [0, 0, 0, 1, 1]\n",
      "===================\n",
      "Round: 2, Phase: 1\n",
      "player_1 😈: 1\n",
      "player_2 😈: 1\n",
      "player_3 😇: 1\n",
      "player_4 😇: 1\n",
      "player_5 😇: 1\n",
      "===================\n",
      "Round: 2, Phase: 2\n",
      "player_4 😇: 0\n",
      "player_5 😇: 0\n",
      "Round 2: 😇 2 : 1 😈\n",
      "===================\n",
      "Round: 3, Phase: 0\n",
      "player_5 😇: [0, 0, 1, 1, 1]\n",
      "===================\n",
      "Round: 3, Phase: 1\n",
      "player_1 😈: 0\n",
      "player_2 😈: 0\n",
      "player_3 😇: 0\n",
      "player_4 😇: 0\n",
      "player_5 😇: 0\n",
      "===================\n",
      "Round: 3, Phase: 0\n",
      "player_1 😈: [1, 1, 0, 1, 0]\n",
      "===================\n",
      "Round: 3, Phase: 1\n",
      "player_1 😈: 0\n",
      "player_2 😈: 1\n",
      "player_3 😇: 0\n",
      "player_4 😇: 0\n",
      "player_5 😇: 0\n",
      "===================\n",
      "Round: 3, Phase: 0\n",
      "player_2 😈: [1, 1, 0, 1, 0]\n",
      "===================\n",
      "Round: 3, Phase: 1\n",
      "player_1 😈: 1\n",
      "player_2 😈: 1\n",
      "player_3 😇: 0\n",
      "player_4 😇: 0\n",
      "player_5 😇: 0\n",
      "===================\n",
      "Round: 3, Phase: 0\n",
      "player_3 😇: [0, 0, 1, 1, 1]\n",
      "===================\n",
      "Round: 3, Phase: 1\n",
      "player_1 😈: 1\n",
      "player_2 😈: 1\n",
      "player_3 😇: 0\n",
      "player_4 😇: 0\n",
      "player_5 😇: 0\n",
      "===================\n",
      "Round: 3, Phase: 0\n",
      "player_4 😇: [0, 0, 1, 1, 1]\n",
      "===================\n",
      "Round: 3, Phase: 1\n",
      "player_1 😈: 1\n",
      "player_2 😈: 1\n",
      "player_3 😇: 1\n",
      "player_4 😇: 1\n",
      "player_5 😇: 1\n",
      "===================\n",
      "Round: 3, Phase: 2\n",
      "player_3 😇: 0\n",
      "player_4 😇: 0\n",
      "player_5 😇: 0\n",
      "Round 3: 😇 3 : 1 😈\n",
      "The game ended in 30 turns.\n",
      "Number of successful Quests: 2\n",
      "😇 Good Team won 😇\n"
     ]
    },
    {
     "data": {
      "text/plain": [
       "{'number of turns': 30, 'good victory': 1, 'number of rounds': 4}"
      ]
     },
     "execution_count": 3,
     "metadata": {},
     "output_type": "execute_result"
    }
   ],
   "source": [
    "config = {\n",
    "            0: good_policy,\n",
    "            1: evil_policy\n",
    "        }\n",
    "env = ResistanceFinalEnv()\n",
    "simulate_game(env, config, verbose=True)"
   ]
  },
  {
   "cell_type": "markdown",
   "id": "6ab9de8a-a0d4-4076-8ec5-43cdb2291d50",
   "metadata": {},
   "source": [
    "### Simulate n games"
   ]
  },
  {
   "cell_type": "code",
   "execution_count": 4,
   "id": "6b9b2db6-8915-4d57-adc0-fe182e7752f9",
   "metadata": {
    "tags": []
   },
   "outputs": [
    {
     "data": {
      "text/plain": [
       "0.4"
      ]
     },
     "execution_count": 4,
     "metadata": {},
     "output_type": "execute_result"
    }
   ],
   "source": [
    "n_games = 100\n",
    "good_victories = 0\n",
    "for i in range(n_games):\n",
    "    stat = simulate_game(env, config)\n",
    "    good_victories += stat['good victory']\n",
    "    \n",
    "good_victories / n_games"
   ]
  },
  {
   "cell_type": "code",
   "execution_count": 5,
   "id": "42465f4a-98a4-4965-a8cc-ed46fc71104e",
   "metadata": {
    "tags": []
   },
   "outputs": [
    {
     "name": "stdout",
     "output_type": "stream",
     "text": [
      "-- Start of the Game --\n",
      "Good Team: ['player_3', 'player_2', 'player_5']\n",
      "Evil Team: ['player_1', 'player_4']\n",
      "===================\n",
      "Round: 0, Phase: 0\n",
      "player_2 😇: [0, 1, 1, 0, 0]\n",
      "===================\n",
      "Round: 0, Phase: 1\n",
      "player_1 😈: 0\n",
      "player_2 😇: 1\n",
      "player_3 😇: 1\n",
      "player_4 😈: 0\n",
      "player_5 😇: 1\n",
      "===================\n",
      "Round: 0, Phase: 2\n",
      "player_2 😇: 0\n",
      "player_3 😇: 0\n",
      "Round 0: 😇 1 : 0 😈\n",
      "===================\n",
      "Round: 1, Phase: 0\n",
      "player_3 😇: [0, 1, 1, 0, 1]\n",
      "===================\n",
      "Round: 1, Phase: 1\n",
      "player_1 😈: 0\n",
      "player_2 😇: 0\n",
      "player_3 😇: 0\n",
      "player_4 😈: 0\n",
      "player_5 😇: 0\n",
      "===================\n",
      "Round: 1, Phase: 0\n",
      "player_4 😈: [1, 1, 0, 1, 0]\n",
      "===================\n",
      "Round: 1, Phase: 1\n",
      "player_1 😈: 1\n",
      "player_2 😇: 0\n",
      "player_3 😇: 0\n",
      "player_4 😈: 1\n",
      "player_5 😇: 0\n",
      "===================\n",
      "Round: 1, Phase: 0\n",
      "player_5 😇: [1, 0, 1, 0, 1]\n",
      "===================\n",
      "Round: 1, Phase: 1\n",
      "player_1 😈: 1\n",
      "player_2 😇: 0\n",
      "player_3 😇: 0\n",
      "player_4 😈: 1\n",
      "player_5 😇: 0\n",
      "===================\n",
      "Round: 1, Phase: 0\n",
      "player_1 😈: [1, 0, 0, 1, 1]\n",
      "===================\n",
      "Round: 1, Phase: 1\n",
      "player_1 😈: 1\n",
      "player_2 😇: 0\n",
      "player_3 😇: 0\n",
      "player_4 😈: 1\n",
      "player_5 😇: 0\n",
      "===================\n",
      "Round: 1, Phase: 0\n",
      "player_2 😇: [0, 1, 1, 0, 1]\n",
      "===================\n",
      "Round: 1, Phase: 1\n",
      "player_1 😈: 0\n",
      "player_2 😇: 1\n",
      "player_3 😇: 1\n",
      "player_4 😈: 0\n",
      "player_5 😇: 1\n",
      "===================\n",
      "Round: 1, Phase: 2\n",
      "player_2 😇: 0\n",
      "player_3 😇: 0\n",
      "player_5 😇: 0\n",
      "Round 1: 😇 2 : 0 😈\n",
      "===================\n",
      "Round: 2, Phase: 0\n",
      "player_3 😇: [0, 0, 1, 0, 1]\n",
      "===================\n",
      "Round: 2, Phase: 1\n",
      "player_1 😈: 0\n",
      "player_2 😇: 1\n",
      "player_3 😇: 1\n",
      "player_4 😈: 0\n",
      "player_5 😇: 1\n",
      "===================\n",
      "Round: 2, Phase: 2\n",
      "player_3 😇: 0\n",
      "player_5 😇: 0\n",
      "Round 2: 😇 3 : 0 😈\n",
      "The game ended in 17 turns.\n",
      "Number of successful Quests: 2\n",
      "😇 Good Team won 😇\n"
     ]
    },
    {
     "data": {
      "text/plain": [
       "{'number of turns': 17, 'good victory': 1, 'number of rounds': 3}"
      ]
     },
     "execution_count": 5,
     "metadata": {},
     "output_type": "execute_result"
    }
   ],
   "source": [
    "config = {\n",
    "            0: good_policy,\n",
    "            1: NaiveEvilPolicy()\n",
    "        }\n",
    "simulate_game(env, config, verbose=True)"
   ]
  },
  {
   "cell_type": "code",
   "execution_count": 6,
   "id": "eeadf864-6296-44e4-af7b-0699f86f2f18",
   "metadata": {
    "tags": []
   },
   "outputs": [
    {
     "data": {
      "text/plain": [
       "0.7"
      ]
     },
     "execution_count": 6,
     "metadata": {},
     "output_type": "execute_result"
    }
   ],
   "source": [
    "n_games = 100\n",
    "good_victories = 0\n",
    "for i in range(n_games):\n",
    "    stat = simulate_game(env, config)\n",
    "    good_victories += stat['good victory']\n",
    "    \n",
    "good_victories / n_games"
   ]
  },
  {
   "cell_type": "code",
   "execution_count": null,
   "id": "5ae00a41-7991-45ca-a0ae-2aadf4d16c93",
   "metadata": {
    "tags": []
   },
   "outputs": [],
   "source": []
  },
  {
   "cell_type": "code",
   "execution_count": null,
   "id": "994c3c12-4fd3-4f7c-9739-62d6aadb8422",
   "metadata": {},
   "outputs": [],
   "source": []
  },
  {
   "cell_type": "code",
   "execution_count": null,
   "id": "604abdb1-1e6f-4fb3-a206-5e974ff64e1e",
   "metadata": {},
   "outputs": [],
   "source": []
  }
 ],
 "metadata": {
  "kernelspec": {
   "display_name": "Python 3 (ipykernel)",
   "language": "python",
   "name": "python3"
  },
  "language_info": {
   "codemirror_mode": {
    "name": "ipython",
    "version": 3
   },
   "file_extension": ".py",
   "mimetype": "text/x-python",
   "name": "python",
   "nbconvert_exporter": "python",
   "pygments_lexer": "ipython3",
   "version": "3.11.0"
  }
 },
 "nbformat": 4,
 "nbformat_minor": 5
}
