{
 "cells": [
  {
   "cell_type": "code",
   "execution_count": 1,
   "id": "0d852c85-c3c1-4dd6-8ef1-280eee14b019",
   "metadata": {
    "tags": []
   },
   "outputs": [],
   "source": [
    "from runner.runner_all import RunnerMA_Both\n",
    "from runner.config import Args\n",
    "from env.res_env_all import ResistanceFinalEnv\n"
   ]
  },
  {
   "cell_type": "code",
   "execution_count": 2,
   "id": "ae3e65e9-d8fe-4071-86b2-254298c46dab",
   "metadata": {
    "tags": []
   },
   "outputs": [],
   "source": [
    "env = ResistanceFinalEnv()\n",
    "config = {\n",
    "    'all_args': Args(),\n",
    "    'env': env,\n",
    "    'device': 'cpu',\n",
    "}\n",
    "runner = RunnerMA_Both(config)"
   ]
  },
  {
   "cell_type": "code",
   "execution_count": null,
   "id": "37de2f71-c8f1-4f77-92f2-31aa1d47e63c",
   "metadata": {
    "tags": []
   },
   "outputs": [],
   "source": []
  },
  {
   "cell_type": "code",
   "execution_count": 3,
   "id": "6583664b-de03-4077-acf5-ac93edd91a12",
   "metadata": {
    "tags": []
   },
   "outputs": [],
   "source": [
    "#runner.warmup(verbose=False)"
   ]
  },
  {
   "cell_type": "code",
   "execution_count": 4,
   "id": "b3cbaf66-c2ac-4f09-8210-090f69358d25",
   "metadata": {},
   "outputs": [],
   "source": [
    "runner.restore('models', version='temp')"
   ]
  },
  {
   "cell_type": "code",
   "execution_count": 5,
   "id": "8b2a775a-9cb7-4106-a083-43132b065df6",
   "metadata": {
    "tags": []
   },
   "outputs": [
    {
     "name": "stdout",
     "output_type": "stream",
     "text": [
      "Start training.\n",
      "Config. Hidden sizes: [256, 128, 64]\n"
     ]
    },
    {
     "name": "stderr",
     "output_type": "stream",
     "text": [
      "100%|██████████| 10000/10000 [00:09<00:00, 1062.81it/s]\n"
     ]
    },
    {
     "name": "stdout",
     "output_type": "stream",
     "text": [
      "Policy is saved.\n"
     ]
    },
    {
     "name": "stderr",
     "output_type": "stream",
     "text": [
      "100%|██████████| 10000/10000 [00:09<00:00, 1050.74it/s]\n",
      "100%|██████████| 10000/10000 [00:10<00:00, 986.04it/s]\n",
      "100%|██████████| 10000/10000 [00:10<00:00, 993.36it/s]\n",
      "100%|██████████| 10000/10000 [00:09<00:00, 1057.24it/s]\n",
      "100%|██████████| 10000/10000 [00:09<00:00, 1042.89it/s]\n",
      "100%|██████████| 10000/10000 [00:09<00:00, 1010.01it/s]\n",
      "100%|██████████| 10000/10000 [00:09<00:00, 1039.09it/s]\n",
      "100%|██████████| 10000/10000 [00:11<00:00, 861.42it/s]\n",
      "100%|██████████| 10000/10000 [00:11<00:00, 835.18it/s]\n"
     ]
    },
    {
     "name": "stdout",
     "output_type": "stream",
     "text": [
      "\n",
      "9 / 500 episodes, total number of timesteps: 100000/5000000, Time: 2 minutes. \n",
      "Average episode rewards: 😈 0.018799999728798866, 😇 -0.012706665322184563.\n"
     ]
    },
    {
     "name": "stderr",
     "output_type": "stream",
     "text": [
      "100%|██████████| 10000/10000 [00:10<00:00, 916.01it/s]\n"
     ]
    },
    {
     "name": "stdout",
     "output_type": "stream",
     "text": [
      "Policy is saved.\n"
     ]
    },
    {
     "name": "stderr",
     "output_type": "stream",
     "text": [
      "100%|██████████| 10000/10000 [00:10<00:00, 996.95it/s]\n",
      "100%|██████████| 10000/10000 [00:11<00:00, 840.74it/s]\n",
      "100%|██████████| 10000/10000 [00:09<00:00, 1009.55it/s]\n",
      "100%|██████████| 10000/10000 [00:10<00:00, 946.79it/s]\n",
      "100%|██████████| 10000/10000 [00:10<00:00, 971.27it/s]\n",
      "100%|██████████| 10000/10000 [00:10<00:00, 957.24it/s]\n",
      "100%|██████████| 10000/10000 [00:09<00:00, 1016.07it/s]\n",
      "100%|██████████| 10000/10000 [00:11<00:00, 895.84it/s]\n",
      "100%|██████████| 10000/10000 [00:10<00:00, 993.42it/s]\n"
     ]
    },
    {
     "name": "stdout",
     "output_type": "stream",
     "text": [
      "\n",
      "19 / 500 episodes, total number of timesteps: 200000/5000000, Time: 4 minutes. \n",
      "Average episode rewards: 😈 0.013000000268220901, 😇 -0.0071916659362614155.\n"
     ]
    },
    {
     "name": "stderr",
     "output_type": "stream",
     "text": [
      "100%|██████████| 10000/10000 [00:09<00:00, 1015.86it/s]\n"
     ]
    },
    {
     "name": "stdout",
     "output_type": "stream",
     "text": [
      "Policy is saved.\n"
     ]
    },
    {
     "name": "stderr",
     "output_type": "stream",
     "text": [
      "100%|██████████| 10000/10000 [00:11<00:00, 858.52it/s]\n",
      "100%|██████████| 10000/10000 [00:10<00:00, 969.62it/s]\n",
      "100%|██████████| 10000/10000 [00:10<00:00, 959.89it/s]\n",
      "100%|██████████| 10000/10000 [00:10<00:00, 997.71it/s]\n",
      "100%|██████████| 10000/10000 [00:10<00:00, 940.44it/s]\n",
      "100%|██████████| 10000/10000 [00:10<00:00, 958.26it/s]\n",
      "100%|██████████| 10000/10000 [00:10<00:00, 994.75it/s]\n",
      "100%|██████████| 10000/10000 [00:10<00:00, 963.38it/s]\n",
      "100%|██████████| 10000/10000 [00:10<00:00, 925.33it/s]\n"
     ]
    },
    {
     "name": "stdout",
     "output_type": "stream",
     "text": [
      "\n",
      "29 / 500 episodes, total number of timesteps: 300000/5000000, Time: 6 minutes. \n",
      "Average episode rewards: 😈 0.0066999997943639755, 😇 0.0012983339838683605.\n"
     ]
    },
    {
     "name": "stderr",
     "output_type": "stream",
     "text": [
      "100%|██████████| 10000/10000 [00:11<00:00, 904.55it/s]\n"
     ]
    },
    {
     "name": "stdout",
     "output_type": "stream",
     "text": [
      "Policy is saved.\n"
     ]
    },
    {
     "name": "stderr",
     "output_type": "stream",
     "text": [
      "100%|██████████| 10000/10000 [00:10<00:00, 970.11it/s]\n",
      "100%|██████████| 10000/10000 [00:10<00:00, 980.06it/s]\n",
      "100%|██████████| 10000/10000 [00:11<00:00, 836.35it/s]\n",
      "100%|██████████| 10000/10000 [00:10<00:00, 928.02it/s]\n",
      "100%|██████████| 10000/10000 [00:10<00:00, 992.67it/s]\n",
      "100%|██████████| 10000/10000 [00:09<00:00, 1000.87it/s]\n",
      "100%|██████████| 10000/10000 [00:10<00:00, 957.67it/s]\n",
      "100%|██████████| 10000/10000 [00:09<00:00, 1014.29it/s]\n",
      "100%|██████████| 10000/10000 [00:11<00:00, 849.23it/s]\n"
     ]
    },
    {
     "name": "stdout",
     "output_type": "stream",
     "text": [
      "\n",
      "39 / 500 episodes, total number of timesteps: 400000/5000000, Time: 8 minutes. \n",
      "Average episode rewards: 😈 0.003800000064074993, 😇 0.004513333551585674.\n"
     ]
    },
    {
     "name": "stderr",
     "output_type": "stream",
     "text": [
      "100%|██████████| 10000/10000 [00:10<00:00, 983.78it/s]\n"
     ]
    },
    {
     "name": "stdout",
     "output_type": "stream",
     "text": [
      "Policy is saved.\n"
     ]
    },
    {
     "name": "stderr",
     "output_type": "stream",
     "text": [
      "100%|██████████| 10000/10000 [00:10<00:00, 991.64it/s]\n",
      "100%|██████████| 10000/10000 [00:12<00:00, 818.32it/s]\n",
      "100%|██████████| 10000/10000 [00:10<00:00, 928.21it/s]\n",
      "100%|██████████| 10000/10000 [00:11<00:00, 885.52it/s]\n",
      "100%|██████████| 10000/10000 [00:12<00:00, 820.72it/s]\n",
      "100%|██████████| 10000/10000 [00:10<00:00, 952.22it/s]\n",
      "100%|██████████| 10000/10000 [00:10<00:00, 922.46it/s]\n",
      "100%|██████████| 10000/10000 [00:10<00:00, 937.93it/s]\n",
      "100%|██████████| 10000/10000 [00:10<00:00, 953.38it/s]\n"
     ]
    },
    {
     "name": "stdout",
     "output_type": "stream",
     "text": [
      "\n",
      "49 / 500 episodes, total number of timesteps: 500000/5000000, Time: 10 minutes. \n",
      "Average episode rewards: 😈 0.00419999985024333, 😇 0.0049400003626942635.\n"
     ]
    },
    {
     "name": "stderr",
     "output_type": "stream",
     "text": [
      "100%|██████████| 10000/10000 [00:10<00:00, 915.27it/s]\n"
     ]
    },
    {
     "name": "stdout",
     "output_type": "stream",
     "text": [
      "Policy is saved.\n"
     ]
    },
    {
     "name": "stderr",
     "output_type": "stream",
     "text": [
      "100%|██████████| 10000/10000 [00:10<00:00, 951.81it/s]\n",
      "100%|██████████| 10000/10000 [00:10<00:00, 966.25it/s]\n",
      "100%|██████████| 10000/10000 [00:10<00:00, 953.31it/s]\n",
      "100%|██████████| 10000/10000 [00:10<00:00, 996.43it/s]\n",
      "100%|██████████| 10000/10000 [00:10<00:00, 914.00it/s]\n",
      "100%|██████████| 10000/10000 [00:12<00:00, 832.17it/s]\n",
      "100%|██████████| 10000/10000 [00:10<00:00, 927.44it/s]\n",
      "100%|██████████| 10000/10000 [00:12<00:00, 823.09it/s]\n",
      "100%|██████████| 10000/10000 [00:10<00:00, 980.59it/s]\n"
     ]
    },
    {
     "name": "stdout",
     "output_type": "stream",
     "text": [
      "\n",
      "59 / 500 episodes, total number of timesteps: 600000/5000000, Time: 12 minutes. \n",
      "Average episode rewards: 😈 -0.00039999998989515007, 😇 0.010063334368169308.\n"
     ]
    },
    {
     "name": "stderr",
     "output_type": "stream",
     "text": [
      "100%|██████████| 10000/10000 [00:09<00:00, 1013.24it/s]\n"
     ]
    },
    {
     "name": "stdout",
     "output_type": "stream",
     "text": [
      "Policy is saved.\n"
     ]
    },
    {
     "name": "stderr",
     "output_type": "stream",
     "text": [
      "100%|██████████| 10000/10000 [00:10<00:00, 956.32it/s]\n",
      "100%|██████████| 10000/10000 [00:10<00:00, 912.13it/s]\n",
      "100%|██████████| 10000/10000 [00:09<00:00, 1014.64it/s]\n",
      "100%|██████████| 10000/10000 [00:10<00:00, 955.63it/s]\n",
      "100%|██████████| 10000/10000 [00:10<00:00, 957.53it/s]\n",
      "100%|██████████| 10000/10000 [00:10<00:00, 935.51it/s]\n",
      "100%|██████████| 10000/10000 [00:10<00:00, 969.67it/s]\n",
      "100%|██████████| 10000/10000 [00:09<00:00, 1034.30it/s]\n",
      "100%|██████████| 10000/10000 [00:10<00:00, 965.65it/s]\n"
     ]
    },
    {
     "name": "stdout",
     "output_type": "stream",
     "text": [
      "\n",
      "69 / 500 episodes, total number of timesteps: 700000/5000000, Time: 14 minutes. \n",
      "Average episode rewards: 😈 0.005200000014156103, 😇 0.0028866673819720745.\n"
     ]
    },
    {
     "name": "stderr",
     "output_type": "stream",
     "text": [
      "100%|██████████| 10000/10000 [00:10<00:00, 969.75it/s]\n"
     ]
    },
    {
     "name": "stdout",
     "output_type": "stream",
     "text": [
      "Policy is saved.\n"
     ]
    },
    {
     "name": "stderr",
     "output_type": "stream",
     "text": [
      "100%|██████████| 10000/10000 [00:11<00:00, 899.11it/s]\n",
      "100%|██████████| 10000/10000 [00:10<00:00, 965.65it/s]\n",
      "100%|██████████| 10000/10000 [00:10<00:00, 988.85it/s]\n",
      "100%|██████████| 10000/10000 [00:09<00:00, 1021.68it/s]\n",
      "100%|██████████| 10000/10000 [00:10<00:00, 951.53it/s]\n",
      "100%|██████████| 10000/10000 [00:12<00:00, 809.03it/s]\n",
      "100%|██████████| 10000/10000 [00:09<00:00, 1007.67it/s]\n",
      "100%|██████████| 10000/10000 [00:10<00:00, 971.84it/s]\n",
      "100%|██████████| 10000/10000 [00:10<00:00, 964.07it/s]\n"
     ]
    },
    {
     "name": "stdout",
     "output_type": "stream",
     "text": [
      "\n",
      "79 / 500 episodes, total number of timesteps: 800000/5000000, Time: 16 minutes. \n",
      "Average episode rewards: 😈 0.017100000753998756, 😇 -0.013953333720564842.\n"
     ]
    },
    {
     "name": "stderr",
     "output_type": "stream",
     "text": [
      "100%|██████████| 10000/10000 [00:11<00:00, 856.08it/s]\n"
     ]
    },
    {
     "name": "stdout",
     "output_type": "stream",
     "text": [
      "Policy is saved.\n"
     ]
    },
    {
     "name": "stderr",
     "output_type": "stream",
     "text": [
      "100%|██████████| 10000/10000 [00:13<00:00, 739.46it/s]\n",
      "100%|██████████| 10000/10000 [00:10<00:00, 934.28it/s]\n",
      "100%|██████████| 10000/10000 [00:10<00:00, 985.61it/s]\n",
      "100%|██████████| 10000/10000 [00:10<00:00, 992.85it/s]\n",
      "100%|██████████| 10000/10000 [00:10<00:00, 909.27it/s]\n",
      "100%|██████████| 10000/10000 [00:11<00:00, 904.58it/s]\n",
      "100%|██████████| 10000/10000 [00:10<00:00, 988.94it/s]\n",
      "100%|██████████| 10000/10000 [00:11<00:00, 857.09it/s]\n",
      "100%|██████████| 10000/10000 [00:09<00:00, 1042.08it/s]\n"
     ]
    },
    {
     "name": "stdout",
     "output_type": "stream",
     "text": [
      "\n",
      "89 / 500 episodes, total number of timesteps: 900000/5000000, Time: 18 minutes. \n",
      "Average episode rewards: 😈 0.013299999758601189, 😇 -0.008153333328664303.\n"
     ]
    },
    {
     "name": "stderr",
     "output_type": "stream",
     "text": [
      "100%|██████████| 10000/10000 [00:09<00:00, 1044.83it/s]\n"
     ]
    },
    {
     "name": "stdout",
     "output_type": "stream",
     "text": [
      "Policy is saved.\n"
     ]
    },
    {
     "name": "stderr",
     "output_type": "stream",
     "text": [
      "100%|██████████| 10000/10000 [00:10<00:00, 974.69it/s]\n",
      "100%|██████████| 10000/10000 [00:10<00:00, 986.42it/s]\n",
      "100%|██████████| 10000/10000 [00:09<00:00, 1004.90it/s]\n",
      "100%|██████████| 10000/10000 [00:09<00:00, 1020.18it/s]\n",
      "100%|██████████| 10000/10000 [00:09<00:00, 1024.46it/s]\n",
      "100%|██████████| 10000/10000 [00:09<00:00, 1028.53it/s]\n",
      "100%|██████████| 10000/10000 [00:10<00:00, 975.81it/s]\n",
      "100%|██████████| 10000/10000 [00:10<00:00, 923.11it/s]\n",
      "100%|██████████| 10000/10000 [00:12<00:00, 821.66it/s]\n"
     ]
    },
    {
     "name": "stdout",
     "output_type": "stream",
     "text": [
      "\n",
      "99 / 500 episodes, total number of timesteps: 1000000/5000000, Time: 20 minutes. \n",
      "Average episode rewards: 😈 0.011800000444054604, 😇 -0.0061683328822255135.\n"
     ]
    },
    {
     "name": "stderr",
     "output_type": "stream",
     "text": [
      "100%|██████████| 10000/10000 [00:10<00:00, 952.85it/s]\n"
     ]
    },
    {
     "name": "stdout",
     "output_type": "stream",
     "text": [
      "Policy is saved.\n"
     ]
    },
    {
     "name": "stderr",
     "output_type": "stream",
     "text": [
      "100%|██████████| 10000/10000 [00:10<00:00, 916.34it/s]\n",
      "100%|██████████| 10000/10000 [00:09<00:00, 1006.92it/s]\n",
      "100%|██████████| 10000/10000 [00:11<00:00, 838.06it/s]\n",
      "100%|██████████| 10000/10000 [00:10<00:00, 955.72it/s]\n",
      "100%|██████████| 10000/10000 [00:10<00:00, 982.65it/s]\n",
      "100%|██████████| 10000/10000 [00:10<00:00, 962.74it/s]\n",
      "100%|██████████| 10000/10000 [00:10<00:00, 999.79it/s]\n",
      "100%|██████████| 10000/10000 [00:10<00:00, 993.87it/s]\n",
      "100%|██████████| 10000/10000 [00:10<00:00, 951.58it/s]\n"
     ]
    },
    {
     "name": "stdout",
     "output_type": "stream",
     "text": [
      "\n",
      "109 / 500 episodes, total number of timesteps: 1100000/5000000, Time: 23 minutes. \n",
      "Average episode rewards: 😈 0.026599999517202377, 😇 -0.02755500003695488.\n"
     ]
    },
    {
     "name": "stderr",
     "output_type": "stream",
     "text": [
      " 50%|████▉     | 4960/10000 [00:05<00:05, 986.87it/s] \n"
     ]
    },
    {
     "ename": "KeyboardInterrupt",
     "evalue": "",
     "output_type": "error",
     "traceback": [
      "\u001b[0;31m---------------------------------------------------------------------------\u001b[0m",
      "\u001b[0;31mKeyboardInterrupt\u001b[0m                         Traceback (most recent call last)",
      "Cell \u001b[0;32mIn[5], line 1\u001b[0m\n\u001b[0;32m----> 1\u001b[0m runner\u001b[38;5;241m.\u001b[39mrun()\n",
      "File \u001b[0;32m~/Pipelines/Projects/1D_Robot/app/runner/runner_all.py:121\u001b[0m, in \u001b[0;36mRunnerMA_Both.run\u001b[0;34m(self, verbose)\u001b[0m\n\u001b[1;32m    116\u001b[0m     \u001b[38;5;28mself\u001b[39m\u001b[38;5;241m.\u001b[39mtrainer_good\u001b[38;5;241m.\u001b[39mpolicy\u001b[38;5;241m.\u001b[39mlr_decay(episode, episodes)\n\u001b[1;32m    118\u001b[0m \u001b[38;5;28;01mfor\u001b[39;00m step \u001b[38;5;129;01min\u001b[39;00m tqdm(\u001b[38;5;28mrange\u001b[39m(\u001b[38;5;28mself\u001b[39m\u001b[38;5;241m.\u001b[39mepisode_length)):  \u001b[38;5;66;03m# Max length for any episode\u001b[39;00m\n\u001b[1;32m    119\u001b[0m     \u001b[38;5;66;03m# (1) sample action               \u001b[39;00m\n\u001b[1;32m    120\u001b[0m     values_evil, actions_evil, action_log_probs_evil, action_probs_evil, \\\n\u001b[0;32m--> 121\u001b[0m         values_good, actions_good, action_log_probs_good, action_probs_good, actions_env \u001b[38;5;241m=\u001b[39m \u001b[38;5;28mself\u001b[39m\u001b[38;5;241m.\u001b[39mcollect(step)\n\u001b[1;32m    123\u001b[0m     \u001b[38;5;66;03m# (2) Make env step\u001b[39;00m\n\u001b[1;32m    124\u001b[0m     obs, share_obs, available_actions, rewards, done, info \u001b[38;5;241m=\u001b[39m \u001b[38;5;28mself\u001b[39m\u001b[38;5;241m.\u001b[39menv\u001b[38;5;241m.\u001b[39mstep(actions_env)\n",
      "File \u001b[0;32m~/anaconda3/lib/python3.11/site-packages/torch/utils/_contextlib.py:115\u001b[0m, in \u001b[0;36mcontext_decorator.<locals>.decorate_context\u001b[0;34m(*args, **kwargs)\u001b[0m\n\u001b[1;32m    112\u001b[0m \u001b[38;5;129m@functools\u001b[39m\u001b[38;5;241m.\u001b[39mwraps(func)\n\u001b[1;32m    113\u001b[0m \u001b[38;5;28;01mdef\u001b[39;00m \u001b[38;5;21mdecorate_context\u001b[39m(\u001b[38;5;241m*\u001b[39margs, \u001b[38;5;241m*\u001b[39m\u001b[38;5;241m*\u001b[39mkwargs):\n\u001b[1;32m    114\u001b[0m     \u001b[38;5;28;01mwith\u001b[39;00m ctx_factory():\n\u001b[0;32m--> 115\u001b[0m         \u001b[38;5;28;01mreturn\u001b[39;00m func(\u001b[38;5;241m*\u001b[39margs, \u001b[38;5;241m*\u001b[39m\u001b[38;5;241m*\u001b[39mkwargs)\n",
      "File \u001b[0;32m~/Pipelines/Projects/1D_Robot/app/runner/runner_all.py:203\u001b[0m, in \u001b[0;36mRunnerMA_Both.collect\u001b[0;34m(self, step)\u001b[0m\n\u001b[1;32m    200\u001b[0m \u001b[38;5;28mself\u001b[39m\u001b[38;5;241m.\u001b[39mtrainer_good\u001b[38;5;241m.\u001b[39mprep_rollout()\n\u001b[1;32m    202\u001b[0m \u001b[38;5;66;03m# GET ACTIONS: Evil\u001b[39;00m\n\u001b[0;32m--> 203\u001b[0m values_evil, actions_evil, action_log_probs_evil, action_probs_evil \u001b[38;5;241m=\u001b[39m \u001b[38;5;28mself\u001b[39m\u001b[38;5;241m.\u001b[39mtrainer_evil\u001b[38;5;241m.\u001b[39mpolicy\u001b[38;5;241m.\u001b[39mget_actions(\n\u001b[1;32m    204\u001b[0m     \u001b[38;5;28mself\u001b[39m\u001b[38;5;241m.\u001b[39mbuffer_evil\u001b[38;5;241m.\u001b[39mshare_obs[step],\n\u001b[1;32m    205\u001b[0m     \u001b[38;5;28mself\u001b[39m\u001b[38;5;241m.\u001b[39mbuffer_evil\u001b[38;5;241m.\u001b[39mobs[step],\n\u001b[1;32m    206\u001b[0m     \u001b[38;5;28mself\u001b[39m\u001b[38;5;241m.\u001b[39mbuffer_evil\u001b[38;5;241m.\u001b[39mavailable_actions[step],\n\u001b[1;32m    207\u001b[0m )\n\u001b[1;32m    208\u001b[0m \u001b[38;5;66;03m# convert to numpy\u001b[39;00m\n\u001b[1;32m    209\u001b[0m values_evil \u001b[38;5;241m=\u001b[39m np\u001b[38;5;241m.\u001b[39marray(values_evil)\n",
      "File \u001b[0;32m~/Pipelines/Projects/1D_Robot/app/alg/mappo.py:66\u001b[0m, in \u001b[0;36mMAPPOPolicy.get_actions\u001b[0;34m(self, cent_obs, obs, available_actions, deterministic)\u001b[0m\n\u001b[1;32m     50\u001b[0m \u001b[38;5;28;01mdef\u001b[39;00m \u001b[38;5;21mget_actions\u001b[39m(\u001b[38;5;28mself\u001b[39m, cent_obs, obs, available_actions\u001b[38;5;241m=\u001b[39m\u001b[38;5;28;01mNone\u001b[39;00m, deterministic\u001b[38;5;241m=\u001b[39m\u001b[38;5;28;01mFalse\u001b[39;00m):\n\u001b[1;32m     51\u001b[0m \u001b[38;5;250m    \u001b[39m\u001b[38;5;124;03m\"\"\"\u001b[39;00m\n\u001b[1;32m     52\u001b[0m \u001b[38;5;124;03m    Compute actions and value function predictions for the given inputs.\u001b[39;00m\n\u001b[1;32m     53\u001b[0m \u001b[38;5;124;03m    Parameters:\u001b[39;00m\n\u001b[0;32m   (...)\u001b[0m\n\u001b[1;32m     64\u001b[0m \u001b[38;5;124;03m        action_probs (torch.Tensor): probabilities of the actions.\u001b[39;00m\n\u001b[1;32m     65\u001b[0m \u001b[38;5;124;03m    \"\"\"\u001b[39;00m\n\u001b[0;32m---> 66\u001b[0m     actions, action_log_probs, action_probs \u001b[38;5;241m=\u001b[39m \u001b[38;5;28mself\u001b[39m\u001b[38;5;241m.\u001b[39mactor(obs, available_actions, deterministic)\n\u001b[1;32m     67\u001b[0m     values \u001b[38;5;241m=\u001b[39m \u001b[38;5;28mself\u001b[39m\u001b[38;5;241m.\u001b[39mcritic(cent_obs)\n\u001b[1;32m     68\u001b[0m     \u001b[38;5;28;01mreturn\u001b[39;00m values, actions, action_log_probs, action_probs\n",
      "File \u001b[0;32m~/anaconda3/lib/python3.11/site-packages/torch/nn/modules/module.py:1511\u001b[0m, in \u001b[0;36mModule._wrapped_call_impl\u001b[0;34m(self, *args, **kwargs)\u001b[0m\n\u001b[1;32m   1509\u001b[0m     \u001b[38;5;28;01mreturn\u001b[39;00m \u001b[38;5;28mself\u001b[39m\u001b[38;5;241m.\u001b[39m_compiled_call_impl(\u001b[38;5;241m*\u001b[39margs, \u001b[38;5;241m*\u001b[39m\u001b[38;5;241m*\u001b[39mkwargs)  \u001b[38;5;66;03m# type: ignore[misc]\u001b[39;00m\n\u001b[1;32m   1510\u001b[0m \u001b[38;5;28;01melse\u001b[39;00m:\n\u001b[0;32m-> 1511\u001b[0m     \u001b[38;5;28;01mreturn\u001b[39;00m \u001b[38;5;28mself\u001b[39m\u001b[38;5;241m.\u001b[39m_call_impl(\u001b[38;5;241m*\u001b[39margs, \u001b[38;5;241m*\u001b[39m\u001b[38;5;241m*\u001b[39mkwargs)\n",
      "File \u001b[0;32m~/anaconda3/lib/python3.11/site-packages/torch/nn/modules/module.py:1520\u001b[0m, in \u001b[0;36mModule._call_impl\u001b[0;34m(self, *args, **kwargs)\u001b[0m\n\u001b[1;32m   1515\u001b[0m \u001b[38;5;66;03m# If we don't have any hooks, we want to skip the rest of the logic in\u001b[39;00m\n\u001b[1;32m   1516\u001b[0m \u001b[38;5;66;03m# this function, and just call forward.\u001b[39;00m\n\u001b[1;32m   1517\u001b[0m \u001b[38;5;28;01mif\u001b[39;00m \u001b[38;5;129;01mnot\u001b[39;00m (\u001b[38;5;28mself\u001b[39m\u001b[38;5;241m.\u001b[39m_backward_hooks \u001b[38;5;129;01mor\u001b[39;00m \u001b[38;5;28mself\u001b[39m\u001b[38;5;241m.\u001b[39m_backward_pre_hooks \u001b[38;5;129;01mor\u001b[39;00m \u001b[38;5;28mself\u001b[39m\u001b[38;5;241m.\u001b[39m_forward_hooks \u001b[38;5;129;01mor\u001b[39;00m \u001b[38;5;28mself\u001b[39m\u001b[38;5;241m.\u001b[39m_forward_pre_hooks\n\u001b[1;32m   1518\u001b[0m         \u001b[38;5;129;01mor\u001b[39;00m _global_backward_pre_hooks \u001b[38;5;129;01mor\u001b[39;00m _global_backward_hooks\n\u001b[1;32m   1519\u001b[0m         \u001b[38;5;129;01mor\u001b[39;00m _global_forward_hooks \u001b[38;5;129;01mor\u001b[39;00m _global_forward_pre_hooks):\n\u001b[0;32m-> 1520\u001b[0m     \u001b[38;5;28;01mreturn\u001b[39;00m forward_call(\u001b[38;5;241m*\u001b[39margs, \u001b[38;5;241m*\u001b[39m\u001b[38;5;241m*\u001b[39mkwargs)\n\u001b[1;32m   1522\u001b[0m \u001b[38;5;28;01mtry\u001b[39;00m:\n\u001b[1;32m   1523\u001b[0m     result \u001b[38;5;241m=\u001b[39m \u001b[38;5;28;01mNone\u001b[39;00m\n",
      "File \u001b[0;32m~/Pipelines/Projects/1D_Robot/app/alg/actor_critic.py:37\u001b[0m, in \u001b[0;36mActor.forward\u001b[0;34m(self, obs, available_actions, deterministic)\u001b[0m\n\u001b[1;32m     34\u001b[0m     available_actions \u001b[38;5;241m=\u001b[39m check_array(available_actions)\u001b[38;5;241m.\u001b[39mto(\u001b[38;5;241m*\u001b[39m\u001b[38;5;241m*\u001b[39m\u001b[38;5;28mself\u001b[39m\u001b[38;5;241m.\u001b[39mtpdv)\n\u001b[1;32m     36\u001b[0m actor_features \u001b[38;5;241m=\u001b[39m \u001b[38;5;28mself\u001b[39m\u001b[38;5;241m.\u001b[39mbase(obs)  \u001b[38;5;66;03m# the output of base NN\u001b[39;00m\n\u001b[0;32m---> 37\u001b[0m actions, action_log_probs, action_probs \u001b[38;5;241m=\u001b[39m \u001b[38;5;28mself\u001b[39m\u001b[38;5;241m.\u001b[39mact(actor_features, available_actions, deterministic)  \u001b[38;5;66;03m# forward pass\u001b[39;00m\n\u001b[1;32m     38\u001b[0m \u001b[38;5;28;01mreturn\u001b[39;00m actions, action_log_probs, action_probs\n",
      "File \u001b[0;32m~/anaconda3/lib/python3.11/site-packages/torch/nn/modules/module.py:1511\u001b[0m, in \u001b[0;36mModule._wrapped_call_impl\u001b[0;34m(self, *args, **kwargs)\u001b[0m\n\u001b[1;32m   1509\u001b[0m     \u001b[38;5;28;01mreturn\u001b[39;00m \u001b[38;5;28mself\u001b[39m\u001b[38;5;241m.\u001b[39m_compiled_call_impl(\u001b[38;5;241m*\u001b[39margs, \u001b[38;5;241m*\u001b[39m\u001b[38;5;241m*\u001b[39mkwargs)  \u001b[38;5;66;03m# type: ignore[misc]\u001b[39;00m\n\u001b[1;32m   1510\u001b[0m \u001b[38;5;28;01melse\u001b[39;00m:\n\u001b[0;32m-> 1511\u001b[0m     \u001b[38;5;28;01mreturn\u001b[39;00m \u001b[38;5;28mself\u001b[39m\u001b[38;5;241m.\u001b[39m_call_impl(\u001b[38;5;241m*\u001b[39margs, \u001b[38;5;241m*\u001b[39m\u001b[38;5;241m*\u001b[39mkwargs)\n",
      "File \u001b[0;32m~/anaconda3/lib/python3.11/site-packages/torch/nn/modules/module.py:1520\u001b[0m, in \u001b[0;36mModule._call_impl\u001b[0;34m(self, *args, **kwargs)\u001b[0m\n\u001b[1;32m   1515\u001b[0m \u001b[38;5;66;03m# If we don't have any hooks, we want to skip the rest of the logic in\u001b[39;00m\n\u001b[1;32m   1516\u001b[0m \u001b[38;5;66;03m# this function, and just call forward.\u001b[39;00m\n\u001b[1;32m   1517\u001b[0m \u001b[38;5;28;01mif\u001b[39;00m \u001b[38;5;129;01mnot\u001b[39;00m (\u001b[38;5;28mself\u001b[39m\u001b[38;5;241m.\u001b[39m_backward_hooks \u001b[38;5;129;01mor\u001b[39;00m \u001b[38;5;28mself\u001b[39m\u001b[38;5;241m.\u001b[39m_backward_pre_hooks \u001b[38;5;129;01mor\u001b[39;00m \u001b[38;5;28mself\u001b[39m\u001b[38;5;241m.\u001b[39m_forward_hooks \u001b[38;5;129;01mor\u001b[39;00m \u001b[38;5;28mself\u001b[39m\u001b[38;5;241m.\u001b[39m_forward_pre_hooks\n\u001b[1;32m   1518\u001b[0m         \u001b[38;5;129;01mor\u001b[39;00m _global_backward_pre_hooks \u001b[38;5;129;01mor\u001b[39;00m _global_backward_hooks\n\u001b[1;32m   1519\u001b[0m         \u001b[38;5;129;01mor\u001b[39;00m _global_forward_hooks \u001b[38;5;129;01mor\u001b[39;00m _global_forward_pre_hooks):\n\u001b[0;32m-> 1520\u001b[0m     \u001b[38;5;28;01mreturn\u001b[39;00m forward_call(\u001b[38;5;241m*\u001b[39margs, \u001b[38;5;241m*\u001b[39m\u001b[38;5;241m*\u001b[39mkwargs)\n\u001b[1;32m   1522\u001b[0m \u001b[38;5;28;01mtry\u001b[39;00m:\n\u001b[1;32m   1523\u001b[0m     result \u001b[38;5;241m=\u001b[39m \u001b[38;5;28;01mNone\u001b[39;00m\n",
      "File \u001b[0;32m~/Pipelines/Projects/1D_Robot/app/alg/actor_critic.py:172\u001b[0m, in \u001b[0;36mActionDistributionLayer.forward\u001b[0;34m(self, x, available_actions, deterministic)\u001b[0m\n\u001b[1;32m    170\u001b[0m     x[available_actions \u001b[38;5;241m==\u001b[39m \u001b[38;5;241m0\u001b[39m] \u001b[38;5;241m=\u001b[39m \u001b[38;5;241m-\u001b[39m\u001b[38;5;241m1e10\u001b[39m\n\u001b[1;32m    171\u001b[0m action_logits \u001b[38;5;241m=\u001b[39m FixedCategorical(logits\u001b[38;5;241m=\u001b[39mx)\n\u001b[0;32m--> 172\u001b[0m actions \u001b[38;5;241m=\u001b[39m action_logits\u001b[38;5;241m.\u001b[39mmode() \u001b[38;5;28;01mif\u001b[39;00m deterministic \u001b[38;5;28;01melse\u001b[39;00m action_logits\u001b[38;5;241m.\u001b[39msample()\n\u001b[1;32m    173\u001b[0m action_log_probs \u001b[38;5;241m=\u001b[39m action_logits\u001b[38;5;241m.\u001b[39mlog_probs(actions)\n\u001b[1;32m    174\u001b[0m action_probs \u001b[38;5;241m=\u001b[39m action_logits\u001b[38;5;241m.\u001b[39mprobs\n",
      "File \u001b[0;32m~/Pipelines/Projects/1D_Robot/app/alg/actor_critic.py:118\u001b[0m, in \u001b[0;36mFixedCategorical.sample\u001b[0;34m(self)\u001b[0m\n\u001b[1;32m    117\u001b[0m \u001b[38;5;28;01mdef\u001b[39;00m \u001b[38;5;21msample\u001b[39m(\u001b[38;5;28mself\u001b[39m):\n\u001b[0;32m--> 118\u001b[0m     \u001b[38;5;28;01mreturn\u001b[39;00m \u001b[38;5;28msuper\u001b[39m()\u001b[38;5;241m.\u001b[39msample()\u001b[38;5;241m.\u001b[39munsqueeze(\u001b[38;5;241m-\u001b[39m\u001b[38;5;241m1\u001b[39m)\n",
      "File \u001b[0;32m~/anaconda3/lib/python3.11/site-packages/torch/distributions/categorical.py:132\u001b[0m, in \u001b[0;36mCategorical.sample\u001b[0;34m(self, sample_shape)\u001b[0m\n\u001b[1;32m    130\u001b[0m     sample_shape \u001b[38;5;241m=\u001b[39m torch\u001b[38;5;241m.\u001b[39mSize(sample_shape)\n\u001b[1;32m    131\u001b[0m probs_2d \u001b[38;5;241m=\u001b[39m \u001b[38;5;28mself\u001b[39m\u001b[38;5;241m.\u001b[39mprobs\u001b[38;5;241m.\u001b[39mreshape(\u001b[38;5;241m-\u001b[39m\u001b[38;5;241m1\u001b[39m, \u001b[38;5;28mself\u001b[39m\u001b[38;5;241m.\u001b[39m_num_events)\n\u001b[0;32m--> 132\u001b[0m samples_2d \u001b[38;5;241m=\u001b[39m torch\u001b[38;5;241m.\u001b[39mmultinomial(probs_2d, sample_shape\u001b[38;5;241m.\u001b[39mnumel(), \u001b[38;5;28;01mTrue\u001b[39;00m)\u001b[38;5;241m.\u001b[39mT\n\u001b[1;32m    133\u001b[0m \u001b[38;5;28;01mreturn\u001b[39;00m samples_2d\u001b[38;5;241m.\u001b[39mreshape(\u001b[38;5;28mself\u001b[39m\u001b[38;5;241m.\u001b[39m_extended_shape(sample_shape))\n",
      "\u001b[0;31mKeyboardInterrupt\u001b[0m: "
     ]
    }
   ],
   "source": [
    "runner.run()"
   ]
  },
  {
   "cell_type": "code",
   "execution_count": null,
   "id": "b3c5ab25-353c-453d-af0c-a43e91f5fb14",
   "metadata": {
    "tags": []
   },
   "outputs": [],
   "source": [
    "runner.save('256-128-64')"
   ]
  },
  {
   "cell_type": "code",
   "execution_count": null,
   "id": "7d0c3fba-4ef9-4e9e-8195-3cd602c8213f",
   "metadata": {
    "tags": []
   },
   "outputs": [],
   "source": [
    "runner.eval(1000)"
   ]
  },
  {
   "cell_type": "code",
   "execution_count": null,
   "id": "3d61d0c3-4bf6-4e37-818f-92b4449f9de0",
   "metadata": {
    "tags": []
   },
   "outputs": [],
   "source": [
    "runner.buffer_good.value_preds"
   ]
  },
  {
   "cell_type": "code",
   "execution_count": null,
   "id": "da46eb5a-231d-4af3-8a66-a04ce0211e8e",
   "metadata": {
    "tags": []
   },
   "outputs": [],
   "source": [
    "runner.buffer_evil.compute_returns()"
   ]
  },
  {
   "cell_type": "code",
   "execution_count": null,
   "id": "f97fb0bc-ef8a-46a0-8d8a-a30d9dcf13b0",
   "metadata": {
    "tags": []
   },
   "outputs": [],
   "source": []
  },
  {
   "cell_type": "code",
   "execution_count": null,
   "id": "178cb8ec-c5d0-4d55-bb59-3189c0db2b12",
   "metadata": {
    "tags": []
   },
   "outputs": [],
   "source": []
  },
  {
   "cell_type": "code",
   "execution_count": null,
   "id": "b18d32a5-ddc5-4b41-8cd1-330279ac092e",
   "metadata": {},
   "outputs": [],
   "source": []
  }
 ],
 "metadata": {
  "kernelspec": {
   "display_name": "Python 3 (ipykernel)",
   "language": "python",
   "name": "python3"
  },
  "language_info": {
   "codemirror_mode": {
    "name": "ipython",
    "version": 3
   },
   "file_extension": ".py",
   "mimetype": "text/x-python",
   "name": "python",
   "nbconvert_exporter": "python",
   "pygments_lexer": "ipython3",
   "version": "3.11.0"
  }
 },
 "nbformat": 4,
 "nbformat_minor": 5
}
