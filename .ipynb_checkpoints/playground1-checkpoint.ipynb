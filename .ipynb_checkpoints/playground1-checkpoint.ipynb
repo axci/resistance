{
 "cells": [
  {
   "cell_type": "code",
   "execution_count": 1,
   "id": "daa33caf-96e8-48a7-99b0-8569ad0db7e3",
   "metadata": {
    "tags": []
   },
   "outputs": [],
   "source": [
    "import os\n",
    "from runner.runner import Runner\n",
    "from env.robot_1d import CorridorEnv, CorridorEnv_v2, CorridorFullyVisibleEnv, RandomRobotEnv\n"
   ]
  },
  {
   "cell_type": "markdown",
   "id": "a8359652-da92-45c3-8d4d-32e8c591a9fb",
   "metadata": {},
   "source": [
    "### Set up"
   ]
  },
  {
   "cell_type": "code",
   "execution_count": 2,
   "id": "d748925a-e5d7-4448-8410-d435f376b7ea",
   "metadata": {
    "tags": []
   },
   "outputs": [],
   "source": [
    "# Example configuration\n",
    "class Args:\n",
    "    def __init__(self):\n",
    "        self.env_name = 'CorridorEnv'\n",
    "        self.algorithm_name = 'PPO'\n",
    "        self.experiment_name = 'corridor_experiment'\n",
    "        self.use_centralized_V = False\n",
    "        self.num_env_steps = 1000000\n",
    "        self.episode_length = 10000\n",
    "        self.n_rollout_threads = 1\n",
    "        self.use_linear_lr_decay = False\n",
    "        self.hidden_size = 64\n",
    "        self.gamma = .99\n",
    "        self.gae_lambda = .95\n",
    "        self._use_gae = True\n",
    "        self.actor_lr = 7e-4\n",
    "        self.critic_lr = 1e-3\n",
    "        self.opti_eps=1e-5\n",
    "        self.weight_decay=0\n",
    "        self.gamma=0.99\n",
    "        self.clip_param=0.2\n",
    "        self.value_loss_coef=1\n",
    "        self.entropy_coef=0.01\n",
    "        self.ppo_epoch=10\n",
    "        self.num_mini_batch=1\n",
    "        self.huber_delta=10.0\n",
    "        self.use_huber_loss=True\n",
    "        self.use_clipped_value_loss=True\n",
    "        self.gain = 0.01\n",
    "        self.use_orthogonal = True\n",
    "        self.use_feature_normalization = True\n",
    "        self.use_ReLU = True\n",
    "        self.layer_N = 1\n",
    "        self.log_interval = 1000  # log every x steps\n",
    "        \n",
    "\n",
    "# Assuming CorridorEnv is defined as in your previous example\n",
    "num_cells = 100\n",
    "num_agents = 1\n",
    "env = CorridorEnv_v2(num_cells=num_cells, num_agents=num_agents)\n",
    "\n",
    "config = {\n",
    "    'all_args': Args(),\n",
    "    'env': env,\n",
    "    'device': 'cpu',\n",
    "    'num_agents': 1,\n",
    "    'run_dir': 'save'\n",
    "}"
   ]
  },
  {
   "cell_type": "code",
   "execution_count": 3,
   "id": "45d791f0-4f3c-4b38-98b8-d77c7ac51ae2",
   "metadata": {
    "tags": []
   },
   "outputs": [],
   "source": [
    "# obs = env.reset()\n",
    "# env.robot_position\n",
    "# print(obs)\n",
    "# av= env.get_available_actions(obs)\n",
    "# print(av)"
   ]
  },
  {
   "cell_type": "code",
   "execution_count": 4,
   "id": "59d5ddd8-271f-450a-a6af-f1250925a13b",
   "metadata": {
    "tags": []
   },
   "outputs": [],
   "source": [
    "#robot = RandomRobotEnv(env)\n"
   ]
  },
  {
   "cell_type": "code",
   "execution_count": 5,
   "id": "f8db72ed-b1a5-4beb-8d94-d90eec104b24",
   "metadata": {
    "tags": []
   },
   "outputs": [],
   "source": [
    "# obs = env.reset()\n",
    "\n",
    "# done = False\n",
    "# while not done:\n",
    "#     action = robot.compute_single_action(obs, verbose=True)\n",
    "#     obs, rew, done = env.step(action)"
   ]
  },
  {
   "cell_type": "code",
   "execution_count": 6,
   "id": "67d34492-8527-46bf-b8d9-86a18d8fc6c0",
   "metadata": {
    "tags": []
   },
   "outputs": [
    {
     "ename": "AttributeError",
     "evalue": "'NoneType' object has no attribute 'dir'",
     "output_type": "error",
     "traceback": [
      "\u001b[0;31m---------------------------------------------------------------------------\u001b[0m",
      "\u001b[0;31mAttributeError\u001b[0m                            Traceback (most recent call last)",
      "Cell \u001b[0;32mIn[6], line 1\u001b[0m\n\u001b[0;32m----> 1\u001b[0m runner \u001b[38;5;241m=\u001b[39m Runner(config)\n\u001b[1;32m      2\u001b[0m \u001b[38;5;66;03m#runner.warmup()\u001b[39;00m\n\u001b[1;32m      3\u001b[0m runner\u001b[38;5;241m.\u001b[39mrun(verbose\u001b[38;5;241m=\u001b[39m\u001b[38;5;28;01mFalse\u001b[39;00m)\n",
      "File \u001b[0;32m~/Pipelines/Projects/1D_Robot/last_app/runner/runner.py:29\u001b[0m, in \u001b[0;36mRunner.__init__\u001b[0;34m(self, config)\u001b[0m\n\u001b[1;32m     23\u001b[0m \u001b[38;5;28mself\u001b[39m\u001b[38;5;241m.\u001b[39muse_linear_lr_decay \u001b[38;5;241m=\u001b[39m \u001b[38;5;28mself\u001b[39m\u001b[38;5;241m.\u001b[39mall_args\u001b[38;5;241m.\u001b[39muse_linear_lr_decay\n\u001b[1;32m     25\u001b[0m \u001b[38;5;66;03m# interval\u001b[39;00m\n\u001b[1;32m     26\u001b[0m \u001b[38;5;66;03m#self.save_interval = self.all_args.save_interval\u001b[39;00m\n\u001b[1;32m     27\u001b[0m \u001b[38;5;66;03m#self.use_eval = self.all_args.use_eval\u001b[39;00m\n\u001b[1;32m     28\u001b[0m \u001b[38;5;66;03m#self.eval_interval = self.all_args.eval_interval\u001b[39;00m\n\u001b[0;32m---> 29\u001b[0m \u001b[38;5;28mself\u001b[39m\u001b[38;5;241m.\u001b[39msave_dir \u001b[38;5;241m=\u001b[39m \u001b[38;5;28mstr\u001b[39m(wandb\u001b[38;5;241m.\u001b[39mrun\u001b[38;5;241m.\u001b[39mdir)\n\u001b[1;32m     30\u001b[0m \u001b[38;5;28mself\u001b[39m\u001b[38;5;241m.\u001b[39mlog_interval \u001b[38;5;241m=\u001b[39m \u001b[38;5;28mself\u001b[39m\u001b[38;5;241m.\u001b[39mall_args\u001b[38;5;241m.\u001b[39mlog_interval\n\u001b[1;32m     32\u001b[0m share_observation_space \u001b[38;5;241m=\u001b[39m \u001b[38;5;28mself\u001b[39m\u001b[38;5;241m.\u001b[39menv\u001b[38;5;241m.\u001b[39mshare_observation_space \u001b[38;5;28;01mif\u001b[39;00m \u001b[38;5;28mself\u001b[39m\u001b[38;5;241m.\u001b[39muse_centralized_V \u001b[38;5;28;01melse\u001b[39;00m \u001b[38;5;28mself\u001b[39m\u001b[38;5;241m.\u001b[39menv\u001b[38;5;241m.\u001b[39mobservation_space\n",
      "\u001b[0;31mAttributeError\u001b[0m: 'NoneType' object has no attribute 'dir'"
     ]
    }
   ],
   "source": [
    "runner = Runner(config)\n",
    "#runner.warmup()\n",
    "runner.run(verbose=False)"
   ]
  },
  {
   "cell_type": "code",
   "execution_count": null,
   "id": "c16b439c-9b72-4084-9533-328f13a40a7f",
   "metadata": {
    "tags": []
   },
   "outputs": [],
   "source": [
    "#runner.buffer.action_log_probs"
   ]
  },
  {
   "cell_type": "code",
   "execution_count": null,
   "id": "bde2da62-5ef9-456c-8531-793d53241f02",
   "metadata": {},
   "outputs": [],
   "source": []
  },
  {
   "cell_type": "code",
   "execution_count": null,
   "id": "ff2b2173-91cc-4682-9995-a1075c5b9ee0",
   "metadata": {
    "tags": []
   },
   "outputs": [],
   "source": []
  },
  {
   "cell_type": "code",
   "execution_count": null,
   "id": "b6ec33b9-9933-4de5-a124-611530041884",
   "metadata": {
    "tags": []
   },
   "outputs": [],
   "source": []
  },
  {
   "cell_type": "markdown",
   "id": "e78d67d6-9fdd-40ee-8872-e742df7524bf",
   "metadata": {},
   "source": [
    "### Manual Test"
   ]
  },
  {
   "cell_type": "code",
   "execution_count": null,
   "id": "892c05fa-ce66-4389-af3d-976f7437901b",
   "metadata": {
    "tags": []
   },
   "outputs": [],
   "source": [
    "# import numpy as np\n",
    "# episode_length = 200\n",
    "\n",
    "\n",
    "# env_manual = CorridorEnv(num_cells=num_cells, num_agents=num_agents, robot_position=55, set_manually=True)\n",
    "\n",
    "# done = False\n",
    "# obs = env_manual.reset()\n",
    "# done = False\n",
    "# episode_reward = 0\n",
    "# counter_step = 0\n",
    "# while not done:\n",
    "#     print(f'Observation: {obs}: Robot position: {env_manual.robot_position}, Coin position: {env_manual.coin_position}')\n",
    "#     values, actions, action_log_probs, action_probs = runner.policy.get_actions(\n",
    "#         np.array([obs]),  # wrap in batch dimension\n",
    "#         np.array([obs]),\n",
    "#         np.array([env.get_available_actions(obs)]),\n",
    "#         deterministic=True\n",
    "#     )\n",
    "#     actions_env = actions[0, 0].item()  # get the action for the first (and only) agent\n",
    "#     obs, reward, done = env_manual.step(actions_env)\n",
    "#     episode_reward += reward\n",
    "#     counter_step += 1\n",
    "#     if counter_step == episode_length:\n",
    "#         print('The maximum length of episode is reached.')\n",
    "#         break\n",
    "    \n",
    "#     user_friendly_format = [[f\"{num*100:.0f}%\" for num in row] for row in action_probs.tolist()]\n",
    "#     print(f'Action: {actions_env}, action probability: {user_friendly_format}')\n",
    "#     print('=======')"
   ]
  },
  {
   "cell_type": "code",
   "execution_count": null,
   "id": "1427ec8c-6809-4e21-8e32-f73313f8a7f1",
   "metadata": {
    "tags": []
   },
   "outputs": [],
   "source": []
  },
  {
   "cell_type": "code",
   "execution_count": null,
   "id": "cd6adbf9-134e-4a6d-b4a2-04676ec34541",
   "metadata": {
    "tags": []
   },
   "outputs": [],
   "source": [
    "0 == True"
   ]
  },
  {
   "cell_type": "code",
   "execution_count": null,
   "id": "31fd6a14-ffae-45ac-8a1e-7acf89b4915a",
   "metadata": {
    "tags": []
   },
   "outputs": [],
   "source": []
  },
  {
   "cell_type": "markdown",
   "id": "a52fee70-e9d4-46e8-a9e8-e6aab2871961",
   "metadata": {
    "tags": []
   },
   "source": [
    "### Test"
   ]
  },
  {
   "cell_type": "code",
   "execution_count": null,
   "id": "fad7f9e2-cab5-4ddc-b744-9efa14f54207",
   "metadata": {
    "tags": []
   },
   "outputs": [],
   "source": [
    "runner.eval(num_episodes=5, episode_length=200, deterministic=True, verbose=True)"
   ]
  },
  {
   "cell_type": "code",
   "execution_count": null,
   "id": "8031e20f-3abf-48bc-aa6a-a8b5df52cb4b",
   "metadata": {
    "tags": []
   },
   "outputs": [],
   "source": []
  },
  {
   "cell_type": "code",
   "execution_count": null,
   "id": "a0f34773-c460-4192-b478-e7b12b9f202e",
   "metadata": {
    "tags": []
   },
   "outputs": [],
   "source": []
  },
  {
   "cell_type": "code",
   "execution_count": null,
   "id": "10a9c734-ddbc-40c9-8148-0fe186a388d6",
   "metadata": {
    "tags": []
   },
   "outputs": [],
   "source": []
  },
  {
   "cell_type": "code",
   "execution_count": null,
   "id": "c1690987-c4e4-4f82-a3e5-2434b09c8c51",
   "metadata": {
    "tags": []
   },
   "outputs": [],
   "source": []
  },
  {
   "cell_type": "code",
   "execution_count": null,
   "id": "9fe44fec-f703-4469-bbc4-448ed0585866",
   "metadata": {
    "tags": []
   },
   "outputs": [],
   "source": [
    "# (2) Make env step\n",
    "obs, rewards, dones = runner.env.step(actions_env)\n",
    "\n",
    "# (3) Get available actions for the next step\n",
    "available_actions = runner.env.get_available_actions(obs)"
   ]
  },
  {
   "cell_type": "code",
   "execution_count": null,
   "id": "f94b9355-b384-40c0-9ea3-16eb48805e87",
   "metadata": {
    "tags": []
   },
   "outputs": [],
   "source": [
    "data = obs, rewards, dones, values, actions, action_log_probs, available_actions\n"
   ]
  },
  {
   "cell_type": "code",
   "execution_count": null,
   "id": "11172436-5f7d-4341-8504-3605ceb6566e",
   "metadata": {
    "tags": []
   },
   "outputs": [],
   "source": [
    "data"
   ]
  },
  {
   "cell_type": "code",
   "execution_count": null,
   "id": "e854d026-6c1c-46db-9e8c-82502d5e4152",
   "metadata": {
    "tags": []
   },
   "outputs": [],
   "source": [
    "runner.insert(data)"
   ]
  },
  {
   "cell_type": "code",
   "execution_count": null,
   "id": "781f8993-b00a-4273-a577-78436c3a8938",
   "metadata": {
    "tags": []
   },
   "outputs": [],
   "source": [
    "runner.buffer.step"
   ]
  },
  {
   "cell_type": "code",
   "execution_count": null,
   "id": "e0721e3e-26c3-4ee4-a1b1-a24687996413",
   "metadata": {
    "tags": []
   },
   "outputs": [],
   "source": []
  },
  {
   "cell_type": "code",
   "execution_count": null,
   "id": "bfb4932e-c09c-4716-8d7f-cd1196dde123",
   "metadata": {
    "tags": []
   },
   "outputs": [],
   "source": [
    "rewards[2] = np.array(22)\n",
    "rewards"
   ]
  },
  {
   "cell_type": "code",
   "execution_count": null,
   "id": "41a2e352-2484-4065-865c-07510252b989",
   "metadata": {
    "tags": []
   },
   "outputs": [],
   "source": []
  },
  {
   "cell_type": "code",
   "execution_count": null,
   "id": "ec47894f-2ed4-4815-89b5-2f4550fdbbc6",
   "metadata": {},
   "outputs": [],
   "source": []
  }
 ],
 "metadata": {
  "kernelspec": {
   "display_name": "Python 3 (ipykernel)",
   "language": "python",
   "name": "python3"
  },
  "language_info": {
   "codemirror_mode": {
    "name": "ipython",
    "version": 3
   },
   "file_extension": ".py",
   "mimetype": "text/x-python",
   "name": "python",
   "nbconvert_exporter": "python",
   "pygments_lexer": "ipython3",
   "version": "3.11.0"
  }
 },
 "nbformat": 4,
 "nbformat_minor": 5
}
