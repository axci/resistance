{
 "cells": [
  {
   "cell_type": "code",
   "execution_count": 1,
   "id": "26f973c3-ab8c-4a72-ad91-25b3766924f0",
   "metadata": {
    "tags": []
   },
   "outputs": [],
   "source": [
    "from game.play_game import play_game\n",
    "from env.res_env_all import ResistanceFinalEnv\n",
    "\n",
    "from runner.config import Args\n",
    "\n",
    "from runner.runner_all import RunnerMA_Both\n"
   ]
  },
  {
   "cell_type": "code",
   "execution_count": 2,
   "id": "6235604d-4b88-45b5-914a-ec26662a7df4",
   "metadata": {
    "tags": []
   },
   "outputs": [],
   "source": [
    "env_evil = ResistanceFinalEnv()\n",
    "\n",
    "env = ResistanceFinalEnv()\n",
    "config = {\n",
    "    'all_args': Args(),\n",
    "    'env': env,\n",
    "    'device': 'cpu',\n",
    "}\n",
    "runner = RunnerMA_Both(config)\n",
    "\n",
    "config = {\n",
    "    'all_args': Args(),\n",
    "    'env': env_evil,\n",
    "    'device': 'cpu',\n",
    "    'num_agents': 1,\n",
    "    'good_policy': None,\n",
    "}\n",
    "\n",
    "runner.restore('models')\n",
    "\n",
    "\n",
    "\n",
    "evil_policy = runner.trainer_evil.policy\n",
    "\n",
    "good_policy = runner.trainer_good.policy\n"
   ]
  },
  {
   "cell_type": "code",
   "execution_count": null,
   "id": "42e4c4c9-0d6d-4244-8f6d-f33ed148a249",
   "metadata": {},
   "outputs": [],
   "source": []
  },
  {
   "cell_type": "code",
   "execution_count": null,
   "id": "5ed7eff6-6626-49c8-904c-2f9837666b8e",
   "metadata": {
    "tags": []
   },
   "outputs": [
    {
     "name": "stdout",
     "output_type": "stream",
     "text": [
      "-- Start of the Game --\n",
      "You are player_2. You are 😇\n",
      "\n",
      "\n",
      "=== Round: 1, Phase: Team Building\n",
      "player_4 chose Team: [0, 0, 1, 1, 0]\n",
      "\n",
      "\n",
      "=== Round: 1, Phase: Team Voting\n",
      "Vote for the proposed Team. **Attempt** 1.\n"
     ]
    },
    {
     "name": "stdin",
     "output_type": "stream",
     "text": [
      "Enter 1 (support) or 0 (against):  1\n"
     ]
    },
    {
     "name": "stdout",
     "output_type": "stream",
     "text": [
      "Votes:\n",
      "{'player_1': 22, 'player_3': 21, 'player_4': 22, 'player_5': 22, 'player_2': 21}\n",
      "player_1: 0\n",
      "player_2: 1\n",
      "player_3: 1\n",
      "player_4: 0\n",
      "player_5: 0\n",
      "\n",
      "\n",
      "=== Round: 1, Phase: Team Building\n",
      "player_5 chose Team: [0, 0, 0, 1, 1]\n",
      "\n",
      "\n",
      "=== Round: 1, Phase: Team Voting\n",
      "Vote for the proposed Team. **Attempt** 2.\n"
     ]
    },
    {
     "name": "stdin",
     "output_type": "stream",
     "text": [
      "Enter 1 (support) or 0 (against):  1\n"
     ]
    },
    {
     "name": "stdout",
     "output_type": "stream",
     "text": [
      "Votes:\n",
      "{'player_1': 21, 'player_3': 21, 'player_4': 21, 'player_5': 21, 'player_2': 21}\n",
      "player_1: 1\n",
      "player_2: 1\n",
      "player_3: 1\n",
      "player_4: 1\n",
      "player_5: 1\n",
      "\n",
      "\n",
      "=== Round: 1, Phase: Quest Voting\n",
      "Quest Vote Results (Team: [0, 0, 0, 1, 1]): 1 fails.\n",
      "\n",
      "\n",
      "=== Round: 2, Phase: Team Building\n",
      "player_1 chose Team: [1, 0, 0, 1, 1]\n",
      "\n",
      "\n",
      "=== Round: 2, Phase: Team Voting\n",
      "Vote for the proposed Team. **Attempt** 1.\n"
     ]
    }
   ],
   "source": [
    "config = {\n",
    "            0: good_policy,\n",
    "            1: evil_policy\n",
    "        }\n",
    "env = ResistanceFinalEnv()\n",
    "play_game(env, config, n_humans=1)"
   ]
  },
  {
   "cell_type": "code",
   "execution_count": null,
   "id": "0f7a5ed4-104d-48c1-b6e8-b64729ebf1d0",
   "metadata": {
    "tags": []
   },
   "outputs": [],
   "source": []
  },
  {
   "cell_type": "code",
   "execution_count": null,
   "id": "d2f48507-7dd7-439c-a274-48c3e59b7eb8",
   "metadata": {
    "tags": []
   },
   "outputs": [],
   "source": []
  },
  {
   "cell_type": "code",
   "execution_count": null,
   "id": "4dcb502e-21c7-4bba-895c-cce3a3457c63",
   "metadata": {},
   "outputs": [],
   "source": []
  },
  {
   "cell_type": "code",
   "execution_count": null,
   "id": "b33b8b0c-d7b8-4993-8d90-b0fb8b906e0b",
   "metadata": {
    "tags": []
   },
   "outputs": [],
   "source": []
  },
  {
   "cell_type": "code",
   "execution_count": null,
   "id": "55924ef2-3187-4c68-9e76-c603b3fd0cd3",
   "metadata": {},
   "outputs": [],
   "source": []
  }
 ],
 "metadata": {
  "kernelspec": {
   "display_name": "Python 3 (ipykernel)",
   "language": "python",
   "name": "python3"
  },
  "language_info": {
   "codemirror_mode": {
    "name": "ipython",
    "version": 3
   },
   "file_extension": ".py",
   "mimetype": "text/x-python",
   "name": "python",
   "nbconvert_exporter": "python",
   "pygments_lexer": "ipython3",
   "version": "3.11.0"
  }
 },
 "nbformat": 4,
 "nbformat_minor": 5
}
