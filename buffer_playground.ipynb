{
 "cells": [
  {
   "cell_type": "code",
   "execution_count": 1,
   "id": "bec94658-023c-4ea7-81a4-becc5464e057",
   "metadata": {
    "tags": []
   },
   "outputs": [],
   "source": [
    "import os\n",
    "from utils.buffer import SharedReplayBuffer\n",
    "import numpy as np\n",
    "from env.robot_1d import CorridorEnv, CorridorEnv_v2, CorridorFullyVisibleEnv, RandomRobotEnv, CorridorMultiAgentEnv\n",
    "from runner.runner_ma import RunnerMA\n",
    "from alg.actor_critic import Actor, Critic"
   ]
  },
  {
   "cell_type": "code",
   "execution_count": 2,
   "id": "2f8d8a6f-b78e-4624-83b5-4dc6d73a0dd6",
   "metadata": {
    "tags": []
   },
   "outputs": [],
   "source": [
    "import argparse\n",
    "\n",
    "args = argparse.Namespace(\n",
    "    episode_length=3,\n",
    "    n_rollout_threads=1,\n",
    "    gamma=0.99,\n",
    "    gae_lambda=0.95,\n",
    "    _use_gae=True\n",
    ")\n",
    "env = CorridorMultiAgentEnv(17, 2)\n",
    "\n",
    "num_agents = env.num_agents\n",
    "obs_space = env.observation_space\n",
    "cent_obs_space = env.share_observation_space\n",
    "act_space = env.action_space\n",
    "\n",
    "buffer = SharedReplayBuffer(args, num_agents, obs_space, cent_obs_space, act_space)"
   ]
  },
  {
   "cell_type": "code",
   "execution_count": 3,
   "id": "3370e590-0a64-4581-98dc-da6b4400a78d",
   "metadata": {
    "tags": []
   },
   "outputs": [],
   "source": [
    "args = argparse.Namespace(\n",
    "    hidden_size=64,\n",
    "    n_rollout_threads=1,\n",
    "    gamma=0.99,\n",
    "    gae_lambda=0.95,\n",
    "    _use_gae=True,\n",
    "    gain=0.01,\n",
    "    use_orthogonal = True,\n",
    "    use_feature_normalization = True,\n",
    "    use_ReLU = True,\n",
    "    layer_N = 1,\n",
    ")\n",
    "\n",
    "actor = Actor(args, 13, 5)\n",
    "critic = Critic(args, 12)"
   ]
  },
  {
   "cell_type": "code",
   "execution_count": 4,
   "id": "c3772240-f2f2-4840-8f10-ab3f91c4b551",
   "metadata": {
    "tags": []
   },
   "outputs": [
    {
     "name": "stdout",
     "output_type": "stream",
     "text": [
      ".|.|.|.|.|.|2|.|.|.|.|.|.|.|.|.|C1\n"
     ]
    }
   ],
   "source": [
    "env.reset()\n",
    "env.render()"
   ]
  },
  {
   "cell_type": "code",
   "execution_count": null,
   "id": "2c4caef4-ff59-48f1-b93a-ae3faaee0494",
   "metadata": {},
   "outputs": [],
   "source": []
  },
  {
   "cell_type": "code",
   "execution_count": null,
   "id": "8262bece-4788-488c-850f-0f14541f0305",
   "metadata": {},
   "outputs": [],
   "source": []
  },
  {
   "cell_type": "code",
   "execution_count": 5,
   "id": "3ebf5c19-5c89-47bb-9aa4-c272ef8ca0d9",
   "metadata": {
    "tags": []
   },
   "outputs": [],
   "source": [
    "# ava = runner.buffer.available_actions[0]\n",
    "# ava"
   ]
  },
  {
   "cell_type": "code",
   "execution_count": 6,
   "id": "d64fa23c-c64f-4937-baaa-ed1869c80c21",
   "metadata": {
    "tags": []
   },
   "outputs": [],
   "source": [
    "# cobs = runner.buffer.share_obs[0]\n",
    "# cobs"
   ]
  },
  {
   "cell_type": "markdown",
   "id": "f2ad94e2-8598-4f0c-bf68-44c624246c46",
   "metadata": {},
   "source": [
    "### Runner"
   ]
  },
  {
   "cell_type": "code",
   "execution_count": 7,
   "id": "51227e6f-9151-4240-bf5a-7f37f052bc28",
   "metadata": {
    "tags": []
   },
   "outputs": [],
   "source": [
    "# Example configuration\n",
    "class Args:\n",
    "    def __init__(self):\n",
    "        self.env_name = 'CorridorEnvMA'\n",
    "        self.algorithm_name = 'PPO'\n",
    "        self.experiment_name = 'corridor_experiment'\n",
    "        self.use_centralized_V = True\n",
    "        self.num_env_steps = 1000000\n",
    "        self.episode_length = 10000\n",
    "        self.n_rollout_threads = 1\n",
    "        self.use_linear_lr_decay = False\n",
    "        self.hidden_size = 64\n",
    "        self.gamma = .99\n",
    "        self.gae_lambda = .95\n",
    "        self._use_gae = True\n",
    "        self.actor_lr = 7e-4\n",
    "        self.critic_lr = 1e-3\n",
    "        self.opti_eps=1e-5\n",
    "        self.weight_decay=0\n",
    "        self.gamma=0.99\n",
    "        self.clip_param=0.2\n",
    "        self.value_loss_coef=1\n",
    "        self.entropy_coef=0.01\n",
    "        self.ppo_epoch=10\n",
    "        self.num_mini_batch=1\n",
    "        self.huber_delta=10.0\n",
    "        self.use_huber_loss=True\n",
    "        self.use_clipped_value_loss=True\n",
    "        self.gain = 0.01\n",
    "        self.use_orthogonal = True\n",
    "        self.use_feature_normalization = True\n",
    "        self.use_ReLU = True\n",
    "        self.layer_N = 1\n",
    "        self.log_interval = 1000  # log every x steps\n",
    "        \n",
    "\n",
    "# Assuming CorridorEnv is defined as in your previous example\n",
    "num_cells = 67\n",
    "num_agents = 2\n",
    "env = CorridorMultiAgentEnv(num_cells=num_cells, num_agents=num_agents)\n",
    "\n",
    "config = {\n",
    "    'all_args': Args(),\n",
    "    'env': env,\n",
    "    'device': 'cpu',\n",
    "    'num_agents': 2,\n",
    "}\n",
    "runner = RunnerMA(config)"
   ]
  },
  {
   "cell_type": "code",
   "execution_count": 25,
   "id": "eeec62a5-5eef-4e84-9c07-e9948cd6cb52",
   "metadata": {
    "tags": []
   },
   "outputs": [
    {
     "data": {
      "text/plain": [
       "(12,)"
      ]
     },
     "execution_count": 25,
     "metadata": {},
     "output_type": "execute_result"
    }
   ],
   "source": [
    "obs, sh, av, inf = env.reset()\n",
    "sh.shape"
   ]
  },
  {
   "cell_type": "code",
   "execution_count": null,
   "id": "1c2588e8-4153-47fe-9dfd-380706f750de",
   "metadata": {
    "tags": []
   },
   "outputs": [],
   "source": []
  },
  {
   "cell_type": "code",
   "execution_count": null,
   "id": "8b7f40b1-0b9a-4e42-8af9-bef4e210a1d4",
   "metadata": {
    "tags": []
   },
   "outputs": [],
   "source": []
  },
  {
   "cell_type": "code",
   "execution_count": null,
   "id": "92b10211-0736-4208-a318-1591aa36e2c1",
   "metadata": {
    "tags": []
   },
   "outputs": [],
   "source": []
  },
  {
   "cell_type": "code",
   "execution_count": 8,
   "id": "53e6c9bb-2782-4741-ba11-5c241c3acafa",
   "metadata": {
    "tags": []
   },
   "outputs": [
    {
     "name": "stdout",
     "output_type": "stream",
     "text": [
      "\n",
      "0 / 100 episodes, total number of timesteps: 10000/1000000, FPS 2839. \n",
      "average episode rewards is -4898.999929428101 (av.reward: -0.48989999294281006 * ep_length 10000)\n",
      "\n",
      "1 / 100 episodes, total number of timesteps: 20000/1000000, FPS 2735. \n",
      "average episode rewards is -4848.499894142151 (av.reward: -0.4848499894142151 * ep_length 10000)\n",
      "\n",
      "2 / 100 episodes, total number of timesteps: 30000/1000000, FPS 2751. \n",
      "average episode rewards is -4646.500051021576 (av.reward: -0.4646500051021576 * ep_length 10000)\n",
      "\n",
      "3 / 100 episodes, total number of timesteps: 40000/1000000, FPS 2751. \n",
      "average episode rewards is -4494.999945163727 (av.reward: -0.4494999945163727 * ep_length 10000)\n",
      "\n",
      "4 / 100 episodes, total number of timesteps: 50000/1000000, FPS 2751. \n",
      "average episode rewards is -4192.000031471252 (av.reward: -0.41920000314712524 * ep_length 10000)\n",
      "\n",
      "5 / 100 episodes, total number of timesteps: 60000/1000000, FPS 2676. \n",
      "average episode rewards is -4797.999858856201 (av.reward: -0.4797999858856201 * ep_length 10000)\n",
      "\n",
      "6 / 100 episodes, total number of timesteps: 70000/1000000, FPS 2630. \n",
      "average episode rewards is -3333.500027656555 (av.reward: -0.3333500027656555 * ep_length 10000)\n",
      "\n",
      "7 / 100 episodes, total number of timesteps: 80000/1000000, FPS 2629. \n",
      "average episode rewards is -4040.4999256134033 (av.reward: -0.40404999256134033 * ep_length 10000)\n",
      "\n",
      "8 / 100 episodes, total number of timesteps: 90000/1000000, FPS 2630. \n",
      "average episode rewards is -3889.000117778778 (av.reward: -0.3889000117778778 * ep_length 10000)\n",
      "\n",
      "9 / 100 episodes, total number of timesteps: 100000/1000000, FPS 2635. \n",
      "average episode rewards is -1767.9999768733978 (av.reward: -0.17679999768733978 * ep_length 10000)\n",
      "\n",
      "10 / 100 episodes, total number of timesteps: 110000/1000000, FPS 2632. \n",
      "average episode rewards is -1162.0000004768372 (av.reward: -0.11620000004768372 * ep_length 10000)\n",
      "\n",
      "11 / 100 episodes, total number of timesteps: 120000/1000000, FPS 2631. \n",
      "average episode rewards is -0.4999999873689376 (av.reward: -4.999999873689376e-05 * ep_length 10000)\n",
      "\n",
      "12 / 100 episodes, total number of timesteps: 130000/1000000, FPS 2629. \n",
      "average episode rewards is 49.99999888241291 (av.reward: 0.004999999888241291 * ep_length 10000)\n",
      "\n",
      "13 / 100 episodes, total number of timesteps: 140000/1000000, FPS 2639. \n",
      "average episode rewards is -3686.9999766349792 (av.reward: -0.3686999976634979 * ep_length 10000)\n",
      "\n",
      "14 / 100 episodes, total number of timesteps: 150000/1000000, FPS 2646. \n",
      "average episode rewards is -1969.9999690055847 (av.reward: -0.19699999690055847 * ep_length 10000)\n",
      "\n",
      "15 / 100 episodes, total number of timesteps: 160000/1000000, FPS 2644. \n",
      "average episode rewards is 706.4999639987946 (av.reward: 0.07064999639987946 * ep_length 10000)\n",
      "\n",
      "16 / 100 episodes, total number of timesteps: 170000/1000000, FPS 2649. \n",
      "average episode rewards is 1262.0000541210175 (av.reward: 0.12620000541210175 * ep_length 10000)\n",
      "\n",
      "17 / 100 episodes, total number of timesteps: 180000/1000000, FPS 2657. \n",
      "average episode rewards is 1766.9999599456787 (av.reward: 0.17669999599456787 * ep_length 10000)\n",
      "\n",
      "18 / 100 episodes, total number of timesteps: 190000/1000000, FPS 2669. \n",
      "average episode rewards is 504.50000911951065 (av.reward: 0.050450000911951065 * ep_length 10000)\n",
      "\n",
      "19 / 100 episodes, total number of timesteps: 200000/1000000, FPS 2675. \n",
      "average episode rewards is 1211.5000188350677 (av.reward: 0.12115000188350677 * ep_length 10000)\n",
      "\n",
      "20 / 100 episodes, total number of timesteps: 210000/1000000, FPS 2684. \n",
      "average episode rewards is 1918.5000658035278 (av.reward: 0.19185000658035278 * ep_length 10000)\n",
      "\n",
      "21 / 100 episodes, total number of timesteps: 220000/1000000, FPS 2690. \n",
      "average episode rewards is 1918.5000658035278 (av.reward: 0.19185000658035278 * ep_length 10000)\n",
      "\n",
      "22 / 100 episodes, total number of timesteps: 230000/1000000, FPS 2699. \n",
      "average episode rewards is 1868.0000305175781 (av.reward: 0.1868000030517578 * ep_length 10000)\n",
      "\n",
      "23 / 100 episodes, total number of timesteps: 240000/1000000, FPS 2706. \n",
      "average episode rewards is 1666.0000383853912 (av.reward: 0.16660000383853912 * ep_length 10000)\n",
      "\n",
      "24 / 100 episodes, total number of timesteps: 250000/1000000, FPS 2714. \n",
      "average episode rewards is 1868.0000305175781 (av.reward: 0.1868000030517578 * ep_length 10000)\n",
      "\n",
      "25 / 100 episodes, total number of timesteps: 260000/1000000, FPS 2719. \n",
      "average episode rewards is -2777.9999375343323 (av.reward: -0.2777999937534332 * ep_length 10000)\n",
      "\n",
      "26 / 100 episodes, total number of timesteps: 270000/1000000, FPS 2722. \n",
      "average episode rewards is 1615.5000030994415 (av.reward: 0.16155000030994415 * ep_length 10000)\n",
      "\n",
      "27 / 100 episodes, total number of timesteps: 280000/1000000, FPS 2728. \n",
      "average episode rewards is 1110.5000227689743 (av.reward: 0.11105000227689743 * ep_length 10000)\n",
      "\n",
      "28 / 100 episodes, total number of timesteps: 290000/1000000, FPS 2733. \n",
      "average episode rewards is 1918.5000658035278 (av.reward: 0.19185000658035278 * ep_length 10000)\n",
      "\n",
      "29 / 100 episodes, total number of timesteps: 300000/1000000, FPS 2739. \n",
      "average episode rewards is 3382.999897003174 (av.reward: 0.3382999897003174 * ep_length 10000)\n",
      "\n",
      "30 / 100 episodes, total number of timesteps: 310000/1000000, FPS 2745. \n",
      "average episode rewards is 1918.5000658035278 (av.reward: 0.19185000658035278 * ep_length 10000)\n",
      "\n",
      "31 / 100 episodes, total number of timesteps: 320000/1000000, FPS 2750. \n",
      "average episode rewards is 1464.0000462532043 (av.reward: 0.14640000462532043 * ep_length 10000)\n",
      "\n",
      "32 / 100 episodes, total number of timesteps: 330000/1000000, FPS 2755. \n",
      "average episode rewards is 2928.4998774528503 (av.reward: 0.29284998774528503 * ep_length 10000)\n",
      "\n",
      "33 / 100 episodes, total number of timesteps: 340000/1000000, FPS 2760. \n",
      "average episode rewards is 1059.9999874830246 (av.reward: 0.10599999874830246 * ep_length 10000)\n",
      "\n",
      "34 / 100 episodes, total number of timesteps: 350000/1000000, FPS 2764. \n",
      "average episode rewards is 2019.4999873638153 (av.reward: 0.20194999873638153 * ep_length 10000)\n",
      "\n",
      "35 / 100 episodes, total number of timesteps: 360000/1000000, FPS 2768. \n",
      "average episode rewards is 2474.000006914139 (av.reward: 0.24740000069141388 * ep_length 10000)\n",
      "\n",
      "36 / 100 episodes, total number of timesteps: 370000/1000000, FPS 2772. \n",
      "average episode rewards is 1059.9999874830246 (av.reward: 0.10599999874830246 * ep_length 10000)\n",
      "\n",
      "37 / 100 episodes, total number of timesteps: 380000/1000000, FPS 2775. \n",
      "average episode rewards is 1968.9999520778656 (av.reward: 0.19689999520778656 * ep_length 10000)\n",
      "\n",
      "38 / 100 episodes, total number of timesteps: 390000/1000000, FPS 2779. \n",
      "average episode rewards is 1413.5000109672546 (av.reward: 0.14135000109672546 * ep_length 10000)\n",
      "\n",
      "39 / 100 episodes, total number of timesteps: 400000/1000000, FPS 2783. \n",
      "average episode rewards is 2170.9999442100525 (av.reward: 0.21709999442100525 * ep_length 10000)\n",
      "\n",
      "40 / 100 episodes, total number of timesteps: 410000/1000000, FPS 2786. \n",
      "average episode rewards is 1666.0000383853912 (av.reward: 0.16660000383853912 * ep_length 10000)\n",
      "\n",
      "41 / 100 episodes, total number of timesteps: 420000/1000000, FPS 2789. \n",
      "average episode rewards is 2120.5000579357147 (av.reward: 0.21205000579357147 * ep_length 10000)\n",
      "\n",
      "42 / 100 episodes, total number of timesteps: 430000/1000000, FPS 2791. \n",
      "average episode rewards is 2928.4998774528503 (av.reward: 0.29284998774528503 * ep_length 10000)\n",
      "\n",
      "43 / 100 episodes, total number of timesteps: 440000/1000000, FPS 2794. \n",
      "average episode rewards is 2675.9999990463257 (av.reward: 0.26759999990463257 * ep_length 10000)\n",
      "\n",
      "44 / 100 episodes, total number of timesteps: 450000/1000000, FPS 2797. \n",
      "average episode rewards is 908.5000306367874 (av.reward: 0.09085000306367874 * ep_length 10000)\n",
      "\n",
      "45 / 100 episodes, total number of timesteps: 460000/1000000, FPS 2799. \n",
      "average episode rewards is 3635.5000734329224 (av.reward: 0.36355000734329224 * ep_length 10000)\n",
      "\n",
      "46 / 100 episodes, total number of timesteps: 470000/1000000, FPS 2801. \n",
      "average episode rewards is 1262.0000541210175 (av.reward: 0.12620000541210175 * ep_length 10000)\n",
      "\n",
      "47 / 100 episodes, total number of timesteps: 480000/1000000, FPS 2804. \n",
      "average episode rewards is 2474.000006914139 (av.reward: 0.24740000069141388 * ep_length 10000)\n",
      "\n",
      "48 / 100 episodes, total number of timesteps: 490000/1000000, FPS 2806. \n",
      "average episode rewards is 1968.9999520778656 (av.reward: 0.19689999520778656 * ep_length 10000)\n",
      "\n",
      "49 / 100 episodes, total number of timesteps: 500000/1000000, FPS 2808. \n",
      "average episode rewards is 2675.9999990463257 (av.reward: 0.26759999990463257 * ep_length 10000)\n",
      "\n",
      "50 / 100 episodes, total number of timesteps: 510000/1000000, FPS 2811. \n",
      "average episode rewards is 2524.4998931884766 (av.reward: 0.25244998931884766 * ep_length 10000)\n",
      "\n",
      "51 / 100 episodes, total number of timesteps: 520000/1000000, FPS 2812. \n",
      "average episode rewards is 2423.499971628189 (av.reward: 0.2423499971628189 * ep_length 10000)\n",
      "\n",
      "52 / 100 episodes, total number of timesteps: 530000/1000000, FPS 2814. \n",
      "average episode rewards is -2576.0000944137573 (av.reward: -0.25760000944137573 * ep_length 10000)\n",
      "\n",
      "53 / 100 episodes, total number of timesteps: 540000/1000000, FPS 2816. \n",
      "average episode rewards is 2070.000022649765 (av.reward: 0.2070000022649765 * ep_length 10000)\n",
      "\n",
      "54 / 100 episodes, total number of timesteps: 550000/1000000, FPS 2818. \n",
      "average episode rewards is 2019.4999873638153 (av.reward: 0.20194999873638153 * ep_length 10000)\n",
      "\n",
      "55 / 100 episodes, total number of timesteps: 560000/1000000, FPS 2818. \n",
      "average episode rewards is 2070.000022649765 (av.reward: 0.2070000022649765 * ep_length 10000)\n",
      "\n",
      "56 / 100 episodes, total number of timesteps: 570000/1000000, FPS 2820. \n",
      "average episode rewards is 1868.0000305175781 (av.reward: 0.1868000030517578 * ep_length 10000)\n",
      "\n",
      "57 / 100 episodes, total number of timesteps: 580000/1000000, FPS 2821. \n",
      "average episode rewards is 3585.0000381469727 (av.reward: 0.35850000381469727 * ep_length 10000)\n",
      "\n",
      "58 / 100 episodes, total number of timesteps: 590000/1000000, FPS 2823. \n",
      "average episode rewards is 1968.9999520778656 (av.reward: 0.19689999520778656 * ep_length 10000)\n",
      "\n",
      "59 / 100 episodes, total number of timesteps: 600000/1000000, FPS 2824. \n",
      "average episode rewards is 2372.9999363422394 (av.reward: 0.23729999363422394 * ep_length 10000)\n",
      "\n",
      "60 / 100 episodes, total number of timesteps: 610000/1000000, FPS 2825. \n",
      "average episode rewards is 2221.499979496002 (av.reward: 0.22214999794960022 * ep_length 10000)\n",
      "\n",
      "61 / 100 episodes, total number of timesteps: 620000/1000000, FPS 2827. \n",
      "average episode rewards is 2625.499963760376 (av.reward: 0.2625499963760376 * ep_length 10000)\n",
      "\n",
      "62 / 100 episodes, total number of timesteps: 630000/1000000, FPS 2828. \n",
      "average episode rewards is 1817.4999952316284 (av.reward: 0.18174999952316284 * ep_length 10000)\n",
      "\n",
      "63 / 100 episodes, total number of timesteps: 640000/1000000, FPS 2829. \n",
      "average episode rewards is 1666.0000383853912 (av.reward: 0.16660000383853912 * ep_length 10000)\n",
      "\n",
      "64 / 100 episodes, total number of timesteps: 650000/1000000, FPS 2831. \n",
      "average episode rewards is 3483.9999675750732 (av.reward: 0.3483999967575073 * ep_length 10000)\n",
      "\n",
      "65 / 100 episodes, total number of timesteps: 660000/1000000, FPS 2832. \n",
      "average episode rewards is 1868.0000305175781 (av.reward: 0.1868000030517578 * ep_length 10000)\n",
      "\n",
      "66 / 100 episodes, total number of timesteps: 670000/1000000, FPS 2833. \n",
      "average episode rewards is 3382.999897003174 (av.reward: 0.3382999897003174 * ep_length 10000)\n",
      "\n",
      "67 / 100 episodes, total number of timesteps: 680000/1000000, FPS 2833. \n",
      "average episode rewards is 2272.000014781952 (av.reward: 0.2272000014781952 * ep_length 10000)\n",
      "\n",
      "68 / 100 episodes, total number of timesteps: 690000/1000000, FPS 2835. \n",
      "average episode rewards is 2019.4999873638153 (av.reward: 0.20194999873638153 * ep_length 10000)\n",
      "\n",
      "69 / 100 episodes, total number of timesteps: 700000/1000000, FPS 2836. \n",
      "average episode rewards is 1312.4999403953552 (av.reward: 0.13124999403953552 * ep_length 10000)\n",
      "\n",
      "70 / 100 episodes, total number of timesteps: 710000/1000000, FPS 2836. \n",
      "average episode rewards is 1766.9999599456787 (av.reward: 0.17669999599456787 * ep_length 10000)\n",
      "\n",
      "71 / 100 episodes, total number of timesteps: 720000/1000000, FPS 2838. \n",
      "average episode rewards is 2524.4998931884766 (av.reward: 0.25244998931884766 * ep_length 10000)\n",
      "\n",
      "72 / 100 episodes, total number of timesteps: 730000/1000000, FPS 2839. \n",
      "average episode rewards is 2322.5000500679016 (av.reward: 0.23225000500679016 * ep_length 10000)\n",
      "\n",
      "73 / 100 episodes, total number of timesteps: 740000/1000000, FPS 2840. \n",
      "average episode rewards is 2777.000069618225 (av.reward: 0.2777000069618225 * ep_length 10000)\n",
      "\n",
      "74 / 100 episodes, total number of timesteps: 750000/1000000, FPS 2841. \n",
      "average episode rewards is 2272.000014781952 (av.reward: 0.2272000014781952 * ep_length 10000)\n",
      "\n",
      "75 / 100 episodes, total number of timesteps: 760000/1000000, FPS 2841. \n",
      "average episode rewards is 2423.499971628189 (av.reward: 0.2423499971628189 * ep_length 10000)\n",
      "\n",
      "76 / 100 episodes, total number of timesteps: 770000/1000000, FPS 2842. \n",
      "average episode rewards is 2221.499979496002 (av.reward: 0.22214999794960022 * ep_length 10000)\n",
      "\n",
      "77 / 100 episodes, total number of timesteps: 780000/1000000, FPS 2843. \n",
      "average episode rewards is 2777.000069618225 (av.reward: 0.2777000069618225 * ep_length 10000)\n",
      "\n",
      "78 / 100 episodes, total number of timesteps: 790000/1000000, FPS 2843. \n",
      "average episode rewards is 2878.0001401901245 (av.reward: 0.28780001401901245 * ep_length 10000)\n",
      "\n",
      "79 / 100 episodes, total number of timesteps: 800000/1000000, FPS 2844. \n",
      "average episode rewards is 2272.000014781952 (av.reward: 0.2272000014781952 * ep_length 10000)\n",
      "\n",
      "80 / 100 episodes, total number of timesteps: 810000/1000000, FPS 2844. \n",
      "average episode rewards is 2322.5000500679016 (av.reward: 0.23225000500679016 * ep_length 10000)\n",
      "\n",
      "81 / 100 episodes, total number of timesteps: 820000/1000000, FPS 2845. \n",
      "average episode rewards is 2070.000022649765 (av.reward: 0.2070000022649765 * ep_length 10000)\n",
      "\n",
      "82 / 100 episodes, total number of timesteps: 830000/1000000, FPS 2846. \n",
      "average episode rewards is 2019.4999873638153 (av.reward: 0.20194999873638153 * ep_length 10000)\n",
      "\n",
      "83 / 100 episodes, total number of timesteps: 840000/1000000, FPS 2845. \n",
      "average episode rewards is 1766.9999599456787 (av.reward: 0.17669999599456787 * ep_length 10000)\n",
      "\n",
      "84 / 100 episodes, total number of timesteps: 850000/1000000, FPS 2845. \n",
      "average episode rewards is 2070.000022649765 (av.reward: 0.2070000022649765 * ep_length 10000)\n",
      "\n",
      "85 / 100 episodes, total number of timesteps: 860000/1000000, FPS 2845. \n",
      "average episode rewards is 3029.4999480247498 (av.reward: 0.302949994802475 * ep_length 10000)\n",
      "\n",
      "86 / 100 episodes, total number of timesteps: 870000/1000000, FPS 2845. \n",
      "average episode rewards is 1766.9999599456787 (av.reward: 0.17669999599456787 * ep_length 10000)\n",
      "\n",
      "87 / 100 episodes, total number of timesteps: 880000/1000000, FPS 2844. \n",
      "average episode rewards is 1312.4999403953552 (av.reward: 0.13124999403953552 * ep_length 10000)\n",
      "\n",
      "88 / 100 episodes, total number of timesteps: 890000/1000000, FPS 2844. \n",
      "average episode rewards is 2574.9999284744263 (av.reward: 0.2574999928474426 * ep_length 10000)\n",
      "\n",
      "89 / 100 episodes, total number of timesteps: 900000/1000000, FPS 2844. \n",
      "average episode rewards is 1817.4999952316284 (av.reward: 0.18174999952316284 * ep_length 10000)\n",
      "\n",
      "90 / 100 episodes, total number of timesteps: 910000/1000000, FPS 2845. \n",
      "average episode rewards is 3231.5000891685486 (av.reward: 0.32315000891685486 * ep_length 10000)\n",
      "\n",
      "91 / 100 episodes, total number of timesteps: 920000/1000000, FPS 2846. \n",
      "average episode rewards is 2574.9999284744263 (av.reward: 0.2574999928474426 * ep_length 10000)\n",
      "\n",
      "92 / 100 episodes, total number of timesteps: 930000/1000000, FPS 2847. \n",
      "average episode rewards is 2726.5000343322754 (av.reward: 0.27265000343322754 * ep_length 10000)\n",
      "\n",
      "93 / 100 episodes, total number of timesteps: 940000/1000000, FPS 2847. \n",
      "average episode rewards is 2272.000014781952 (av.reward: 0.2272000014781952 * ep_length 10000)\n",
      "\n",
      "94 / 100 episodes, total number of timesteps: 950000/1000000, FPS 2848. \n",
      "average episode rewards is 2827.500104904175 (av.reward: 0.2827500104904175 * ep_length 10000)\n",
      "\n",
      "95 / 100 episodes, total number of timesteps: 960000/1000000, FPS 2849. \n",
      "average episode rewards is 2777.000069618225 (av.reward: 0.2777000069618225 * ep_length 10000)\n",
      "\n",
      "96 / 100 episodes, total number of timesteps: 970000/1000000, FPS 2849. \n",
      "average episode rewards is 3989.0000224113464 (av.reward: 0.39890000224113464 * ep_length 10000)\n",
      "\n",
      "97 / 100 episodes, total number of timesteps: 980000/1000000, FPS 2850. \n",
      "average episode rewards is 2372.9999363422394 (av.reward: 0.23729999363422394 * ep_length 10000)\n",
      "\n",
      "98 / 100 episodes, total number of timesteps: 990000/1000000, FPS 2850. \n",
      "average episode rewards is 2625.499963760376 (av.reward: 0.2625499963760376 * ep_length 10000)\n",
      "\n",
      "99 / 100 episodes, total number of timesteps: 1000000/1000000, FPS 2851. \n",
      "average episode rewards is 2777.000069618225 (av.reward: 0.2777000069618225 * ep_length 10000)\n"
     ]
    },
    {
     "data": {
      "image/png": "[encoded data removed]",
      "text/plain": [
       "<Figure size 640x480 with 1 Axes>"
      ]
     },
     "metadata": {},
     "output_type": "display_data"
    }
   ],
   "source": [
    "runner.run()"
   ]
  },
  {
   "cell_type": "markdown",
   "id": "dd7e41cf-4836-4283-b993-aa2b7147a65d",
   "metadata": {
    "tags": []
   },
   "source": [
    "### Test"
   ]
  },
  {
   "cell_type": "code",
   "execution_count": 14,
   "id": "2aa0bab9-b46a-47fa-8ba1-5c746a81182c",
   "metadata": {
    "tags": []
   },
   "outputs": [
    {
     "name": "stdout",
     "output_type": "stream",
     "text": [
      ".|.|.|.|.|.|.|.|.|.|.|.|.|.|.|.|.|.|.|.|.|.|1|.|.|.|.|.|.|.|.|.|.|.|.|C|.|.|.|.|.|.|.|.|.|.|.|.|.|.|.|.|.|.|.|.|.|.|2|.|.|.|.|.|.|.|.\n",
      ".|.|.|.|.|.|.|.|.|.|.|.|.|.|.|.|.|.|.|.|.|.|1|.|.|.|.|.|.|.|.|.|.|.|.|C|.|.|.|.|.|.|.|.|.|.|.|.|.|.|.|.|.|.|.|.|.|2|.|.|.|.|.|.|.|.|.\n",
      ".|.|.|.|.|.|.|.|.|.|.|.|.|.|.|.|.|.|.|.|.|1|.|.|.|.|.|.|.|.|.|.|.|.|.|C|.|.|.|.|.|.|.|.|.|.|.|.|.|.|.|.|.|.|.|.|.|2|.|.|.|.|.|.|.|.|.\n",
      ".|.|.|.|.|.|.|.|.|.|.|.|.|.|.|.|.|.|.|.|.|1|.|.|.|.|.|.|.|.|.|.|.|.|.|C|.|.|.|.|.|.|.|.|.|.|.|.|.|.|.|.|.|.|.|.|2|.|.|.|.|.|.|.|.|.|.\n",
      ".|.|.|.|.|.|.|.|.|.|.|.|.|.|.|.|.|.|.|.|1|.|.|.|.|.|.|.|.|.|.|.|.|.|.|C|.|.|.|.|.|.|.|.|.|.|.|.|.|.|.|.|.|.|.|.|2|.|.|.|.|.|.|.|.|.|.\n",
      ".|.|.|.|.|.|.|.|.|.|.|.|.|.|.|.|.|.|.|.|1|.|.|.|.|.|.|.|.|.|.|.|.|.|.|C|.|.|.|.|.|.|.|.|.|.|.|.|.|.|.|.|.|.|.|2|.|.|.|.|.|.|.|.|.|.|.\n",
      ".|.|.|.|.|.|.|.|.|.|.|.|.|.|.|.|.|.|.|1|.|.|.|.|.|.|.|.|.|.|.|.|.|.|.|C|.|.|.|.|.|.|.|.|.|.|.|.|.|.|.|.|.|.|.|2|.|.|.|.|.|.|.|.|.|.|.\n",
      ".|.|.|.|.|.|.|.|.|.|.|.|.|.|.|.|.|.|.|1|.|.|.|.|.|.|.|.|.|.|.|.|.|.|.|C|.|.|.|.|.|.|.|.|.|.|.|.|.|.|.|.|.|.|2|.|.|.|.|.|.|.|.|.|.|.|.\n",
      ".|.|.|.|.|.|.|.|.|.|.|.|.|.|.|.|.|.|1|.|.|.|.|.|.|.|.|.|.|.|.|.|.|.|.|C|.|.|.|.|.|.|.|.|.|.|.|.|.|.|.|.|.|.|2|.|.|.|.|.|.|.|.|.|.|.|.\n",
      ".|.|.|.|.|.|.|.|.|.|.|.|.|.|.|.|.|.|1|.|.|.|.|.|.|.|.|.|.|.|.|.|.|.|.|C|.|.|.|.|.|.|.|.|.|.|.|.|.|.|.|.|.|2|.|.|.|.|.|.|.|.|.|.|.|.|.\n",
      ".|.|.|.|.|.|.|.|.|.|.|.|.|.|.|.|.|1|.|.|.|.|.|.|.|.|.|.|.|.|.|.|.|.|.|C|.|.|.|.|.|.|.|.|.|.|.|.|.|.|.|.|.|2|.|.|.|.|.|.|.|.|.|.|.|.|.\n",
      ".|.|.|.|.|.|.|.|.|.|.|.|.|.|.|.|.|1|.|.|.|.|.|.|.|.|.|.|.|.|.|.|.|.|.|C|.|.|.|.|.|.|.|.|.|.|.|.|.|.|.|.|2|.|.|.|.|.|.|.|.|.|.|.|.|.|.\n",
      ".|.|.|.|.|.|.|.|.|.|.|.|.|.|.|.|1|.|.|.|.|.|.|.|.|.|.|.|.|.|.|.|.|.|.|C|.|.|.|.|.|.|.|.|.|.|.|.|.|.|.|.|2|.|.|.|.|.|.|.|.|.|.|.|.|.|.\n",
      ".|.|.|.|.|.|.|.|.|.|.|.|.|.|.|.|1|.|.|.|.|.|.|.|.|.|.|.|.|.|.|.|.|.|.|C|.|.|.|.|.|.|.|.|.|.|.|.|.|.|.|2|.|.|.|.|.|.|.|.|.|.|.|.|.|.|.\n",
      ".|.|.|.|.|.|.|.|.|.|.|.|.|.|.|1|.|.|.|.|.|.|.|.|.|.|.|.|.|.|.|.|.|.|.|C|.|.|.|.|.|.|.|.|.|.|.|.|.|.|.|2|.|.|.|.|.|.|.|.|.|.|.|.|.|.|.\n",
      ".|.|.|.|.|.|.|.|.|.|.|.|.|.|.|1|.|.|.|.|.|.|.|.|.|.|.|.|.|.|.|.|.|.|.|C|.|.|.|.|.|.|.|.|.|.|.|.|.|.|2|.|.|.|.|.|.|.|.|.|.|.|.|.|.|.|.\n",
      ".|.|.|.|.|.|.|.|.|.|.|.|.|.|1|.|.|.|.|.|.|.|.|.|.|.|.|.|.|.|.|.|.|.|.|C|.|.|.|.|.|.|.|.|.|.|.|.|.|.|2|.|.|.|.|.|.|.|.|.|.|.|.|.|.|.|.\n",
      ".|.|.|.|.|.|.|.|.|.|.|.|.|.|1|.|.|.|.|.|.|.|.|.|.|.|.|.|.|.|.|.|.|.|.|C|.|.|.|.|.|.|.|.|.|.|.|.|.|2|.|.|.|.|.|.|.|.|.|.|.|.|.|.|.|.|.\n",
      ".|.|.|.|.|.|.|.|.|.|.|.|.|1|.|.|.|.|.|.|.|.|.|.|.|.|.|.|.|.|.|.|.|.|.|C|.|.|.|.|.|.|.|.|.|.|.|.|.|2|.|.|.|.|.|.|.|.|.|.|.|.|.|.|.|.|.\n",
      ".|.|.|.|.|.|.|.|.|.|.|.|.|1|.|.|.|.|.|.|.|.|.|.|.|.|.|.|.|.|.|.|.|.|.|C|.|.|.|.|.|.|.|.|.|.|.|.|2|.|.|.|.|.|.|.|.|.|.|.|.|.|.|.|.|.|.\n",
      ".|.|.|.|.|.|.|.|.|.|.|.|1|.|.|.|.|.|.|.|.|.|.|.|.|.|.|.|.|.|.|.|.|.|.|C|.|.|.|.|.|.|.|.|.|.|.|.|2|.|.|.|.|.|.|.|.|.|.|.|.|.|.|.|.|.|.\n",
      ".|.|.|.|.|.|.|.|.|.|.|.|1|.|.|.|.|.|.|.|.|.|.|.|.|.|.|.|.|.|.|.|.|.|.|C|.|.|.|.|.|.|.|.|.|.|.|2|.|.|.|.|.|.|.|.|.|.|.|.|.|.|.|.|.|.|.\n",
      ".|.|.|.|.|.|.|.|.|.|.|1|.|.|.|.|.|.|.|.|.|.|.|.|.|.|.|.|.|.|.|.|.|.|.|C|.|.|.|.|.|.|.|.|.|.|.|2|.|.|.|.|.|.|.|.|.|.|.|.|.|.|.|.|.|.|.\n",
      ".|.|.|.|.|.|.|.|.|.|.|1|.|.|.|.|.|.|.|.|.|.|.|.|.|.|.|.|.|.|.|.|.|.|.|C|.|.|.|.|.|.|.|.|.|.|2|.|.|.|.|.|.|.|.|.|.|.|.|.|.|.|.|.|.|.|.\n",
      ".|.|.|.|.|.|.|.|.|.|1|.|.|.|.|.|.|.|.|.|.|.|.|.|.|.|.|.|.|.|.|.|.|.|.|C|.|.|.|.|.|.|.|.|.|.|2|.|.|.|.|.|.|.|.|.|.|.|.|.|.|.|.|.|.|.|.\n",
      ".|.|.|.|.|.|.|.|.|.|1|.|.|.|.|.|.|.|.|.|.|.|.|.|.|.|.|.|.|.|.|.|.|.|.|C|.|.|.|.|.|.|.|.|.|2|.|.|.|.|.|.|.|.|.|.|.|.|.|.|.|.|.|.|.|.|.\n",
      ".|.|.|.|.|.|.|.|.|1|.|.|.|.|.|.|.|.|.|.|.|.|.|.|.|.|.|.|.|.|.|.|.|.|.|C|.|.|.|.|.|.|.|.|.|2|.|.|.|.|.|.|.|.|.|.|.|.|.|.|.|.|.|.|.|.|.\n",
      ".|.|.|.|.|.|.|.|.|1|.|.|.|.|.|.|.|.|.|.|.|.|.|.|.|.|.|.|.|.|.|.|.|.|.|C|.|.|.|.|.|.|.|.|2|.|.|.|.|.|.|.|.|.|.|.|.|.|.|.|.|.|.|.|.|.|.\n",
      ".|.|.|.|.|.|.|.|1|.|.|.|.|.|.|.|.|.|.|.|.|.|.|.|.|.|.|.|.|.|.|.|.|.|.|C|.|.|.|.|.|.|.|.|2|.|.|.|.|.|.|.|.|.|.|.|.|.|.|.|.|.|.|.|.|.|.\n",
      ".|.|.|.|.|.|.|.|1|.|.|.|.|.|.|.|.|.|.|.|.|.|.|.|.|.|.|.|.|.|.|.|.|.|.|C|.|.|.|.|.|.|.|2|.|.|.|.|.|.|.|.|.|.|.|.|.|.|.|.|.|.|.|.|.|.|.\n",
      ".|.|.|.|.|.|.|1|.|.|.|.|.|.|.|.|.|.|.|.|.|.|.|.|.|.|.|.|.|.|.|.|.|.|.|C|.|.|.|.|.|.|.|2|.|.|.|.|.|.|.|.|.|.|.|.|.|.|.|.|.|.|.|.|.|.|.\n",
      ".|.|.|.|.|.|.|1|.|.|.|.|.|.|.|.|.|.|.|.|.|.|.|.|.|.|.|.|.|.|.|.|.|.|.|C|.|.|.|.|.|.|2|.|.|.|.|.|.|.|.|.|.|.|.|.|.|.|.|.|.|.|.|.|.|.|.\n",
      ".|.|.|.|.|.|1|.|.|.|.|.|.|.|.|.|.|.|.|.|.|.|.|.|.|.|.|.|.|.|.|.|.|.|.|C|.|.|.|.|.|.|2|.|.|.|.|.|.|.|.|.|.|.|.|.|.|.|.|.|.|.|.|.|.|.|.\n",
      ".|.|.|.|.|.|1|.|.|.|.|.|.|.|.|.|.|.|.|.|.|.|.|.|.|.|.|.|.|.|.|.|.|.|.|C|.|.|.|.|.|2|.|.|.|.|.|.|.|.|.|.|.|.|.|.|.|.|.|.|.|.|.|.|.|.|.\n",
      ".|.|.|.|.|1|.|.|.|.|.|.|.|.|.|.|.|.|.|.|.|.|.|.|.|.|.|.|.|.|.|.|.|.|.|C|.|.|.|.|.|2|.|.|.|.|.|.|.|.|.|.|.|.|.|.|.|.|.|.|.|.|.|.|.|.|.\n",
      ".|.|.|.|.|1|.|.|.|.|.|.|.|.|.|.|.|.|.|.|.|.|.|.|.|.|.|.|.|.|.|.|.|.|.|C|.|.|.|.|2|.|.|.|.|.|.|.|.|.|.|.|.|.|.|.|.|.|.|.|.|.|.|.|.|.|.\n",
      ".|.|.|.|1|.|.|.|.|.|.|.|.|.|.|.|.|.|.|.|.|.|.|.|.|.|.|.|.|.|.|.|.|.|.|C|.|.|.|.|2|.|.|.|.|.|.|.|.|.|.|.|.|.|.|.|.|.|.|.|.|.|.|.|.|.|.\n",
      ".|.|.|.|1|.|.|.|.|.|.|.|.|.|.|.|.|.|.|.|.|.|.|.|.|.|.|.|.|.|.|.|.|.|.|C|.|.|.|2|.|.|.|.|.|.|.|.|.|.|.|.|.|.|.|.|.|.|.|.|.|.|.|.|.|.|.\n",
      ".|.|.|1|.|.|.|.|.|.|.|.|.|.|.|.|.|.|.|.|.|.|.|.|.|.|.|.|.|.|.|.|.|.|.|C|.|.|.|2|.|.|.|.|.|.|.|.|.|.|.|.|.|.|.|.|.|.|.|.|.|.|.|.|.|.|.\n",
      ".|.|.|1|.|.|.|.|.|.|.|.|.|.|.|.|.|.|.|.|.|.|.|.|.|.|.|.|.|.|.|.|.|.|.|C|.|.|2|.|.|.|.|.|.|.|.|.|.|.|.|.|.|.|.|.|.|.|.|.|.|.|.|.|.|.|.\n",
      ".|.|1|.|.|.|.|.|.|.|.|.|.|.|.|.|.|.|.|.|.|.|.|.|.|.|.|.|.|.|.|.|.|.|.|C|.|.|2|.|.|.|.|.|.|.|.|.|.|.|.|.|.|.|.|.|.|.|.|.|.|.|.|.|.|.|.\n",
      ".|.|1|.|.|.|.|.|.|.|.|.|.|.|.|.|.|.|.|.|.|.|.|.|.|.|.|.|.|.|.|.|.|.|.|C|.|2|.|.|.|.|.|.|.|.|.|.|.|.|.|.|.|.|.|.|.|.|.|.|.|.|.|.|.|.|.\n",
      ".|1|.|.|.|.|.|.|.|.|.|.|.|.|.|.|.|.|.|.|.|.|.|.|.|.|.|.|.|.|.|.|.|.|.|C|.|2|.|.|.|.|.|.|.|.|.|.|.|.|.|.|.|.|.|.|.|.|.|.|.|.|.|.|.|.|.\n",
      ".|1|.|.|.|.|.|.|.|.|.|.|.|.|.|.|.|.|.|.|.|.|.|.|.|.|.|.|.|.|.|.|.|.|.|C|2|.|.|.|.|.|.|.|.|.|.|.|.|.|.|.|.|.|.|.|.|.|.|.|.|.|.|.|.|.|.\n",
      "1|.|.|.|.|.|.|.|.|.|.|.|.|.|.|.|.|.|.|.|.|.|.|.|.|.|.|.|.|.|.|.|.|.|.|C|2|.|.|.|.|.|.|.|.|.|.|.|.|.|.|.|.|.|.|.|.|.|.|.|.|.|.|.|.|.|.\n",
      "1|.|.|.|.|.|.|.|.|.|.|.|.|.|.|.|.|.|.|.|.|.|.|.|.|.|.|.|.|.|.|.|.|.|.|C2|.|.|.|.|.|.|.|.|.|.|.|.|.|.|.|.|.|.|.|.|.|.|.|.|.|.|.|.|.|.|.\n",
      ".|1|.|.|.|.|.|.|.|.|.|.|.|.|.|.|.|.|.|.|.|.|.|.|.|.|.|.|.|.|.|.|.|.|.|C2|.|.|.|.|.|.|.|.|.|.|.|.|.|.|.|.|.|.|.|.|.|.|.|.|.|.|.|.|.|.|.\n",
      ".|1|.|.|.|.|.|.|.|.|.|.|.|.|.|.|.|.|.|.|.|.|.|.|.|.|.|.|.|.|.|.|.|.|.|2|.|.|.|.|.|.|.|.|.|.|.|.|.|.|.|.|.|.|.|.|.|.|.|.|.|.|.|.|.|.|.\n",
      "Episode 1: Reward = 53.0, Number of steps: 48\n",
      "=======  EPISODE END  ================\n",
      "\n",
      ".|.|.|.|.|.|.|.|.|.|.|.|.|.|.|.|.|.|C|.|.|.|.|.|.|.|.|.|.|.|.|.|.|.|.|.|.|.|.|.|.|.|.|.|.|.|.|.|.|.|.|.|.|.|.|.|.|.|2|.|.|.|.|.|.|1|.\n",
      ".|.|.|.|.|.|.|.|.|.|.|.|.|.|.|.|.|.|C|.|.|.|.|.|.|.|.|.|.|.|.|.|.|.|.|.|.|.|.|.|.|.|.|.|.|.|.|.|.|.|.|.|.|.|.|.|.|.|2|.|.|.|.|.|1|.|.\n",
      ".|.|.|.|.|.|.|.|.|.|.|.|.|.|.|.|.|.|C|.|.|.|.|.|.|.|.|.|.|.|.|.|.|.|.|.|.|.|.|.|.|.|.|.|.|.|.|.|.|.|.|.|.|.|.|.|.|2|.|.|.|.|.|.|1|.|.\n",
      ".|.|.|.|.|.|.|.|.|.|.|.|.|.|.|.|.|.|C|.|.|.|.|.|.|.|.|.|.|.|.|.|.|.|.|.|.|.|.|.|.|.|.|.|.|.|.|.|.|.|.|.|.|.|.|.|.|2|.|.|.|.|.|1|.|.|.\n",
      ".|.|.|.|.|.|.|.|.|.|.|.|.|.|.|.|.|.|C|.|.|.|.|.|.|.|.|.|.|.|.|.|.|.|.|.|.|.|.|.|.|.|.|.|.|.|.|.|.|.|.|.|.|.|.|.|2|.|.|.|.|.|.|1|.|.|.\n",
      ".|.|.|.|.|.|.|.|.|.|.|.|.|.|.|.|.|.|C|.|.|.|.|.|.|.|.|.|.|.|.|.|.|.|.|.|.|.|.|.|.|.|.|.|.|.|.|.|.|.|.|.|.|.|.|.|2|.|.|.|.|.|1|.|.|.|.\n",
      ".|.|.|.|.|.|.|.|.|.|.|.|.|.|.|.|.|.|C|.|.|.|.|.|.|.|.|.|.|.|.|.|.|.|.|.|.|.|.|.|.|.|.|.|.|.|.|.|.|.|.|.|.|.|.|2|.|.|.|.|.|.|1|.|.|.|.\n",
      ".|.|.|.|.|.|.|.|.|.|.|.|.|.|.|.|.|.|C|.|.|.|.|.|.|.|.|.|.|.|.|.|.|.|.|.|.|.|.|.|.|.|.|.|.|.|.|.|.|.|.|.|.|.|.|2|.|.|.|.|.|1|.|.|.|.|.\n",
      ".|.|.|.|.|.|.|.|.|.|.|.|.|.|.|.|.|.|C|.|.|.|.|.|.|.|.|.|.|.|.|.|.|.|.|.|.|.|.|.|.|.|.|.|.|.|.|.|.|.|.|.|.|.|2|.|.|.|.|.|.|1|.|.|.|.|.\n",
      ".|.|.|.|.|.|.|.|.|.|.|.|.|.|.|.|.|.|C|.|.|.|.|.|.|.|.|.|.|.|.|.|.|.|.|.|.|.|.|.|.|.|.|.|.|.|.|.|.|.|.|.|.|.|2|.|.|.|.|.|1|.|.|.|.|.|.\n",
      ".|.|.|.|.|.|.|.|.|.|.|.|.|.|.|.|.|.|C|.|.|.|.|.|.|.|.|.|.|.|.|.|.|.|.|.|.|.|.|.|.|.|.|.|.|.|.|.|.|.|.|.|.|2|.|.|.|.|.|.|1|.|.|.|.|.|.\n",
      ".|.|.|.|.|.|.|.|.|.|.|.|.|.|.|.|.|.|C|.|.|.|.|.|.|.|.|.|.|.|.|.|.|.|.|.|.|.|.|.|.|.|.|.|.|.|.|.|.|.|.|.|.|2|.|.|.|.|.|1|.|.|.|.|.|.|.\n",
      ".|.|.|.|.|.|.|.|.|.|.|.|.|.|.|.|.|.|C|.|.|.|.|.|.|.|.|.|.|.|.|.|.|.|.|.|.|.|.|.|.|.|.|.|.|.|.|.|.|.|.|.|2|.|.|.|.|.|.|1|.|.|.|.|.|.|.\n",
      ".|.|.|.|.|.|.|.|.|.|.|.|.|.|.|.|.|.|C|.|.|.|.|.|.|.|.|.|.|.|.|.|.|.|.|.|.|.|.|.|.|.|.|.|.|.|.|.|.|.|.|.|2|.|.|.|.|.|1|.|.|.|.|.|.|.|.\n",
      ".|.|.|.|.|.|.|.|.|.|.|.|.|.|.|.|.|.|C|.|.|.|.|.|.|.|.|.|.|.|.|.|.|.|.|.|.|.|.|.|.|.|.|.|.|.|.|.|.|.|.|2|.|.|.|.|.|.|1|.|.|.|.|.|.|.|.\n",
      ".|.|.|.|.|.|.|.|.|.|.|.|.|.|.|.|.|.|C|.|.|.|.|.|.|.|.|.|.|.|.|.|.|.|.|.|.|.|.|.|.|.|.|.|.|.|.|.|.|.|.|2|.|.|.|.|.|1|.|.|.|.|.|.|.|.|.\n",
      ".|.|.|.|.|.|.|.|.|.|.|.|.|.|.|.|.|.|C|.|.|.|.|.|.|.|.|.|.|.|.|.|.|.|.|.|.|.|.|.|.|.|.|.|.|.|.|.|.|.|2|.|.|.|.|.|.|1|.|.|.|.|.|.|.|.|.\n",
      ".|.|.|.|.|.|.|.|.|.|.|.|.|.|.|.|.|.|C|.|.|.|.|.|.|.|.|.|.|.|.|.|.|.|.|.|.|.|.|.|.|.|.|.|.|.|.|.|.|.|2|.|.|.|.|.|1|.|.|.|.|.|.|.|.|.|.\n",
      ".|.|.|.|.|.|.|.|.|.|.|.|.|.|.|.|.|.|C|.|.|.|.|.|.|.|.|.|.|.|.|.|.|.|.|.|.|.|.|.|.|.|.|.|.|.|.|.|.|2|.|.|.|.|.|.|1|.|.|.|.|.|.|.|.|.|.\n",
      ".|.|.|.|.|.|.|.|.|.|.|.|.|.|.|.|.|.|C|.|.|.|.|.|.|.|.|.|.|.|.|.|.|.|.|.|.|.|.|.|.|.|.|.|.|.|.|.|.|2|.|.|.|.|.|1|.|.|.|.|.|.|.|.|.|.|.\n",
      ".|.|.|.|.|.|.|.|.|.|.|.|.|.|.|.|.|.|C|.|.|.|.|.|.|.|.|.|.|.|.|.|.|.|.|.|.|.|.|.|.|.|.|.|.|.|.|.|2|.|.|.|.|.|.|1|.|.|.|.|.|.|.|.|.|.|.\n",
      ".|.|.|.|.|.|.|.|.|.|.|.|.|.|.|.|.|.|C|.|.|.|.|.|.|.|.|.|.|.|.|.|.|.|.|.|.|.|.|.|.|.|.|.|.|.|.|.|2|.|.|.|.|.|1|.|.|.|.|.|.|.|.|.|.|.|.\n",
      ".|.|.|.|.|.|.|.|.|.|.|.|.|.|.|.|.|.|C|.|.|.|.|.|.|.|.|.|.|.|.|.|.|.|.|.|.|.|.|.|.|.|.|.|.|.|.|2|.|.|.|.|.|.|1|.|.|.|.|.|.|.|.|.|.|.|.\n",
      ".|.|.|.|.|.|.|.|.|.|.|.|.|.|.|.|.|.|C|.|.|.|.|.|.|.|.|.|.|.|.|.|.|.|.|.|.|.|.|.|.|.|.|.|.|.|.|2|.|.|.|.|.|1|.|.|.|.|.|.|.|.|.|.|.|.|.\n",
      ".|.|.|.|.|.|.|.|.|.|.|.|.|.|.|.|.|.|C|.|.|.|.|.|.|.|.|.|.|.|.|.|.|.|.|.|.|.|.|.|.|.|.|.|.|.|2|.|.|.|.|.|.|1|.|.|.|.|.|.|.|.|.|.|.|.|.\n",
      ".|.|.|.|.|.|.|.|.|.|.|.|.|.|.|.|.|.|C|.|.|.|.|.|.|.|.|.|.|.|.|.|.|.|.|.|.|.|.|.|.|.|.|.|.|.|2|.|.|.|.|.|1|.|.|.|.|.|.|.|.|.|.|.|.|.|.\n",
      ".|.|.|.|.|.|.|.|.|.|.|.|.|.|.|.|.|.|C|.|.|.|.|.|.|.|.|.|.|.|.|.|.|.|.|.|.|.|.|.|.|.|.|.|.|2|.|.|.|.|.|.|1|.|.|.|.|.|.|.|.|.|.|.|.|.|.\n",
      ".|.|.|.|.|.|.|.|.|.|.|.|.|.|.|.|.|.|C|.|.|.|.|.|.|.|.|.|.|.|.|.|.|.|.|.|.|.|.|.|.|.|.|.|.|2|.|.|.|.|.|1|.|.|.|.|.|.|.|.|.|.|.|.|.|.|.\n",
      ".|.|.|.|.|.|.|.|.|.|.|.|.|.|.|.|.|.|C|.|.|.|.|.|.|.|.|.|.|.|.|.|.|.|.|.|.|.|.|.|.|.|.|.|2|.|.|.|.|.|.|1|.|.|.|.|.|.|.|.|.|.|.|.|.|.|.\n",
      ".|.|.|.|.|.|.|.|.|.|.|.|.|.|.|.|.|.|C|.|.|.|.|.|.|.|.|.|.|.|.|.|.|.|.|.|.|.|.|.|.|.|.|.|2|.|.|.|.|.|1|.|.|.|.|.|.|.|.|.|.|.|.|.|.|.|.\n",
      ".|.|.|.|.|.|.|.|.|.|.|.|.|.|.|.|.|.|C|.|.|.|.|.|.|.|.|.|.|.|.|.|.|.|.|.|.|.|.|.|.|.|.|2|.|.|.|.|.|.|1|.|.|.|.|.|.|.|.|.|.|.|.|.|.|.|.\n",
      ".|.|.|.|.|.|.|.|.|.|.|.|.|.|.|.|.|.|C|.|.|.|.|.|.|.|.|.|.|.|.|.|.|.|.|.|.|.|.|.|.|.|.|2|.|.|.|.|.|1|.|.|.|.|.|.|.|.|.|.|.|.|.|.|.|.|.\n",
      ".|.|.|.|.|.|.|.|.|.|.|.|.|.|.|.|.|.|C|.|.|.|.|.|.|.|.|.|.|.|.|.|.|.|.|.|.|.|.|.|.|.|2|.|.|.|.|.|.|1|.|.|.|.|.|.|.|.|.|.|.|.|.|.|.|.|.\n",
      ".|.|.|.|.|.|.|.|.|.|.|.|.|.|.|.|.|.|C|.|.|.|.|.|.|.|.|.|.|.|.|.|.|.|.|.|.|.|.|.|.|.|2|.|.|.|.|.|1|.|.|.|.|.|.|.|.|.|.|.|.|.|.|.|.|.|.\n",
      ".|.|.|.|.|.|.|.|.|.|.|.|.|.|.|.|.|.|C|.|.|.|.|.|.|.|.|.|.|.|.|.|.|.|.|.|.|.|.|.|.|2|.|.|.|.|.|.|1|.|.|.|.|.|.|.|.|.|.|.|.|.|.|.|.|.|.\n",
      ".|.|.|.|.|.|.|.|.|.|.|.|.|.|.|.|.|.|C|.|.|.|.|.|.|.|.|.|.|.|.|.|.|.|.|.|.|.|.|.|.|2|.|.|.|.|.|1|.|.|.|.|.|.|.|.|.|.|.|.|.|.|.|.|.|.|.\n",
      ".|.|.|.|.|.|.|.|.|.|.|.|.|.|.|.|.|.|C|.|.|.|.|.|.|.|.|.|.|.|.|.|.|.|.|.|.|.|.|.|2|.|.|.|.|.|.|1|.|.|.|.|.|.|.|.|.|.|.|.|.|.|.|.|.|.|.\n",
      ".|.|.|.|.|.|.|.|.|.|.|.|.|.|.|.|.|.|C|.|.|.|.|.|.|.|.|.|.|.|.|.|.|.|.|.|.|.|.|.|2|.|.|.|.|.|1|.|.|.|.|.|.|.|.|.|.|.|.|.|.|.|.|.|.|.|.\n",
      ".|.|.|.|.|.|.|.|.|.|.|.|.|.|.|.|.|.|C|.|.|.|.|.|.|.|.|.|.|.|.|.|.|.|.|.|.|.|.|2|.|.|.|.|.|.|1|.|.|.|.|.|.|.|.|.|.|.|.|.|.|.|.|.|.|.|.\n",
      ".|.|.|.|.|.|.|.|.|.|.|.|.|.|.|.|.|.|C|.|.|.|.|.|.|.|.|.|.|.|.|.|.|.|.|.|.|.|.|2|.|.|.|.|.|1|.|.|.|.|.|.|.|.|.|.|.|.|.|.|.|.|.|.|.|.|.\n",
      ".|.|.|.|.|.|.|.|.|.|.|.|.|.|.|.|.|.|C|.|.|.|.|.|.|.|.|.|.|.|.|.|.|.|.|.|.|.|2|.|.|.|.|.|.|1|.|.|.|.|.|.|.|.|.|.|.|.|.|.|.|.|.|.|.|.|.\n",
      ".|.|.|.|.|.|.|.|.|.|.|.|.|.|.|.|.|.|C|.|.|.|.|.|.|.|.|.|.|.|.|.|.|.|.|.|.|.|2|.|.|.|.|.|1|.|.|.|.|.|.|.|.|.|.|.|.|.|.|.|.|.|.|.|.|.|.\n",
      ".|.|.|.|.|.|.|.|.|.|.|.|.|.|.|.|.|.|C|.|.|.|.|.|.|.|.|.|.|.|.|.|.|.|.|.|.|2|.|.|.|.|.|.|1|.|.|.|.|.|.|.|.|.|.|.|.|.|.|.|.|.|.|.|.|.|.\n",
      ".|.|.|.|.|.|.|.|.|.|.|.|.|.|.|.|.|.|C|.|.|.|.|.|.|.|.|.|.|.|.|.|.|.|.|.|.|2|.|.|.|.|.|1|.|.|.|.|.|.|.|.|.|.|.|.|.|.|.|.|.|.|.|.|.|.|.\n",
      ".|.|.|.|.|.|.|.|.|.|.|.|.|.|.|.|.|.|C|.|.|.|.|.|.|.|.|.|.|.|.|.|.|.|.|.|2|.|.|.|.|.|.|1|.|.|.|.|.|.|.|.|.|.|.|.|.|.|.|.|.|.|.|.|.|.|.\n",
      ".|.|.|.|.|.|.|.|.|.|.|.|.|.|.|.|.|.|C|.|.|.|.|.|.|.|.|.|.|.|.|.|.|.|.|.|2|.|.|.|.|.|1|.|.|.|.|.|.|.|.|.|.|.|.|.|.|.|.|.|.|.|.|.|.|.|.\n",
      ".|.|.|.|.|.|.|.|.|.|.|.|.|.|.|.|.|.|C|.|.|.|.|.|.|.|.|.|.|.|.|.|.|.|.|2|.|.|.|.|.|.|1|.|.|.|.|.|.|.|.|.|.|.|.|.|.|.|.|.|.|.|.|.|.|.|.\n",
      ".|.|.|.|.|.|.|.|.|.|.|.|.|.|.|.|.|.|C|.|.|.|.|.|.|.|.|.|.|.|.|.|.|.|.|2|.|.|.|.|.|1|.|.|.|.|.|.|.|.|.|.|.|.|.|.|.|.|.|.|.|.|.|.|.|.|.\n",
      ".|.|.|.|.|.|.|.|.|.|.|.|.|.|.|.|.|.|C|.|.|.|.|.|.|.|.|.|.|.|.|.|.|.|2|.|.|.|.|.|.|1|.|.|.|.|.|.|.|.|.|.|.|.|.|.|.|.|.|.|.|.|.|.|.|.|.\n",
      ".|.|.|.|.|.|.|.|.|.|.|.|.|.|.|.|.|.|C|.|.|.|.|.|.|.|.|.|.|.|.|.|.|.|2|.|.|.|.|.|1|.|.|.|.|.|.|.|.|.|.|.|.|.|.|.|.|.|.|.|.|.|.|.|.|.|.\n",
      ".|.|.|.|.|.|.|.|.|.|.|.|.|.|.|.|.|.|C|.|.|.|.|.|.|.|.|.|.|.|.|.|.|2|.|.|.|.|.|.|1|.|.|.|.|.|.|.|.|.|.|.|.|.|.|.|.|.|.|.|.|.|.|.|.|.|.\n",
      ".|.|.|.|.|.|.|.|.|.|.|.|.|.|.|.|.|.|C|.|.|.|.|.|.|.|.|.|.|.|.|.|.|2|.|.|.|.|.|1|.|.|.|.|.|.|.|.|.|.|.|.|.|.|.|.|.|.|.|.|.|.|.|.|.|.|.\n",
      ".|.|.|.|.|.|.|.|.|.|.|.|.|.|.|.|.|.|C|.|.|.|.|.|.|.|.|.|.|.|.|.|2|.|.|.|.|.|.|1|.|.|.|.|.|.|.|.|.|.|.|.|.|.|.|.|.|.|.|.|.|.|.|.|.|.|.\n",
      ".|.|.|.|.|.|.|.|.|.|.|.|.|.|.|.|.|.|C|.|.|.|.|.|.|.|.|.|.|.|.|.|2|.|.|.|.|.|1|.|.|.|.|.|.|.|.|.|.|.|.|.|.|.|.|.|.|.|.|.|.|.|.|.|.|.|.\n",
      ".|.|.|.|.|.|.|.|.|.|.|.|.|.|.|.|.|.|C|.|.|.|.|.|.|.|.|.|.|.|.|2|.|.|.|.|.|.|1|.|.|.|.|.|.|.|.|.|.|.|.|.|.|.|.|.|.|.|.|.|.|.|.|.|.|.|.\n",
      ".|.|.|.|.|.|.|.|.|.|.|.|.|.|.|.|.|.|C|.|.|.|.|.|.|.|.|.|.|.|.|2|.|.|.|.|.|1|.|.|.|.|.|.|.|.|.|.|.|.|.|.|.|.|.|.|.|.|.|.|.|.|.|.|.|.|.\n",
      ".|.|.|.|.|.|.|.|.|.|.|.|.|.|.|.|.|.|C|.|.|.|.|.|.|.|.|.|.|.|2|.|.|.|.|.|.|1|.|.|.|.|.|.|.|.|.|.|.|.|.|.|.|.|.|.|.|.|.|.|.|.|.|.|.|.|.\n",
      ".|.|.|.|.|.|.|.|.|.|.|.|.|.|.|.|.|.|C|.|.|.|.|.|.|.|.|.|.|.|2|.|.|.|.|.|1|.|.|.|.|.|.|.|.|.|.|.|.|.|.|.|.|.|.|.|.|.|.|.|.|.|.|.|.|.|.\n",
      ".|.|.|.|.|.|.|.|.|.|.|.|.|.|.|.|.|.|C|.|.|.|.|.|.|.|.|.|.|2|.|.|.|.|.|.|1|.|.|.|.|.|.|.|.|.|.|.|.|.|.|.|.|.|.|.|.|.|.|.|.|.|.|.|.|.|.\n",
      ".|.|.|.|.|.|.|.|.|.|.|.|.|.|.|.|.|.|C|.|.|.|.|.|.|.|.|.|.|2|.|.|.|.|.|1|.|.|.|.|.|.|.|.|.|.|.|.|.|.|.|.|.|.|.|.|.|.|.|.|.|.|.|.|.|.|.\n",
      ".|.|.|.|.|.|.|.|.|.|.|.|.|.|.|.|.|.|C|.|.|.|.|.|.|.|.|.|2|.|.|.|.|.|.|1|.|.|.|.|.|.|.|.|.|.|.|.|.|.|.|.|.|.|.|.|.|.|.|.|.|.|.|.|.|.|.\n",
      ".|.|.|.|.|.|.|.|.|.|.|.|.|.|.|.|.|.|C|.|.|.|.|.|.|.|.|.|2|.|.|.|.|.|1|.|.|.|.|.|.|.|.|.|.|.|.|.|.|.|.|.|.|.|.|.|.|.|.|.|.|.|.|.|.|.|.\n",
      ".|.|.|.|.|.|.|.|.|.|.|.|.|.|.|.|.|.|C|.|.|.|.|.|.|.|.|2|.|.|.|.|.|.|1|.|.|.|.|.|.|.|.|.|.|.|.|.|.|.|.|.|.|.|.|.|.|.|.|.|.|.|.|.|.|.|.\n",
      ".|.|.|.|.|.|.|.|.|.|.|.|.|.|.|.|.|.|C|.|.|.|.|.|.|.|.|2|.|.|.|.|.|1|.|.|.|.|.|.|.|.|.|.|.|.|.|.|.|.|.|.|.|.|.|.|.|.|.|.|.|.|.|.|.|.|.\n",
      ".|.|.|.|.|.|.|.|.|.|.|.|.|.|.|.|.|.|C|.|.|.|.|.|.|.|2|.|.|.|.|.|.|1|.|.|.|.|.|.|.|.|.|.|.|.|.|.|.|.|.|.|.|.|.|.|.|.|.|.|.|.|.|.|.|.|.\n",
      ".|.|.|.|.|.|.|.|.|.|.|.|.|.|.|.|.|.|C|.|.|.|.|.|.|.|2|.|.|.|.|.|1|.|.|.|.|.|.|.|.|.|.|.|.|.|.|.|.|.|.|.|.|.|.|.|.|.|.|.|.|.|.|.|.|.|.\n",
      ".|.|.|.|.|.|.|.|.|.|.|.|.|.|.|.|.|.|C|.|.|.|.|.|.|2|.|.|.|.|.|.|1|.|.|.|.|.|.|.|.|.|.|.|.|.|.|.|.|.|.|.|.|.|.|.|.|.|.|.|.|.|.|.|.|.|.\n",
      ".|.|.|.|.|.|.|.|.|.|.|.|.|.|.|.|.|.|C|.|.|.|.|.|.|2|.|.|.|.|.|1|.|.|.|.|.|.|.|.|.|.|.|.|.|.|.|.|.|.|.|.|.|.|.|.|.|.|.|.|.|.|.|.|.|.|.\n",
      ".|.|.|.|.|.|.|.|.|.|.|.|.|.|.|.|.|.|C|.|.|.|.|.|2|.|.|.|.|.|.|1|.|.|.|.|.|.|.|.|.|.|.|.|.|.|.|.|.|.|.|.|.|.|.|.|.|.|.|.|.|.|.|.|.|.|.\n",
      ".|.|.|.|.|.|.|.|.|.|.|.|.|.|.|.|.|.|C|.|.|.|.|.|2|.|.|.|.|.|1|.|.|.|.|.|.|.|.|.|.|.|.|.|.|.|.|.|.|.|.|.|.|.|.|.|.|.|.|.|.|.|.|.|.|.|.\n",
      ".|.|.|.|.|.|.|.|.|.|.|.|.|.|.|.|.|.|C|.|.|.|.|2|.|.|.|.|.|.|1|.|.|.|.|.|.|.|.|.|.|.|.|.|.|.|.|.|.|.|.|.|.|.|.|.|.|.|.|.|.|.|.|.|.|.|.\n",
      ".|.|.|.|.|.|.|.|.|.|.|.|.|.|.|.|.|.|C|.|.|.|.|2|.|.|.|.|.|1|.|.|.|.|.|.|.|.|.|.|.|.|.|.|.|.|.|.|.|.|.|.|.|.|.|.|.|.|.|.|.|.|.|.|.|.|.\n",
      ".|.|.|.|.|.|.|.|.|.|.|.|.|.|.|.|.|.|C|.|.|.|2|.|.|.|.|.|.|1|.|.|.|.|.|.|.|.|.|.|.|.|.|.|.|.|.|.|.|.|.|.|.|.|.|.|.|.|.|.|.|.|.|.|.|.|.\n",
      ".|.|.|.|.|.|.|.|.|.|.|.|.|.|.|.|.|.|C|.|.|.|2|.|.|.|.|.|1|.|.|.|.|.|.|.|.|.|.|.|.|.|.|.|.|.|.|.|.|.|.|.|.|.|.|.|.|.|.|.|.|.|.|.|.|.|.\n",
      ".|.|.|.|.|.|.|.|.|.|.|.|.|.|.|.|.|.|C|.|.|2|.|.|.|.|.|.|1|.|.|.|.|.|.|.|.|.|.|.|.|.|.|.|.|.|.|.|.|.|.|.|.|.|.|.|.|.|.|.|.|.|.|.|.|.|.\n",
      ".|.|.|.|.|.|.|.|.|.|.|.|.|.|.|.|.|.|C|.|.|2|.|.|.|.|.|1|.|.|.|.|.|.|.|.|.|.|.|.|.|.|.|.|.|.|.|.|.|.|.|.|.|.|.|.|.|.|.|.|.|.|.|.|.|.|.\n",
      ".|.|.|.|.|.|.|.|.|.|.|.|.|.|.|.|.|.|C|.|2|.|.|.|.|.|.|1|.|.|.|.|.|.|.|.|.|.|.|.|.|.|.|.|.|.|.|.|.|.|.|.|.|.|.|.|.|.|.|.|.|.|.|.|.|.|.\n",
      ".|.|.|.|.|.|.|.|.|.|.|.|.|.|.|.|.|.|C|.|2|.|.|.|.|.|1|.|.|.|.|.|.|.|.|.|.|.|.|.|.|.|.|.|.|.|.|.|.|.|.|.|.|.|.|.|.|.|.|.|.|.|.|.|.|.|.\n",
      ".|.|.|.|.|.|.|.|.|.|.|.|.|.|.|.|.|.|C|2|.|.|.|.|.|.|1|.|.|.|.|.|.|.|.|.|.|.|.|.|.|.|.|.|.|.|.|.|.|.|.|.|.|.|.|.|.|.|.|.|.|.|.|.|.|.|.\n",
      ".|.|.|.|.|.|.|.|.|.|.|.|.|.|.|.|.|.|C|2|.|.|.|.|.|1|.|.|.|.|.|.|.|.|.|.|.|.|.|.|.|.|.|.|.|.|.|.|.|.|.|.|.|.|.|.|.|.|.|.|.|.|.|.|.|.|.\n",
      ".|.|.|.|.|.|.|.|.|.|.|.|.|.|.|.|.|.|C2|.|.|.|.|.|.|1|.|.|.|.|.|.|.|.|.|.|.|.|.|.|.|.|.|.|.|.|.|.|.|.|.|.|.|.|.|.|.|.|.|.|.|.|.|.|.|.|.\n",
      ".|.|.|.|.|.|.|.|.|.|.|.|.|.|.|.|.|.|C2|.|.|.|.|.|1|.|.|.|.|.|.|.|.|.|.|.|.|.|.|.|.|.|.|.|.|.|.|.|.|.|.|.|.|.|.|.|.|.|.|.|.|.|.|.|.|.|.\n",
      ".|.|.|.|.|.|.|.|.|.|.|.|.|.|.|.|.|.|2|.|.|.|.|.|1|.|.|.|.|.|.|.|.|.|.|.|.|.|.|.|.|.|.|.|.|.|.|.|.|.|.|.|.|.|.|.|.|.|.|.|.|.|.|.|.|.|.\n",
      "Episode 2: Reward = 18.0, Number of steps: 83\n",
      "=======  EPISODE END  ================\n",
      "\n",
      ".|.|.|.|.|.|.|.|.|.|.|.|.|.|.|C1|.|.|.|.|.|2|.|.|.|.|.|.|.|.|.|.|.|.|.|.|.|.|.|.|.|.|.|.|.|.|.|.|.|.|.|.|.|.|.|.|.|.|.|.|.|.|.|.|.|.|.\n",
      ".|.|.|.|.|.|.|.|.|.|.|.|.|.|.|C1|.|.|.|.|2|.|.|.|.|.|.|.|.|.|.|.|.|.|.|.|.|.|.|.|.|.|.|.|.|.|.|.|.|.|.|.|.|.|.|.|.|.|.|.|.|.|.|.|.|.|.\n",
      ".|.|.|.|.|.|.|.|.|.|.|.|.|.|.|1|.|.|.|.|2|.|.|.|.|.|.|.|.|.|.|.|.|.|.|.|.|.|.|.|.|.|.|.|.|.|.|.|.|.|.|.|.|.|.|.|.|.|.|.|.|.|.|.|.|.|.\n",
      "Episode 3: Reward = 98.0, Number of steps: 3\n",
      "=======  EPISODE END  ================\n",
      "\n",
      "Average Reward over 3 episodes: 56.333333333333336\n"
     ]
    }
   ],
   "source": [
    "runner.eval(num_episodes=3, episode_length=300, deterministic=True, verbose=False, verbose_render=True)"
   ]
  },
  {
   "cell_type": "code",
   "execution_count": null,
   "id": "5c42a167-29a0-4fee-a0b2-1ec3bc3592f0",
   "metadata": {},
   "outputs": [],
   "source": []
  },
  {
   "cell_type": "code",
   "execution_count": null,
   "id": "6d60a932-974d-4934-88da-9086bc1818bb",
   "metadata": {},
   "outputs": [],
   "source": []
  },
  {
   "cell_type": "code",
   "execution_count": 10,
   "id": "d994b175-ee69-4614-850e-13fec10be892",
   "metadata": {
    "tags": []
   },
   "outputs": [
    {
     "name": "stdout",
     "output_type": "stream",
     "text": [
      "{'robot_1': 0, 'robot_2': 2}\n",
      "robot_1 {'walls': [1, 0], 'coin': [0, 0, 1], 'another_robot': [0, 0], 'is coin collected': 0, 'found walls': [1, 0], 'found agents': [0, 0], 'your turn': 0, 'avail.actions': array([1, 0, 0, 0, 0]), 'share_obs': array([1, 1, 0, 0, 0, 1, 0, 0, 1, 1, 0, 0])}\n",
      "robot_2 {'walls': [0, 1], 'coin': [1, 0, 0], 'another_robot': [0, 0], 'is coin collected': 0, 'found walls': [0, 1], 'found agents': [0, 0], 'your turn': 1, 'avail.actions': array([0, 1, 1, 0, 0]), 'share_obs': array([1, 1, 0, 0, 0, 1, 0, 0, 1, 1, 0, 0])}\n"
     ]
    }
   ],
   "source": [
    "env = CorridorMultiAgentEnv(3, 2)\n",
    "\n",
    "obs, share_obs, av, info = env.reset()\n",
    "print(env.robot_position)\n",
    "for ag in info:\n",
    "    print(ag, info[ag])\n"
   ]
  },
  {
   "cell_type": "code",
   "execution_count": 11,
   "id": "1d6384e6-de83-402f-9f81-3a9f699b5d4f",
   "metadata": {
    "tags": []
   },
   "outputs": [
    {
     "data": {
      "text/plain": [
       "array([[1, 0, 0, 0, 0],\n",
       "       [0, 1, 1, 0, 0]])"
      ]
     },
     "execution_count": 11,
     "metadata": {},
     "output_type": "execute_result"
    }
   ],
   "source": [
    "obs, share_obs, available_actions, info = env.reset()\n",
    "available_actions"
   ]
  },
  {
   "cell_type": "code",
   "execution_count": null,
   "id": "d65de57c-22f9-44a9-8328-001007827bd6",
   "metadata": {},
   "outputs": [],
   "source": []
  },
  {
   "cell_type": "code",
   "execution_count": 12,
   "id": "41fbbec1-559f-4cff-9838-311ef1fb6756",
   "metadata": {
    "tags": []
   },
   "outputs": [
    {
     "ename": "TypeError",
     "evalue": "unhashable type: 'numpy.ndarray'",
     "output_type": "error",
     "traceback": [
      "\u001b[0;31m---------------------------------------------------------------------------\u001b[0m",
      "\u001b[0;31mTypeError\u001b[0m                                 Traceback (most recent call last)",
      "Cell \u001b[0;32mIn[12], line 11\u001b[0m\n\u001b[1;32m      9\u001b[0m     mask \u001b[38;5;241m=\u001b[39m available_actions[agent_id]\n\u001b[1;32m     10\u001b[0m     av_act_agent \u001b[38;5;241m=\u001b[39m np\u001b[38;5;241m.\u001b[39mwhere(np\u001b[38;5;241m.\u001b[39marray(mask)\u001b[38;5;241m==\u001b[39m\u001b[38;5;241m1\u001b[39m)[\u001b[38;5;241m0\u001b[39m]\n\u001b[0;32m---> 11\u001b[0m     action_dict[agent_id] \u001b[38;5;241m=\u001b[39m action \u001b[38;5;241m=\u001b[39m np\u001b[38;5;241m.\u001b[39mrandom\u001b[38;5;241m.\u001b[39mchoice(av_act_agent)\n\u001b[1;32m     13\u001b[0m obs, share_obs, available_actions, rewards, done, info \u001b[38;5;241m=\u001b[39m env\u001b[38;5;241m.\u001b[39mstep(action_dict)\n\u001b[1;32m     14\u001b[0m rewards_cum[\u001b[38;5;124m'\u001b[39m\u001b[38;5;124mrobot_1\u001b[39m\u001b[38;5;124m'\u001b[39m] \u001b[38;5;241m+\u001b[39m\u001b[38;5;241m=\u001b[39m rewards[\u001b[38;5;124m'\u001b[39m\u001b[38;5;124mrobot_1\u001b[39m\u001b[38;5;124m'\u001b[39m]\n",
      "\u001b[0;31mTypeError\u001b[0m: unhashable type: 'numpy.ndarray'"
     ]
    }
   ],
   "source": [
    "done = False\n",
    "obs, share_obs, available_actions, info = env.reset()\n",
    "rewards_cum = {'robot_1': 0, 'robot_2': 0}\n",
    "while not done:\n",
    "    \n",
    "    # choose actions\n",
    "    action_dict = {}\n",
    "    for agent_id in available_actions:\n",
    "        mask = available_actions[agent_id]\n",
    "        av_act_agent = np.where(np.array(mask)==1)[0]\n",
    "        action_dict[agent_id] = action = np.random.choice(av_act_agent)\n",
    "    \n",
    "    obs, share_obs, available_actions, rewards, done, info = env.step(action_dict)\n",
    "    rewards_cum['robot_1'] += rewards['robot_1']\n",
    "    rewards_cum['robot_2'] += rewards['robot_2']\n",
    "    \n",
    "        \n",
    "    \n",
    "    \n",
    "    \n"
   ]
  },
  {
   "cell_type": "code",
   "execution_count": null,
   "id": "5faa3420-6e14-4042-99de-40a03281dff3",
   "metadata": {
    "tags": []
   },
   "outputs": [],
   "source": [
    "info"
   ]
  },
  {
   "cell_type": "code",
   "execution_count": null,
   "id": "41bbc40b-6f59-4126-96e8-eee82034cd5a",
   "metadata": {
    "tags": []
   },
   "outputs": [],
   "source": [
    "action_dict = {}\n",
    "for agent_id in available_actions:\n",
    "    mask = available_actions[agent_id]\n",
    "    av_act_agent = np.where(np.array(mask)==1)[0]\n",
    "    action_dict[agent_id] = action = np.random.choice(av_act_agent)\n",
    "action_dict"
   ]
  },
  {
   "cell_type": "code",
   "execution_count": null,
   "id": "de3104b6-ce9e-402e-9b37-a889ed48147e",
   "metadata": {},
   "outputs": [],
   "source": []
  },
  {
   "cell_type": "code",
   "execution_count": null,
   "id": "05134976-4698-42bb-bb9d-ea354e7fe014",
   "metadata": {},
   "outputs": [],
   "source": []
  }
 ],
 "metadata": {
  "kernelspec": {
   "display_name": "Python 3 (ipykernel)",
   "language": "python",
   "name": "python3"
  },
  "language_info": {
   "codemirror_mode": {
    "name": "ipython",
    "version": 3
   },
   "file_extension": ".py",
   "mimetype": "text/x-python",
   "name": "python",
   "nbconvert_exporter": "python",
   "pygments_lexer": "ipython3",
   "version": "3.11.0"
  }
 },
 "nbformat": 4,
 "nbformat_minor": 5
}
