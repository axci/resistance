{
 "cells": [
  {
   "cell_type": "code",
   "execution_count": 1,
   "id": "46f0d759-f0d0-4c19-8ef3-62fcb699c02d",
   "metadata": {
    "tags": []
   },
   "outputs": [],
   "source": [
    "from env.res_env_evil import ResistanceEvilEnv\n",
    "import numpy as np"
   ]
  },
  {
   "cell_type": "code",
   "execution_count": 2,
   "id": "bb69e47a-6c12-45be-8968-0ad9b1b06ba7",
   "metadata": {
    "tags": []
   },
   "outputs": [],
   "source": [
    "env = ResistanceEvilEnv()\n"
   ]
  },
  {
   "cell_type": "code",
   "execution_count": 3,
   "id": "533c07ff-93b5-4801-9c48-9befce8f411a",
   "metadata": {
    "tags": []
   },
   "outputs": [
    {
     "data": {
      "text/plain": [
       "['player_1', 'player_3']"
      ]
     },
     "execution_count": 3,
     "metadata": {},
     "output_type": "execute_result"
    }
   ],
   "source": [
    "obs_array, share_obs, available_actions_array, info = env.reset()\n",
    "env.evil_players"
   ]
  },
  {
   "cell_type": "code",
   "execution_count": 4,
   "id": "83fa04b9-d12a-4cce-baa0-ddec3c857067",
   "metadata": {
    "tags": []
   },
   "outputs": [
    {
     "data": {
      "text/plain": [
       "[1, 0, 1, 0, 0]"
      ]
     },
     "execution_count": 4,
     "metadata": {},
     "output_type": "execute_result"
    }
   ],
   "source": [
    "env._get_knowledge()"
   ]
  },
  {
   "cell_type": "code",
   "execution_count": 5,
   "id": "aed13e17-7b38-4e1d-b0e5-a32594f3572a",
   "metadata": {
    "tags": []
   },
   "outputs": [
    {
     "data": {
      "text/plain": [
       "array([1, 0, 0, 0, 0, 1, 0, 0, 0, 0, 0, 0, 0, 0, 0, 0, 0, 0, 0, 0, 0, 0,\n",
       "       0, 0, 0, 0, 0, 0, 0, 0, 0, 0, 0, 0, 0, 0, 0, 0, 0, 0, 0, 0, 0, 0,\n",
       "       0, 0, 0, 0, 0, 0, 0, 0, 0, 0, 0, 0, 0, 0, 0, 0, 0, 0, 0, 0, 0, 0,\n",
       "       0, 0, 0, 0, 0, 0, 0, 0, 0, 0, 0, 0, 0, 0, 0, 0, 0, 0, 0, 0, 0, 0,\n",
       "       0, 0, 0, 0, 0, 0, 0, 0, 0, 0, 0, 0, 0, 0, 0, 0, 0, 0, 0, 0, 0, 0,\n",
       "       0, 0, 0, 0, 0, 0, 0, 0, 0, 0, 0, 0, 0, 0, 0, 0, 0, 0, 0, 0, 0, 0,\n",
       "       0, 0, 0, 0, 0, 0, 0, 0, 0, 0, 0, 0, 0, 0, 0, 0, 0, 0, 0, 0, 0, 0,\n",
       "       0, 0, 0, 0, 0, 0, 0, 0, 0, 0, 0, 0, 0, 0, 0, 0, 0, 0, 0, 0, 0, 0,\n",
       "       0, 0, 0, 0, 0, 0, 0, 0, 0, 0, 0, 0, 0, 0, 0, 0, 0, 0, 0, 0, 0, 0,\n",
       "       0, 0, 0, 0, 0, 0, 0, 0, 0, 0, 0, 0, 0, 0, 0, 0, 0, 0, 0, 0, 0, 0,\n",
       "       0, 0, 0, 0, 0, 0, 0, 0, 0, 0, 0, 0, 0, 0, 0, 0, 0, 0, 0, 0, 0, 0,\n",
       "       0, 0, 0, 0, 0, 0, 0, 0, 0, 0, 0, 0, 0, 0, 0, 0, 0, 0, 0, 0, 0, 0,\n",
       "       0, 0, 0, 0, 0, 0, 0, 0, 0, 0, 0, 0, 0, 0, 0, 0, 0, 0, 0, 0, 0, 0,\n",
       "       0, 0, 0, 0, 0, 0, 0, 0, 0, 0, 0, 0, 0, 0, 0, 0, 0, 0, 0, 0, 0, 0,\n",
       "       0, 0, 0, 0, 0, 0, 0, 0, 0, 0, 0, 0, 0, 0, 0, 0, 0, 0, 0, 0, 0, 0,\n",
       "       0, 0, 0, 0, 0, 0, 0, 0, 0, 0, 0, 0, 0, 0, 0, 0, 0, 0, 0, 0, 0, 0,\n",
       "       0, 0, 0, 0, 0, 0, 0, 0, 0, 0, 0, 0, 0, 0, 0, 0, 0, 0, 0, 0, 0, 0,\n",
       "       0, 0, 0, 0, 0, 0, 0, 0, 0, 0, 0, 0, 0, 0, 0, 0, 0, 0, 0, 0, 0, 0,\n",
       "       0, 0, 0, 0, 0, 0, 0, 0, 0, 0, 0, 0, 0, 0, 0, 0, 0, 0, 0, 1, 0, 1,\n",
       "       0, 0])"
      ]
     },
     "execution_count": 5,
     "metadata": {},
     "output_type": "execute_result"
    }
   ],
   "source": [
    "share_obs"
   ]
  },
  {
   "cell_type": "code",
   "execution_count": null,
   "id": "6a2179b9-f80f-432b-9a33-508c476cb5d6",
   "metadata": {
    "tags": []
   },
   "outputs": [],
   "source": []
  },
  {
   "cell_type": "code",
   "execution_count": null,
   "id": "e08edd70-9391-4711-b158-7f04526130d5",
   "metadata": {
    "tags": []
   },
   "outputs": [],
   "source": []
  },
  {
   "cell_type": "code",
   "execution_count": null,
   "id": "8c950b56-79eb-4806-8147-e555adfceb00",
   "metadata": {
    "tags": []
   },
   "outputs": [],
   "source": []
  },
  {
   "cell_type": "code",
   "execution_count": 6,
   "id": "2816c7d7-9bfa-4eac-ab1c-c5d89033ef99",
   "metadata": {
    "tags": []
   },
   "outputs": [
    {
     "data": {
      "text/plain": [
       "False"
      ]
     },
     "execution_count": 6,
     "metadata": {},
     "output_type": "execute_result"
    }
   ],
   "source": [
    "action_dict = {\n",
    "    'player_1': 0,\n",
    "    'player_3': 1,\n",
    "    'player_5': 0\n",
    "}\n",
    "sum(action_dict.values())  == False"
   ]
  },
  {
   "cell_type": "code",
   "execution_count": 7,
   "id": "a270c257-fb3c-4927-8a9f-50c429021cd8",
   "metadata": {
    "tags": []
   },
   "outputs": [
    {
     "ename": "NameError",
     "evalue": "name 'obs' is not defined",
     "output_type": "error",
     "traceback": [
      "\u001b[0;31m---------------------------------------------------------------------------\u001b[0m",
      "\u001b[0;31mNameError\u001b[0m                                 Traceback (most recent call last)",
      "Cell \u001b[0;32mIn[7], line 1\u001b[0m\n\u001b[0;32m----> 1\u001b[0m obs\u001b[38;5;241m.\u001b[39mshape\n",
      "\u001b[0;31mNameError\u001b[0m: name 'obs' is not defined"
     ]
    }
   ],
   "source": [
    "obs.shape"
   ]
  },
  {
   "cell_type": "code",
   "execution_count": null,
   "id": "4d4fd0e4-7af0-4e25-9677-2c0bc26b9e8b",
   "metadata": {
    "tags": []
   },
   "outputs": [],
   "source": [
    "len(env.history['round 0']['attempt 1'])"
   ]
  },
  {
   "cell_type": "code",
   "execution_count": null,
   "id": "5547d279-df73-4a38-8bee-83ca6e21f158",
   "metadata": {
    "tags": []
   },
   "outputs": [],
   "source": [
    "env.phase_0([1,1, 0,0,0], verbose=True)"
   ]
  },
  {
   "cell_type": "code",
   "execution_count": null,
   "id": "8cc89072-6f19-436d-8ab9-02533cc61675",
   "metadata": {
    "tags": []
   },
   "outputs": [],
   "source": [
    "#env.history"
   ]
  },
  {
   "cell_type": "code",
   "execution_count": null,
   "id": "6a754f9e-09cb-4fb0-81c5-048b447524cf",
   "metadata": {
    "tags": []
   },
   "outputs": [],
   "source": [
    "obs, av, info = env.reset()\n",
    "env.leader"
   ]
  },
  {
   "cell_type": "code",
   "execution_count": null,
   "id": "23f661e0-8d7d-4fa1-8d6a-c988a99fe81f",
   "metadata": {
    "tags": []
   },
   "outputs": [],
   "source": [
    "env.good_players"
   ]
  },
  {
   "cell_type": "code",
   "execution_count": null,
   "id": "4a1a6b00-3f5e-4fcf-8ce5-bf2b9cf1c34e",
   "metadata": {
    "tags": []
   },
   "outputs": [],
   "source": [
    "action_dict = {\n",
    "    'player_1': 0,\n",
    "    'player_3': 0,\n",
    "    'player_5': 0,\n",
    "}"
   ]
  },
  {
   "cell_type": "code",
   "execution_count": null,
   "id": "ec08db94-a85b-4921-bd41-174125f18edb",
   "metadata": {
    "tags": []
   },
   "outputs": [],
   "source": [
    "env.step(action_dict,verbose=True)"
   ]
  },
  {
   "cell_type": "code",
   "execution_count": null,
   "id": "8a930e28-8397-49af-891a-349de60a53bd",
   "metadata": {
    "tags": []
   },
   "outputs": [],
   "source": [
    "env.quest_team"
   ]
  },
  {
   "cell_type": "code",
   "execution_count": null,
   "id": "fead9015-87b2-4421-a65c-11ae1c86aa01",
   "metadata": {
    "tags": []
   },
   "outputs": [],
   "source": [
    "action_dict = {\n",
    "    'player_1': 22,\n",
    "    'player_4': 22,\n",
    "    'player_5': 22,\n",
    "}\n",
    "env.step(action_dict,verbose=True)"
   ]
  },
  {
   "cell_type": "code",
   "execution_count": null,
   "id": "981fd86e-2cac-4525-9653-2eea5a9f054a",
   "metadata": {
    "tags": []
   },
   "outputs": [],
   "source": [
    "env.leader\n",
    "#env.good_players"
   ]
  },
  {
   "cell_type": "code",
   "execution_count": null,
   "id": "f7562b20-24b0-4635-81f5-6b4ae0836004",
   "metadata": {
    "tags": []
   },
   "outputs": [],
   "source": [
    "action_dict = {\n",
    "    'player_3': 0,\n",
    "    'player_1': 0,\n",
    "    'player_5': 0,\n",
    "}\n",
    "env.step(action_dict,verbose=True)"
   ]
  },
  {
   "cell_type": "code",
   "execution_count": null,
   "id": "7c86c26a-7e35-461b-9c17-60d6c966fd77",
   "metadata": {
    "tags": []
   },
   "outputs": [],
   "source": []
  },
  {
   "cell_type": "code",
   "execution_count": null,
   "id": "dd0aafce-63a0-42f1-8703-7092fd07d118",
   "metadata": {},
   "outputs": [],
   "source": []
  },
  {
   "cell_type": "code",
   "execution_count": null,
   "id": "04a15f3c-b0ae-4990-be1c-f3ad05f7fec6",
   "metadata": {
    "tags": []
   },
   "outputs": [],
   "source": [
    "action_dict = {\n",
    "    'player_1': 21,\n",
    "    'player_3': 21,\n",
    "    'player_5': 21,\n",
    "}\n",
    "env.step(action_dict,verbose=True)"
   ]
  },
  {
   "cell_type": "code",
   "execution_count": null,
   "id": "f2e575e9-13e7-4594-bd60-50975e9a4694",
   "metadata": {
    "tags": []
   },
   "outputs": [],
   "source": [
    "env.phase"
   ]
  },
  {
   "cell_type": "code",
   "execution_count": null,
   "id": "aa1e872f-5c62-4b92-8eb8-eda90f9a0f04",
   "metadata": {
    "tags": []
   },
   "outputs": [],
   "source": []
  },
  {
   "cell_type": "code",
   "execution_count": null,
   "id": "a48dd701-0f61-46c4-a1a9-9c05c8c78797",
   "metadata": {
    "tags": []
   },
   "outputs": [],
   "source": [
    "env.quest_team"
   ]
  },
  {
   "cell_type": "code",
   "execution_count": null,
   "id": "cf309ef4-1f7f-4959-ac6d-e02cacb46585",
   "metadata": {
    "tags": []
   },
   "outputs": [],
   "source": [
    "len(env._get_obs('player_1'))"
   ]
  },
  {
   "cell_type": "code",
   "execution_count": null,
   "id": "f6797954-5f5b-4ba1-926b-4adbff9e47bd",
   "metadata": {
    "tags": []
   },
   "outputs": [],
   "source": [
    "def _get_available_actions(agent_id) -> np.ndarray:\n",
    "    mask = [0] * 24\n",
    "    agent_idx = int(agent_id[-1]) - 1  # 0 for player_1   \n",
    "    if leader == agent_id and phase == 0:\n",
    "        mask[1:21] = [1] * 20\n",
    "    elif phase == 1:\n",
    "        mask[21:23] = [1] * 2\n",
    "    elif phase == 2 and env.quest_team[agent_idx]:\n",
    "        mask[23] = 1\n",
    "    else:\n",
    "        mask[0] = 1\n",
    "    return mask"
   ]
  },
  {
   "cell_type": "code",
   "execution_count": null,
   "id": "fada1d14-9484-41b3-9242-58543926b391",
   "metadata": {
    "tags": []
   },
   "outputs": [],
   "source": [
    "leader = 'player 1'\n",
    "phase = 2\n",
    "_get_available_actions('player 2')"
   ]
  },
  {
   "cell_type": "code",
   "execution_count": null,
   "id": "78421495-2e22-4006-90c7-ae3ea634fbfe",
   "metadata": {
    "tags": []
   },
   "outputs": [],
   "source": [
    "mask = [0] * 24\n",
    "mask\n",
    "mask[1:21] = 1"
   ]
  },
  {
   "cell_type": "code",
   "execution_count": null,
   "id": "68165b75-d05d-46df-aa8b-59fb09d4f154",
   "metadata": {
    "tags": []
   },
   "outputs": [],
   "source": [
    "env.quest_team"
   ]
  },
  {
   "cell_type": "code",
   "execution_count": null,
   "id": "0d460134-ec6e-4f9c-b638-58302c74654e",
   "metadata": {},
   "outputs": [],
   "source": []
  }
 ],
 "metadata": {
  "kernelspec": {
   "display_name": "Python 3 (ipykernel)",
   "language": "python",
   "name": "python3"
  },
  "language_info": {
   "codemirror_mode": {
    "name": "ipython",
    "version": 3
   },
   "file_extension": ".py",
   "mimetype": "text/x-python",
   "name": "python",
   "nbconvert_exporter": "python",
   "pygments_lexer": "ipython3",
   "version": "3.11.0"
  }
 },
 "nbformat": 4,
 "nbformat_minor": 5
}
